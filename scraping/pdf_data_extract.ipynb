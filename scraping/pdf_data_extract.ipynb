{
 "cells": [
  {
   "cell_type": "code",
   "execution_count": 41,
   "id": "f9ef9363-310f-4086-835e-73793ae5f327",
   "metadata": {},
   "outputs": [],
   "source": [
    "import textract\n",
    "import json"
   ]
  },
  {
   "cell_type": "code",
   "execution_count": 7,
   "id": "a734bcd3-a9ee-4a6f-aadd-a858e9bf7963",
   "metadata": {},
   "outputs": [],
   "source": [
    "binary_text = textract.process(\"sample_minutes.pdf\")"
   ]
  },
  {
   "cell_type": "code",
   "execution_count": 8,
   "id": "46d3b9de-bc9f-4ed5-8c23-835d561fbb3d",
   "metadata": {},
   "outputs": [],
   "source": [
    "text = binary_text.decode(\"utf-8\")"
   ]
  },
  {
   "cell_type": "code",
   "execution_count": 19,
   "id": "9b8abc7f-ca6f-4d65-9ed6-e42cc88c4b99",
   "metadata": {
    "tags": []
   },
   "outputs": [],
   "source": [
    "# I need to remove the page numbers, and those lines that have a), b), etc on them since these are out of order and confusing\n",
    "_lines = text.split(\"\\n\")"
   ]
  },
  {
   "cell_type": "code",
   "execution_count": 28,
   "id": "812df061-8211-42cc-97b2-b19c99211153",
   "metadata": {},
   "outputs": [],
   "source": [
    "_lines_to_remove = [str(x) for x in range(100)] + [\"\\x0c\"]\n",
    "lines_to_remove = set(_lines_to_remove)"
   ]
  },
  {
   "cell_type": "code",
   "execution_count": 37,
   "id": "9e4758ec-3e7d-4637-88dc-8ec8a27ae0c4",
   "metadata": {},
   "outputs": [],
   "source": [
    "lines = [x for x in _lines if x.strip() not in lines_to_remove]"
   ]
  },
  {
   "cell_type": "code",
   "execution_count": 40,
   "id": "505f82c9-c868-4e77-a02e-5632776aa528",
   "metadata": {},
   "outputs": [],
   "source": [
    "def html_format(line: str) -> str:\n",
    "    stripped_line = line.strip()\n",
    "    if stripped_line:\n",
    "        return f\"<p>{stripped_line}</p>\"\n",
    "    return \"<br>\"\n",
    "\n",
    "html_lines = [html_format(line) for line in lines]\n",
    "html_file = \"\\n\".join(html_lines)\n",
    "with open(\"sample_minutes.html\", \"w\") as f:\n",
    "    f.write(\"<!doctype html>\")\n",
    "    f.write(\"<div>\")\n",
    "    f.write(html_file)\n",
    "    f.write(\"</div>\")"
   ]
  },
  {
   "cell_type": "code",
   "execution_count": null,
   "id": "318e3256-e647-49e1-bdc5-2d2789e955f7",
   "metadata": {},
   "outputs": [],
   "source": []
  }
 ],
 "metadata": {
  "kernelspec": {
   "display_name": "Python 3 (ipykernel)",
   "language": "python",
   "name": "python3"
  },
  "language_info": {
   "codemirror_mode": {
    "name": "ipython",
    "version": 3
   },
   "file_extension": ".py",
   "mimetype": "text/x-python",
   "name": "python",
   "nbconvert_exporter": "python",
   "pygments_lexer": "ipython3",
   "version": "3.9.1"
  }
 },
 "nbformat": 4,
 "nbformat_minor": 5
}
