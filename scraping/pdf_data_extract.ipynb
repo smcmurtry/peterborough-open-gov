{
 "cells": [
  {
   "cell_type": "code",
   "execution_count": 80,
   "id": "9b8abc7f-ca6f-4d65-9ed6-e42cc88c4b99",
   "metadata": {
    "tags": []
   },
   "outputs": [],
   "source": [
    "import textract\n",
    "from typing import List\n",
    "\n",
    "# if we are in the 1st 80ish lines, or until we see a line containing \"roll call\" or \"called to order\" (whichever comes first)\n",
    "# we consider \"\\n\" a line break, after that we consider \"\\n\\n\" a line break\n",
    "# let's try just with \"\\n\\n\" and see what that looks like\n",
    "\n",
    "def get_header_index(_lines: List[str]) -> int:\n",
    "    max_header_index = 100\n",
    "    # find the index where we shoulc change how we break paragraphs\n",
    "    for n, line in enumerate(_lines):\n",
    "        if n > max_header_index:\n",
    "            return max_header_index\n",
    "        lower_line = line.lower()\n",
    "        if \"roll call\" in lower_line or \"called to order\" in lower_line:\n",
    "            return n\n",
    "\n",
    "\n",
    "def get_list_of_ps_from_header_lines(_lines: List[str]) -> List[str]:\n",
    "    lines = [x.strip() for x in _lines]\n",
    "    return lines\n",
    "\n",
    "\n",
    "def get_list_of_ps_from_body_lines(_lines: List[str]) -> List[str]:\n",
    "    # I need to remove the page numbers\n",
    "    _lines_to_remove = [str(x) for x in range(100)] + [\"\\x0c\"]\n",
    "    lines_to_remove = set(_lines_to_remove)\n",
    "    lines = [x.strip() for x in _lines if x.strip() not in lines_to_remove]\n",
    "    new_lines = \"\\n\".join(lines).split(\"\\n\\n\")\n",
    "    _new_lines = [line.replace(\"\\n\", \" \").strip() for line in new_lines]\n",
    "    return _new_lines\n",
    "\n",
    "\n",
    "def html_format(line: str) -> str:\n",
    "    if line:\n",
    "        return f\"<p>{line}</p>\"\n",
    "    return \"<br>\"\n",
    "\n",
    "\n",
    "def save_html_file(text: str, html_fname=\"sample_minutes.html\") -> None:\n",
    "    lines = text.split(\"\\n\")\n",
    "    header_index = get_header_index(lines)\n",
    "    header_lines = lines[:header_index]\n",
    "    body_lines = lines[header_index:]\n",
    "\n",
    "    header_p_list = get_list_of_ps_from_header_lines(header_lines)\n",
    "    body_p_list = get_list_of_ps_from_body_lines(body_lines)\n",
    "    p_list = header_p_list + body_p_list\n",
    "\n",
    "    html_lines = [html_format(line) for line in p_list]\n",
    "    html_file = \"\\n\".join(html_lines)\n",
    "\n",
    "    with open(html_fname, \"w\") as f:\n",
    "        f.write(\"<!doctype html>\")\n",
    "        f.write(\"<div>\")\n",
    "        f.write(html_file)\n",
    "        f.write(\"</div>\")\n",
    "\n",
    "\n",
    "def convert_to_html(pdf_fname = \"sample_minutes.pdf\") -> None:\n",
    "    binary_text = textract.process(pdf_fname)\n",
    "    html_fname = pdf_fname.split(\".\")[0] + \".html\"\n",
    "    text = binary_text.decode(\"utf-8\")\n",
    "    save_html_file(text, html_fname)"
   ]
  },
  {
   "cell_type": "code",
   "execution_count": 78,
   "id": "dc7b594e-f5a8-4b2c-9328-3d4a285bc830",
   "metadata": {},
   "outputs": [],
   "source": [
    "# usage\n"
   ]
  }
 ],
 "metadata": {
  "kernelspec": {
   "display_name": "Python 3 (ipykernel)",
   "language": "python",
   "name": "python3"
  },
  "language_info": {
   "codemirror_mode": {
    "name": "ipython",
    "version": 3
   },
   "file_extension": ".py",
   "mimetype": "text/x-python",
   "name": "python",
   "nbconvert_exporter": "python",
   "pygments_lexer": "ipython3",
   "version": "3.9.1"
  }
 },
 "nbformat": 4,
 "nbformat_minor": 5
}
