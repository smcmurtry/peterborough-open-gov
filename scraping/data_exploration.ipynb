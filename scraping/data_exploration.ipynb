{
 "cells": [
  {
   "cell_type": "code",
   "execution_count": 9,
   "id": "1985cbe2-85f6-4f4f-bb2f-05dd6e409595",
   "metadata": {},
   "outputs": [],
   "source": [
    "import json\n",
    "import os\n",
    "import pandas as pd"
   ]
  },
  {
   "cell_type": "code",
   "execution_count": 3,
   "id": "4f0e8ee7-271a-418a-af13-de3761c97251",
   "metadata": {},
   "outputs": [],
   "source": [
    "contents = os.listdir(\"data\")"
   ]
  },
  {
   "cell_type": "code",
   "execution_count": 5,
   "id": "b7a4209a-bd78-45ea-8b5e-efd1efd57089",
   "metadata": {},
   "outputs": [],
   "source": [
    "all_data = []\n",
    "for x in contents:\n",
    "    if \".json\" not in x:\n",
    "        continue\n",
    "    with open(f\"data/{x}\", \"r\") as f:\n",
    "        part_data = json.load(f)\n",
    "        all_data += part_data"
   ]
  },
  {
   "cell_type": "code",
   "execution_count": 7,
   "id": "1523f580-001d-4593-9c31-fee58eaf1290",
   "metadata": {},
   "outputs": [
    {
     "data": {
      "text/plain": [
       "1252"
      ]
     },
     "execution_count": 7,
     "metadata": {},
     "output_type": "execute_result"
    }
   ],
   "source": [
    "len(all_data)"
   ]
  },
  {
   "cell_type": "code",
   "execution_count": 8,
   "id": "efbd7c70-1485-4e68-84a6-1e3f6404ae3e",
   "metadata": {},
   "outputs": [],
   "source": [
    "with open(\"all_data.json\", \"w\") as f:\n",
    "    json.dump(all_data, f)"
   ]
  },
  {
   "cell_type": "code",
   "execution_count": 11,
   "id": "e0933d2e-984a-444e-adcd-00a5a283c696",
   "metadata": {},
   "outputs": [],
   "source": [
    "df = pd.DataFrame.from_dict(all_data)"
   ]
  },
  {
   "cell_type": "code",
   "execution_count": 12,
   "id": "27d7efc9-bc5f-49cf-9eaf-aec4e80be8ed",
   "metadata": {},
   "outputs": [
    {
     "data": {
      "text/html": [
       "<div>\n",
       "<style scoped>\n",
       "    .dataframe tbody tr th:only-of-type {\n",
       "        vertical-align: middle;\n",
       "    }\n",
       "\n",
       "    .dataframe tbody tr th {\n",
       "        vertical-align: top;\n",
       "    }\n",
       "\n",
       "    .dataframe thead th {\n",
       "        text-align: right;\n",
       "    }\n",
       "</style>\n",
       "<table border=\"1\" class=\"dataframe\">\n",
       "  <thead>\n",
       "    <tr style=\"text-align: right;\">\n",
       "      <th></th>\n",
       "      <th>meeting_type</th>\n",
       "      <th>location</th>\n",
       "      <th>datetime_iso</th>\n",
       "      <th>links</th>\n",
       "    </tr>\n",
       "  </thead>\n",
       "  <tbody>\n",
       "    <tr>\n",
       "      <th>0</th>\n",
       "      <td>Peterborough Environmental Advisory Committee</td>\n",
       "      <td>Electronic Meeting</td>\n",
       "      <td>2021-11-17T17:30:00</td>\n",
       "      <td>[{'aria_label': 'Peterborough Environmental Ad...</td>\n",
       "    </tr>\n",
       "    <tr>\n",
       "      <th>1</th>\n",
       "      <td>Peterborough Environmental Advisory Committee</td>\n",
       "      <td>Electronic Meeting</td>\n",
       "      <td>2021-10-20T17:30:00</td>\n",
       "      <td>[{'aria_label': 'Peterborough Environmental Ad...</td>\n",
       "    </tr>\n",
       "    <tr>\n",
       "      <th>2</th>\n",
       "      <td>Peterborough Environmental Advisory Committee</td>\n",
       "      <td>Electronic Meeting</td>\n",
       "      <td>2021-09-15T17:30:00</td>\n",
       "      <td>[{'aria_label': 'Peterborough Environmental Ad...</td>\n",
       "    </tr>\n",
       "    <tr>\n",
       "      <th>3</th>\n",
       "      <td>Peterborough Environmental Advisory Committee</td>\n",
       "      <td>Electronic Meeting</td>\n",
       "      <td>2021-06-16T17:30:00</td>\n",
       "      <td>[{'aria_label': 'Peterborough Environmental Ad...</td>\n",
       "    </tr>\n",
       "    <tr>\n",
       "      <th>4</th>\n",
       "      <td>Peterborough Environmental Advisory Committee</td>\n",
       "      <td>Electronic Meeting</td>\n",
       "      <td>2021-05-19T17:30:00</td>\n",
       "      <td>[{'aria_label': 'Peterborough Environmental Ad...</td>\n",
       "    </tr>\n",
       "  </tbody>\n",
       "</table>\n",
       "</div>"
      ],
      "text/plain": [
       "                                    meeting_type            location  \\\n",
       "0  Peterborough Environmental Advisory Committee  Electronic Meeting   \n",
       "1  Peterborough Environmental Advisory Committee  Electronic Meeting   \n",
       "2  Peterborough Environmental Advisory Committee  Electronic Meeting   \n",
       "3  Peterborough Environmental Advisory Committee  Electronic Meeting   \n",
       "4  Peterborough Environmental Advisory Committee  Electronic Meeting   \n",
       "\n",
       "          datetime_iso                                              links  \n",
       "0  2021-11-17T17:30:00  [{'aria_label': 'Peterborough Environmental Ad...  \n",
       "1  2021-10-20T17:30:00  [{'aria_label': 'Peterborough Environmental Ad...  \n",
       "2  2021-09-15T17:30:00  [{'aria_label': 'Peterborough Environmental Ad...  \n",
       "3  2021-06-16T17:30:00  [{'aria_label': 'Peterborough Environmental Ad...  \n",
       "4  2021-05-19T17:30:00  [{'aria_label': 'Peterborough Environmental Ad...  "
      ]
     },
     "execution_count": 12,
     "metadata": {},
     "output_type": "execute_result"
    }
   ],
   "source": [
    "df.head()"
   ]
  },
  {
   "cell_type": "code",
   "execution_count": 14,
   "id": "a8726328-acdd-4137-9f0f-a6fde85bbdc2",
   "metadata": {},
   "outputs": [
    {
     "data": {
      "text/plain": [
       "[{'aria_label': 'Peterborough Environmental Advisory Committee November 17, 2021',\n",
       "  'href': 'Meeting.aspx?Id=0ef82589-a943-4de4-adf7-4c69b5a685a7&lang=English',\n",
       "  'link_text': 'Peterborough Environmental Advisory Committee',\n",
       "  'url': 'https://pub-peterborough.escribemeetings.com/Meeting.aspx?Id=0ef82589-a943-4de4-adf7-4c69b5a685a7&lang=English'},\n",
       " {'aria_label': 'Agenda (HTML) for Peterborough Environmental Advisory Committee 17 November 2021',\n",
       "  'href': 'Meeting.aspx?Id=0ef82589-a943-4de4-adf7-4c69b5a685a7&Agenda=Agenda&lang=English',\n",
       "  'link_text': 'HTML',\n",
       "  'url': 'https://pub-peterborough.escribemeetings.com/Meeting.aspx?Id=0ef82589-a943-4de4-adf7-4c69b5a685a7&Agenda=Agenda&lang=English'}]"
      ]
     },
     "execution_count": 14,
     "metadata": {},
     "output_type": "execute_result"
    }
   ],
   "source": [
    "df[\"links\"][0]"
   ]
  },
  {
   "cell_type": "code",
   "execution_count": 20,
   "id": "ea5fb762-706e-4e04-afab-e47dab08bc8a",
   "metadata": {},
   "outputs": [],
   "source": [
    "# the first link in the list is always the agenda\n",
    "df[\"agenda_url\"] = df[\"links\"].map(lambda x: x[0][\"url\"])"
   ]
  },
  {
   "cell_type": "code",
   "execution_count": 21,
   "id": "09a9c343-83b1-439f-96cc-f44a2284b1ce",
   "metadata": {},
   "outputs": [
    {
     "data": {
      "text/plain": [
       "'https://pub-peterborough.escribemeetings.com/Meeting.aspx?Id=9c4fcc83-a9da-40c2-9ac0-91bf27402855&lang=English'"
      ]
     },
     "execution_count": 21,
     "metadata": {},
     "output_type": "execute_result"
    }
   ],
   "source": [
    "df[\"agenda_url\"][100]"
   ]
  },
  {
   "cell_type": "code",
   "execution_count": 27,
   "id": "9c7188a8-be4e-4578-8e92-50da22623d3e",
   "metadata": {},
   "outputs": [],
   "source": [
    "links = df[\"links\"][10]"
   ]
  },
  {
   "cell_type": "code",
   "execution_count": 70,
   "id": "2fb13c61-b4a6-44d3-ae29-75fe7ea35fa5",
   "metadata": {},
   "outputs": [],
   "source": [
    "# if minutes is in aria_label.lower() then it is the minutes\n",
    "# link text gives file type\n",
    "def get_minues_url(links, file_type=\"html\"):\n",
    "    \"file_type in ['html', 'pdf']\"\n",
    "    for x in links:\n",
    "        if \"minutes\" not in x[\"aria_label\"].lower():\n",
    "            continue\n",
    "        if file_type == x[\"link_text\"].lower():\n",
    "            return x[\"url\"]\n",
    "        return \"\"\n",
    "    return \"\"\n",
    "\n",
    "def is_cancelled(links):\n",
    "    for x in links:\n",
    "        if \"cancellation\" in x[\"link_text\"].lower():\n",
    "            return True\n",
    "    return False\n",
    "\n",
    "def is_cancelled(links):\n",
    "    for x in links:\n",
    "        if \"cancellation\" in x[\"link_text\"].lower():\n",
    "            return True\n",
    "    return False\n",
    "\n",
    "def get_video_url(links):\n",
    "    for x in links:\n",
    "        if x[\"link_text\"].lower() == \"video\":\n",
    "            return x[\"url\"]\n",
    "    return \"\""
   ]
  },
  {
   "cell_type": "code",
   "execution_count": 71,
   "id": "a84d6609-d345-4b6e-94fc-d792d9d80225",
   "metadata": {},
   "outputs": [],
   "source": [
    "df[\"minutes_html_url\"] = df[\"links\"].map(lambda x: get_minues_url(x, \"html\"))\n",
    "df[\"minutes_pdf_url\"] = df[\"links\"].map(lambda x: get_minues_url(x, \"pdf\"))\n",
    "df[\"cancelled\"] = df[\"links\"].map(is_cancelled)\n",
    "df[\"video_url\"] = df[\"links\"].map(get_video_url)"
   ]
  },
  {
   "cell_type": "code",
   "execution_count": 74,
   "id": "5dbdd7e9-deff-446f-8102-da645ecc578b",
   "metadata": {},
   "outputs": [
    {
     "data": {
      "text/plain": [
       "Index(['meeting_type', 'location', 'datetime_iso', 'links', 'agenda_url',\n",
       "       'minutes_html_url', 'minutes_pdf_url', 'cancelled', 'video_url'],\n",
       "      dtype='object')"
      ]
     },
     "execution_count": 74,
     "metadata": {},
     "output_type": "execute_result"
    }
   ],
   "source": [
    "df.columns"
   ]
  },
  {
   "cell_type": "code",
   "execution_count": 75,
   "id": "0c9e1222-e605-459b-9db7-6e0b346eda85",
   "metadata": {},
   "outputs": [],
   "source": [
    "cols_of_interest = ['meeting_type', 'location', 'datetime_iso', 'agenda_url', 'minutes_html_url', 'minutes_pdf_url', 'cancelled', 'video_url']"
   ]
  },
  {
   "cell_type": "code",
   "execution_count": 83,
   "id": "af3caab4-493b-461a-aeca-e9621ec6d689",
   "metadata": {},
   "outputs": [],
   "source": [
    "df[cols_of_interest].to_json(\"all_data_flat.json\", orient=\"records\")"
   ]
  },
  {
   "cell_type": "code",
   "execution_count": 89,
   "id": "09a7c493-96f4-4121-91eb-b7edd81cf498",
   "metadata": {},
   "outputs": [],
   "source": [
    "all_meeting_types = list(set(df[\"meeting_type\"]))"
   ]
  },
  {
   "cell_type": "code",
   "execution_count": 90,
   "id": "4f55e28f-a106-4975-b95a-e00b8799d874",
   "metadata": {},
   "outputs": [],
   "source": [
    "with open(\"data/all_meeting_types.json\", \"w\") as f:\n",
    "    json.dump(all_meeting_types, f)"
   ]
  },
  {
   "cell_type": "code",
   "execution_count": null,
   "id": "5ec05122-4684-4e80-97f2-5e7e0a190a0b",
   "metadata": {},
   "outputs": [],
   "source": []
  }
 ],
 "metadata": {
  "kernelspec": {
   "display_name": "Python 3 (ipykernel)",
   "language": "python",
   "name": "python3"
  },
  "language_info": {
   "codemirror_mode": {
    "name": "ipython",
    "version": 3
   },
   "file_extension": ".py",
   "mimetype": "text/x-python",
   "name": "python",
   "nbconvert_exporter": "python",
   "pygments_lexer": "ipython3",
   "version": "3.9.1"
  }
 },
 "nbformat": 4,
 "nbformat_minor": 5
}
