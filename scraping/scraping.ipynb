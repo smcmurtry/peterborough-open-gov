{
 "cells": [
  {
   "cell_type": "markdown",
   "id": "38a351d6-9edd-4216-820c-890c0750f9bd",
   "metadata": {},
   "source": [
    "# Scrape data from the City of Peterborough website"
   ]
  },
  {
   "cell_type": "code",
   "execution_count": 1,
   "id": "61a0549f-9720-43b8-9164-545fe6a725d8",
   "metadata": {},
   "outputs": [],
   "source": [
    "import requests\n",
    "from bs4 import BeautifulSoup\n",
    "from datetime import datetime\n",
    "import json\n",
    "\n",
    "from typing import List, TypedDict\n",
    "\n",
    "url = \"https://www.peterborough.ca/en/city-hall/upcoming-and-past-agendas.aspx\"\n",
    "\n",
    "# meetings_url = \"https://pub-peterborough.escribemeetings.com/meetingscalendarview.aspx?FillWidth=1&wmode=transparent&Year=2021\"\n",
    "meetings_url = \"https://pub-peterborough.escribemeetings.com/meetingscalendarview.aspx?FillWidth=1&wmode=transparent\"\n",
    "post_url_2 = \"https://pub-peterborough.escribemeetings.com/MeetingsCalendarView.aspx/PastMeetings?FillWidth=1&wmode=transparent&Year=2021&Expanded=Airport%20Strategic%20Initiatives%20Committee\"\n",
    "\n",
    "# So I need to find the links like `post_url_2` above in the `meetings_page`. And then do a post request and that should \n",
    "# give me the list of urls for the minutes, agendas, videos, etc.\n",
    "\n",
    "def parse_meeting_date(datetime_str: str) -> str:\n",
    "    \"datetime_str like Monday, 'December 06, 2021 @  6:30 PM'\"\n",
    "    string_format = \"%A, %B %d, %Y @ %I:%M %p\"\n",
    "    parsed = datetime.strptime(datetime_str, string_format)\n",
    "    return parsed.isoformat()\n",
    "\n",
    "\n",
    "class Link(TypedDict):\n",
    "    aria_label: str\n",
    "    link_text: str\n",
    "    href: str\n",
    "    url: str\n",
    "\n",
    "\n",
    "class Meeting(TypedDict):\n",
    "    datetime_iso: str\n",
    "    meeting_type: str\n",
    "    location: str\n",
    "    links: List[Link]\n",
    "    \n",
    "    \n",
    "def parse_link_soup(link_soup) -> Link:\n",
    "    link: Link = {}\n",
    "    link[\"aria_label\"] = link_soup.attrs[\"aria-label\"]\n",
    "    link[\"href\"] = link_soup.attrs[\"href\"]\n",
    "    link[\"link_text\"] = link_soup.text.strip()\n",
    "    link[\"url\"] = \"https://pub-peterborough.escribemeetings.com/\" + link[\"href\"]\n",
    "    return link\n",
    "\n",
    "\n",
    "def parse_meeting_soup(meeting_soup) -> Meeting:\n",
    "    meeting: Meeting = {}\n",
    "    meeting[\"meeting_type\"] = meeting_soup.find(\"div\", {\"class\": \"meeting-title\"}).text.strip()\n",
    "    datetime_str = meeting_soup.find(\"div\", {\"class\": \"meeting-date\"}).text.strip()\n",
    "    meeting[\"location\"] = meeting_soup.find(\"div\", {\"class\": \"startLocation\"}).text.strip()\n",
    "    meeting[\"datetime_iso\"] = parse_meeting_date(datetime_str)    \n",
    "    link_soup_list = meeting_soup.find_all(\"a\", {\"class\": \"link\"})\n",
    "    meeting[\"links\"] = []\n",
    "    for link_soup in link_soup_list:\n",
    "        link = parse_link_soup(link_soup)\n",
    "        meeting[\"links\"].append(link)\n",
    "    return meeting\n",
    "\n",
    "def parse_meeting_page_text(meeting_page_text) -> List[Meeting]:\n",
    "    soup = BeautifulSoup(meeting_page_text, 'html.parser')\n",
    "    past_meeting_soup = soup.find(\"div\", {\"class\": \"past-meetings\"})\n",
    "    if not past_meeting_soup:\n",
    "        return []\n",
    "    all_meetings_of_type_2021 = past_meeting_soup.find_all(\"div\", {\"class\": \"meeting-header\"})\n",
    "    parsed_meetings = []\n",
    "    for meeting_soup in all_meetings_of_type_2021:\n",
    "        meeting = parse_meeting_soup(meeting_soup)\n",
    "        parsed_meetings.append(meeting)\n",
    "    return parsed_meetings\n",
    "\n",
    "\n",
    "def run():\n",
    "    meetings_page = requests.get(meetings_url)\n",
    "    soup = BeautifulSoup(meetings_page.text, 'html.parser')\n",
    "    meeting_type_anchors = soup.find_all(\"a\", {\"class\": \"PastMeetingTypesName\"})\n",
    "    meeting_type_hrefs = [x.attrs[\"href\"] for x in meeting_type_anchors]\n",
    "\n",
    "    parsed_meetings: List[Meeting] = []\n",
    "    for n, href in enumerate(meeting_type_hrefs[10:]):\n",
    "        n = n + 10\n",
    "        print(f'{n} of {len(meeting_type_hrefs)}')\n",
    "        meeting_type_page = requests.post(href)\n",
    "        parsed_meetings_of_type = parse_meeting_page_text(meeting_type_page.text)\n",
    "        parsed_meetings += parsed_meetings_of_type\n",
    "        with open(f\"data/part_{n}.json\", \"w\") as f:\n",
    "            json.dump(parsed_meetings_of_type, f)"
   ]
  },
  {
   "cell_type": "code",
   "execution_count": null,
   "id": "f4247aed-6f77-46c4-8c50-9dc34bb7d126",
   "metadata": {},
   "outputs": [],
   "source": []
  },
  {
   "cell_type": "code",
   "execution_count": 11,
   "id": "8bee49f9-24d9-4296-989b-84428a050d68",
   "metadata": {},
   "outputs": [
    {
     "name": "stdout",
     "output_type": "stream",
     "text": [
      "10 of 31\n",
      "11 of 31\n",
      "12 of 31\n",
      "13 of 31\n",
      "14 of 31\n",
      "15 of 31\n",
      "16 of 31\n",
      "17 of 31\n",
      "18 of 31\n",
      "19 of 31\n",
      "20 of 31\n",
      "21 of 31\n",
      "22 of 31\n",
      "23 of 31\n",
      "24 of 31\n",
      "25 of 31\n",
      "26 of 31\n",
      "27 of 31\n",
      "28 of 31\n",
      "29 of 31\n",
      "30 of 31\n"
     ]
    }
   ],
   "source": [
    "run()"
   ]
  },
  {
   "cell_type": "code",
   "execution_count": null,
   "id": "2002cec7-b8a4-4c7a-8fde-ae6a87c4bb30",
   "metadata": {},
   "outputs": [],
   "source": [
    "def scrape_pdf_minutes_urls() -> Dict[str, str]:\n",
    "    \"return Dict like {'id': 'asdf', 'url': 'asdf'}\"\n",
    "    \n",
    "    \n",
    "def download_pdf_minutes(minutes_urls: List[str]) -> None:\n",
    "    \"\""
   ]
  },
  {
   "cell_type": "code",
   "execution_count": null,
   "id": "41d06ff7-4f52-4b3a-977b-74b05e5cc277",
   "metadata": {},
   "outputs": [],
   "source": []
  },
  {
   "cell_type": "code",
   "execution_count": null,
   "id": "cda8c043-e2ef-4d02-b73b-ae30b3132e1b",
   "metadata": {},
   "outputs": [],
   "source": []
  }
 ],
 "metadata": {
  "kernelspec": {
   "display_name": "Python 3 (ipykernel)",
   "language": "python",
   "name": "python3"
  },
  "language_info": {
   "codemirror_mode": {
    "name": "ipython",
    "version": 3
   },
   "file_extension": ".py",
   "mimetype": "text/x-python",
   "name": "python",
   "nbconvert_exporter": "python",
   "pygments_lexer": "ipython3",
   "version": "3.9.1"
  }
 },
 "nbformat": 4,
 "nbformat_minor": 5
}
