{
 "cells": [
  {
   "cell_type": "code",
   "execution_count": 25,
   "id": "0ebf89a6-cbf3-43c2-8cf2-4817ea50bf90",
   "metadata": {},
   "outputs": [],
   "source": [
    "from bs4 import BeautifulSoup\n",
    "import scraping\n",
    "from importlib import reload  # Python 3.4+\n",
    "import data_exploration as de\n",
    "import os\n",
    "import requests\n",
    "import time"
   ]
  },
  {
   "cell_type": "code",
   "execution_count": 2,
   "id": "bc3c8586-203a-4e65-8d09-6f6e16c0bed6",
   "metadata": {},
   "outputs": [],
   "source": [
    "with open(\"../playwright_output/output.txt\", \"r\") as f:\n",
    "    html = f.read()\n",
    "    meeting_list = scraping.parse_playwright_output(html)"
   ]
  },
  {
   "cell_type": "code",
   "execution_count": 3,
   "id": "29d67872-8951-4fff-85af-3bc7093a0b9f",
   "metadata": {},
   "outputs": [
    {
     "data": {
      "text/plain": [
       "1640"
      ]
     },
     "execution_count": 3,
     "metadata": {},
     "output_type": "execute_result"
    }
   ],
   "source": [
    "len(meeting_list)"
   ]
  },
  {
   "cell_type": "code",
   "execution_count": 5,
   "id": "e7898478-f423-443b-8c6b-28da79a27a3a",
   "metadata": {},
   "outputs": [
    {
     "data": {
      "text/plain": [
       "{'meeting_type': 'Accessibility Advisory Committee Meeting',\n",
       " 'location': 'Electronic Meeting',\n",
       " 'datetime_iso': '2022-09-07T16:00:00',\n",
       " 'links': [{'aria_label': 'Accessibility Advisory Committee Meeting Wednesday, September 07, 2022 @ 4:00 PM. Opens new tab/window',\n",
       "   'href': 'Meeting.aspx?Id=f3dc4a44-970a-4246-96c8-7b4731b59c33&lang=English',\n",
       "   'link_text': 'Accessibility Advisory Committee Meeting',\n",
       "   'url': 'https://pub-peterborough.escribemeetings.com/Meeting.aspx?Id=f3dc4a44-970a-4246-96c8-7b4731b59c33&lang=English'},\n",
       "  {'aria_label': 'Attachment Minutes for Accessibility Advisory Committee Meeting. Opens in a new tab/window',\n",
       "   'href': 'FileStream.ashx?DocumentId=34713',\n",
       "   'link_text': 'Minutes.pdf',\n",
       "   'url': 'https://pub-peterborough.escribemeetings.com/FileStream.ashx?DocumentId=34713'},\n",
       "  {'aria_label': 'HTML Agenda for Accessibility Advisory Committee Meeting 9/7/2022 4:00:00 PM. Opens new tab/window',\n",
       "   'href': 'Meeting.aspx?Id=f3dc4a44-970a-4246-96c8-7b4731b59c33&Agenda=Agenda&lang=English',\n",
       "   'link_text': 'HTML',\n",
       "   'url': 'https://pub-peterborough.escribemeetings.com/Meeting.aspx?Id=f3dc4a44-970a-4246-96c8-7b4731b59c33&Agenda=Agenda&lang=English'}]}"
      ]
     },
     "execution_count": 5,
     "metadata": {},
     "output_type": "execute_result"
    }
   ],
   "source": [
    "meeting_list[1]"
   ]
  },
  {
   "cell_type": "code",
   "execution_count": 28,
   "id": "11bcc6af-a73f-4ffe-b29d-637f93300320",
   "metadata": {},
   "outputs": [
    {
     "name": "stdout",
     "output_type": "stream",
     "text": [
      "2022-09-07.Accessibility-Advisory-Committee-Meeting.pdf\n",
      "2022-04-06.Accessibility-Advisory-Committee-Meeting.pdf\n",
      "2022-02-02.Accessibility-Advisory-Committee-Meeting.pdf\n",
      "2022-01-05.Accessibility-Advisory-Committee-Meeting.pdf\n",
      "2018-10-03.Accessibility-Advisory-Committee-Meeting.pdf\n",
      "2018-09-05.Accessibility-Advisory-Committee-Meeting.pdf\n",
      "2018-06-27.Accessibility-Advisory-Committee-Meeting.pdf\n",
      "2018-05-02.Accessibility-Advisory-Committee-Meeting.pdf\n",
      "2018-04-04.Accessibility-Advisory-Committee-Meeting.pdf\n",
      "2018-03-07.Accessibility-Advisory-Committee-Meeting.pdf\n",
      "2022-06-23.Airport-Strategic-Initiatives-Committee.pdf\n",
      "2022-04-22.Airport-Strategic-Initiatives-Committee.pdf\n",
      "2022-09-20.Arenas-Parks-and-Recreation-Advisory-Committee-Meeting.pdf\n",
      "2022-06-21.Arenas-Parks-and-Recreation-Advisory-Committee-Meeting.pdf\n",
      "2021-11-09.Arenas-Parks-and-Recreation-Advisory-Committee-Meeting.pdf\n",
      "2019-06-18.Arenas-Parks-and-Recreation-Advisory-Committee-Meeting.pdf\n",
      "2018-03-20.Arenas-Parks-and-Recreation-Advisory-Committee-Meeting.pdf\n",
      "2018-02-27.Arenas-Parks-and-Recreation-Advisory-Committee-Meeting.pdf\n",
      "2022-09-08.Arts-Culture-and-Heritage-Advisory-Committee-Meeting.pdf\n",
      "2022-02-10.Arts-Culture-and-Heritage-Advisory-Committee-Meeting.pdf\n",
      "2022-01-13.Arts-Culture-and-Heritage-Advisory-Committee-Meeting.pdf\n",
      "2021-11-18.Arts-Culture-and-Heritage-Advisory-Committee-Meeting.pdf\n",
      "2021-02-11.Arts-Culture-and-Heritage-Advisory-Committee-Meeting.pdf\n",
      "2020-02-13.Arts-Culture-and-Heritage-Advisory-Committee-Meeting.pdf\n",
      "2020-01-09.Arts-Culture-and-Heritage-Advisory-Committee-Meeting.pdf\n",
      "2019-01-10.Arts-Culture-and-Heritage-Advisory-Committee-Meeting.pdf\n",
      "2018-11-08.Arts-Culture-and-Heritage-Advisory-Committee-Meeting.pdf\n",
      "2018-09-17.Audit-Committee-Meeting.pdf\n",
      "2021-07-29.City-Council-Meeting.pdf\n",
      "2021-07-26.City-Council-Meeting.pdf\n",
      "2021-06-28.City-Council-Meeting.pdf\n",
      "2020-12-14.City-Council-Meeting.pdf\n",
      "2020-06-22.City-Council-Meeting.pdf\n",
      "2020-02-18.City-Council-Meeting.pdf\n",
      "2020-01-27.City-Council-Meeting.pdf\n",
      "2019-06-11.City-Council-Meeting.pdf\n",
      "2019-05-27.City-Council-Meeting.pdf\n",
      "2019-01-28.City-Council-Meeting.pdf\n",
      "2018-10-01.City-Council-Meeting.pdf\n",
      "2018-06-11.City-Council-Meeting.pdf\n",
      "2018-06-05.City-Council-Meeting.pdf\n",
      "2018-05-22.City-Council-Meeting.pdf\n",
      "2018-04-30.City-Council-Meeting.pdf\n",
      "2022-08-16.Committee-of-Adjustment.pdf\n",
      "2022-06-21.Committee-of-Adjustment.pdf\n",
      "2022-05-25.Committee-of-Adjustment.pdf\n",
      "2022-04-26.Committee-of-Adjustment.pdf\n",
      "2022-03-29.Committee-of-Adjustment.pdf\n",
      "2022-03-01.Committee-of-Adjustment.pdf\n",
      "2022-02-01.Committee-of-Adjustment.pdf\n",
      "2021-11-30.Committee-of-Adjustment.pdf\n",
      "2021-10-05.Committee-of-Adjustment.pdf\n",
      "2021-09-08.Committee-of-Adjustment.pdf\n",
      "2021-08-10.Committee-of-Adjustment.pdf\n",
      "2021-06-22.Committee-of-Adjustment.pdf\n",
      "2021-05-26.Committee-of-Adjustment.pdf\n",
      "2021-04-27.Committee-of-Adjustment.pdf\n",
      "2021-03-30.Committee-of-Adjustment.pdf\n",
      "2021-03-02.Committee-of-Adjustment.pdf\n",
      "2020-12-02.Committee-of-Adjustment.pdf\n",
      "2020-11-04.Committee-of-Adjustment.pdf\n",
      "2020-10-06.Committee-of-Adjustment.pdf\n",
      "2020-08-11.Committee-of-Adjustment.pdf\n",
      "2020-02-25.Committee-of-Adjustment.pdf\n",
      "2020-01-28.Committee-of-Adjustment.pdf\n",
      "2019-12-03.Committee-of-Adjustment.pdf\n",
      "2019-11-05.Committee-of-Adjustment.pdf\n",
      "2019-10-01.Committee-of-Adjustment.pdf\n",
      "2019-09-04.Committee-of-Adjustment.pdf\n",
      "2019-07-16.Committee-of-Adjustment.pdf\n",
      "2019-06-18.Committee-of-Adjustment.pdf\n",
      "2022-09-12.Finance-Committee-Meeting.pdf\n",
      "2022-06-06.Finance-Committee-Meeting.pdf\n",
      "2021-11-24.Finance-Committee-Meeting.pdf\n",
      "2021-11-23.Finance-Committee-Meeting.pdf\n",
      "2021-11-22.Finance-Committee-Meeting.pdf\n",
      "2019-06-10.Finance-Committee-Meeting.pdf\n",
      "2019-01-14.Finance-Committee-Meeting.pdf\n",
      "2018-06-25.Finance-Committee-Meeting.pdf\n",
      "2018-06-06.Finance-Committee-Meeting.pdf\n",
      "2018-05-28.Finance-Committee-Meeting.pdf\n",
      "2022-09-12.General-Committee.pdf\n",
      "2022-09-06.General-Committee.pdf\n",
      "2021-12-06.General-Committee.pdf\n",
      "2021-07-12.General-Committee.pdf\n",
      "2021-02-22.General-Committee.pdf\n",
      "2020-07-13.General-Committee.pdf\n",
      "2019-06-10.General-Committee.pdf\n",
      "2019-06-03.General-Committee.pdf\n",
      "2019-03-11.General-Committee.pdf\n",
      "2019-02-11.General-Committee.pdf\n",
      "2018-09-17.General-Committee.pdf\n",
      "2018-08-27.General-Committee.pdf\n",
      "2018-08-20.General-Committee.pdf\n",
      "2018-07-16.General-Committee.pdf\n",
      "2018-06-25.General-Committee.pdf\n",
      "2018-05-28.General-Committee.pdf\n",
      "2018-05-07.General-Committee.pdf\n",
      "2018-04-16.General-Committee.pdf\n",
      "2018-03-26.General-Committee.pdf\n",
      "2018-02-26.General-Committee.pdf\n",
      "2018-02-05.General-Committee.pdf\n",
      "2018-01-15.General-Committee.pdf\n",
      "2018-04-23.General-Committee---additional-meeting.pdf\n",
      "2019-11-28.Joint-Services-Steering-Committee-Meeting.pdf\n",
      "2018-09-06.Joint-Services-Steering-Committee-Meeting.pdf\n",
      "2022-09-08.Museum-and-Archives-Advisory-Committee-Meeting.pdf\n",
      "2022-04-14.Museum-and-Archives-Advisory-Committee-Meeting.pdf\n",
      "2021-11-18.Museum-and-Archives-Advisory-Committee-Meeting.pdf\n",
      "2018-11-08.Museum-and-Archives-Advisory-Committee-Meeting.pdf\n",
      "2018-06-14.Museum-and-Archives-Advisory-Committee-Meeting.pdf\n",
      "2018-05-10.Museum-and-Archives-Advisory-Committee-Meeting.pdf\n",
      "2018-03-08.Museum-and-Archives-Advisory-Committee-Meeting.pdf\n",
      "2018-02-08.Museum-and-Archives-Advisory-Committee-Meeting.pdf\n",
      "2022-09-08.Peterborough-Architectural-Conservation-Advisory-Committee.pdf\n",
      "2022-04-07.Peterborough-Architectural-Conservation-Advisory-Committee.pdf\n",
      "2022-03-03.Peterborough-Architectural-Conservation-Advisory-Committee.pdf\n",
      "2022-01-13.Peterborough-Architectural-Conservation-Advisory-Committee.pdf\n",
      "2021-11-04.Peterborough-Architectural-Conservation-Advisory-Committee.pdf\n",
      "2021-10-28.Peterborough-Architectural-Conservation-Advisory-Committee.pdf\n",
      "2021-10-07.Peterborough-Architectural-Conservation-Advisory-Committee.pdf\n",
      "2021-09-09.Peterborough-Architectural-Conservation-Advisory-Committee.pdf\n",
      "2021-03-04.Peterborough-Architectural-Conservation-Advisory-Committee.pdf\n",
      "2020-02-06.Peterborough-Architectural-Conservation-Advisory-Committee.pdf\n",
      "2018-11-01.Peterborough-Architectural-Conservation-Advisory-Committee.pdf\n",
      "2018-10-04.Peterborough-Architectural-Conservation-Advisory-Committee.pdf\n",
      "2018-06-12.Peterborough-Architectural-Conservation-Advisory-Committee.pdf\n",
      "2018-02-01.Peterborough-Architectural-Conservation-Advisory-Committee.pdf\n",
      "2022-09-21.Peterborough-Environmental-Advisory-Committee.pdf\n",
      "2022-02-16.Peterborough-Environmental-Advisory-Committee.pdf\n",
      "2022-01-19.Peterborough-Environmental-Advisory-Committee.pdf\n",
      "2021-11-17.Peterborough-Environmental-Advisory-Committee.pdf\n",
      "2021-01-20.Peterborough-Environmental-Advisory-Committee.pdf\n",
      "2022-09-13.Peterborough-Public-Library-Board.pdf\n",
      "2022-02-08.Peterborough-Public-Library-Board.pdf\n",
      "2021-05-11.Peterborough-Public-Library-Board.pdf\n",
      "2021-03-09.Peterborough-Public-Library-Board.pdf\n",
      "2021-02-09.Peterborough-Public-Library-Board.pdf\n",
      "2020-01-07.Peterborough-Public-Library-Board.pdf\n",
      "2019-10-08.Peterborough-Public-Library-Board.pdf\n",
      "2019-09-10.Peterborough-Public-Library-Board.pdf\n",
      "2019-06-04.Peterborough-Public-Library-Board.pdf\n",
      "2019-05-14.Peterborough-Public-Library-Board.pdf\n",
      "2019-04-09.Peterborough-Public-Library-Board.pdf\n",
      "2019-03-12.Peterborough-Public-Library-Board.pdf\n",
      "2018-12-11.Peterborough-Public-Library-Board.pdf\n",
      "2018-11-13.Peterborough-Public-Library-Board.pdf\n",
      "2018-10-02.Peterborough-Public-Library-Board.pdf\n",
      "2018-09-11.Peterborough-Public-Library-Board.pdf\n",
      "2018-06-26.Peterborough-Public-Library-Board.pdf\n",
      "2018-05-29.Peterborough-Public-Library-Board.pdf\n",
      "2018-04-24.Peterborough-Public-Library-Board.pdf\n",
      "2018-01-09.Peterborough-Public-Library-Board.pdf\n",
      "2018-04-24.Planning-Advisory-Committee.pdf\n",
      "2019-06-24.Public-Meeting---Development-Charges.pdf\n",
      "2022-07-04.Special-City-Council-Meeting.pdf\n",
      "2022-06-13.Special-City-Council-Meeting.pdf\n",
      "2022-06-06.Special-City-Council-Meeting.pdf\n",
      "2022-03-14.Special-City-Council-Meeting.pdf\n",
      "2021-12-06.Special-City-Council-Meeting.pdf\n",
      "2021-09-13.Special-City-Council-Meeting.pdf\n",
      "2021-04-06.Special-City-Council-Meeting.pdf\n",
      "2020-06-11.Special-City-Council-Meeting.pdf\n",
      "2020-03-30.Special-City-Council-Meeting.pdf\n",
      "2019-11-04.Special-City-Council-Meeting.pdf\n",
      "2019-08-12.Special-City-Council-Meeting.pdf\n",
      "2019-07-17.Special-City-Council-Meeting.pdf\n",
      "2018-12-03.Special-City-Council-Meeting.pdf\n",
      "2018-07-16.Special-City-Council-Meeting.pdf\n",
      "2021-11-08.Special-City-Council-Meeting-Remembrance-Day.pdf\n",
      "2022-07-25.Special-General-Committee.pdf\n",
      "2022-04-25.Special-General-Committee.pdf\n",
      "2022-03-14.Special-General-Committee.pdf\n",
      "2022-01-31.Special-General-Committee.pdf\n",
      "2021-12-13.Special-General-Committee.pdf\n",
      "2021-11-15.Special-General-Committee.pdf\n",
      "2021-10-18.Special-General-Committee.pdf\n",
      "2021-09-27.Special-General-Committee.pdf\n",
      "2021-09-22.Special-General-Committee.pdf\n",
      "2021-04-19.Special-General-Committee.pdf\n",
      "2021-03-29.Special-General-Committee.pdf\n",
      "2021-03-22.Special-General-Committee.pdf\n",
      "2021-02-16.Special-General-Committee.pdf\n",
      "2021-01-25.Special-General-Committee.pdf\n",
      "2020-12-14.Special-General-Committee.pdf\n",
      "2020-07-27.Special-General-Committee.pdf\n",
      "2020-06-11.Special-General-Committee.pdf\n",
      "2020-04-27.Special-General-Committee.pdf\n",
      "2020-01-27.Special-General-Committee.pdf\n",
      "2019-08-12.Special-General-Committee.pdf\n",
      "2019-07-22.Special-General-Committee.pdf\n",
      "2019-07-17.Special-General-Committee.pdf\n",
      "2019-06-24.Special-General-Committee.pdf\n",
      "2019-05-13.Special-General-Committee.pdf\n",
      "2019-03-25.Special-General-Committee.pdf\n",
      "2018-12-10.Special-General-Committee.pdf\n",
      "2018-10-01.Special-General-Committee.pdf\n",
      "2018-09-10.Special-General-Committee.pdf\n",
      "2018-07-09.Special-General-Committee.pdf\n",
      "2018-06-06.Special-General-Committee.pdf\n",
      "2018-05-22.Special-General-Committee.pdf\n",
      "2018-05-14.Special-General-Committee.pdf\n",
      "2018-02-26.Special-General-Committee.pdf\n",
      "2018-02-20.Special-General-Committee.pdf\n",
      "2018-02-05.Special-General-Committee.pdf\n",
      "2018-01-29.Special-General-Committee.pdf\n",
      "2021-03-25.Special-Peterborough-Regional-Liaison-Committee.pdf\n",
      "2019-01-08.Special-Peterborough-Regional-Liaison-Committee.pdf\n",
      "2018-10-01.Waste-Management-Committee-Meeting.pdf\n",
      "2018-07-30.Waste-Management-Committee-Meeting.pdf\n",
      "2018-05-07.Waste-Management-Committee-Meeting.pdf\n"
     ]
    }
   ],
   "source": [
    "counter = 0\n",
    "for meeting in meeting_list[:]:\n",
    "    for link in meeting[\"links\"]:\n",
    "        if \"minutes\" not in link[\"link_text\"].lower():\n",
    "            continue\n",
    "        url_start = \"https://pub-peterborough.escribemeetings.com/\"\n",
    "        url = f'{url_start}{link[\"href\"]}'\n",
    "        \n",
    "        _fname = de.get_fname(meeting[\"datetime_iso\"], meeting[\"meeting_type\"])\n",
    "        fname = f\"{_fname}.pdf\"\n",
    "        fpath = f\"./minutes_new/{fname}\"\n",
    "\n",
    "        # check if file exists\n",
    "        if os.path.isfile(fpath):\n",
    "            continue\n",
    "        \n",
    "        resp = requests.get(url)\n",
    "        with open(fpath, \"wb\") as f:\n",
    "            f.write(resp.content)\n",
    "        print(fname)\n",
    "        time.sleep(2)"
   ]
  },
  {
   "cell_type": "code",
   "execution_count": 22,
   "id": "1bce2537-eea6-461a-a85f-089cb6b5a733",
   "metadata": {},
   "outputs": [],
   "source": []
  },
  {
   "cell_type": "code",
   "execution_count": 23,
   "id": "28b2cfb7-8e20-4c81-9302-61e692b65742",
   "metadata": {},
   "outputs": [
    {
     "data": {
      "text/plain": [
       "'https://pub-peterborough.escribemeetings.com/FileStream.ashx?DocumentId=20974'"
      ]
     },
     "execution_count": 23,
     "metadata": {},
     "output_type": "execute_result"
    }
   ],
   "source": [
    "url"
   ]
  },
  {
   "cell_type": "code",
   "execution_count": 12,
   "id": "5ffd7bcb-b1f9-4853-824b-77d722f22e86",
   "metadata": {},
   "outputs": [
    {
     "data": {
      "text/plain": [
       "'Waste Management Committee Meeting'"
      ]
     },
     "execution_count": 12,
     "metadata": {},
     "output_type": "execute_result"
    }
   ],
   "source": []
  },
  {
   "cell_type": "code",
   "execution_count": 13,
   "id": "0c30e534-8f8a-44dc-8d33-e00c4e74518d",
   "metadata": {},
   "outputs": [
    {
     "data": {
      "text/plain": [
       "'2009-09-21T14:00:00'"
      ]
     },
     "execution_count": 13,
     "metadata": {},
     "output_type": "execute_result"
    }
   ],
   "source": []
  },
  {
   "cell_type": "code",
   "execution_count": 15,
   "id": "d7c546f5-1e6f-4753-88de-2392c8bdd370",
   "metadata": {},
   "outputs": [
    {
     "data": {
      "text/plain": [
       "'2009-09-21.Waste-Management-Committee-Meeting'"
      ]
     },
     "execution_count": 15,
     "metadata": {},
     "output_type": "execute_result"
    }
   ],
   "source": []
  },
  {
   "cell_type": "code",
   "execution_count": 11,
   "id": "5343fc5b-9d85-4d27-abc1-66540646a858",
   "metadata": {},
   "outputs": [
    {
     "data": {
      "text/plain": [
       "447"
      ]
     },
     "execution_count": 11,
     "metadata": {},
     "output_type": "execute_result"
    }
   ],
   "source": [
    "counter"
   ]
  },
  {
   "cell_type": "code",
   "execution_count": 13,
   "id": "703ae43b-b529-46b7-afc9-ed2bc3ba223e",
   "metadata": {},
   "outputs": [],
   "source": [
    "import data_exploration"
   ]
  },
  {
   "cell_type": "code",
   "execution_count": 14,
   "id": "3cb97a5d-6076-4d92-85af-9caa0816fc90",
   "metadata": {},
   "outputs": [],
   "source": [
    "data_exploration = reload(data_exploration)"
   ]
  },
  {
   "cell_type": "code",
   "execution_count": 15,
   "id": "70a29a15-b504-45fc-baf5-2d137d632fb8",
   "metadata": {},
   "outputs": [],
   "source": [
    "data_exploration.assemble_dataframe_and_save(meeting_list)"
   ]
  },
  {
   "cell_type": "code",
   "execution_count": null,
   "id": "8352bb6d-19fe-4287-85c7-0f13750c2fac",
   "metadata": {},
   "outputs": [],
   "source": []
  },
  {
   "cell_type": "code",
   "execution_count": 9,
   "id": "dba1e461-f518-4d85-8971-bbffd0f6ff79",
   "metadata": {
    "collapsed": true,
    "jupyter": {
     "outputs_hidden": true
    },
    "tags": []
   },
   "outputs": [
    {
     "ename": "IndexError",
     "evalue": "list index out of range",
     "output_type": "error",
     "traceback": [
      "\u001b[0;31m---------------------------------------------------------------------------\u001b[0m",
      "\u001b[0;31mIndexError\u001b[0m                                Traceback (most recent call last)",
      "Cell \u001b[0;32mIn [9], line 2\u001b[0m\n\u001b[1;32m      1\u001b[0m df \u001b[38;5;241m=\u001b[39m pd\u001b[38;5;241m.\u001b[39mDataFrame\u001b[38;5;241m.\u001b[39mfrom_dict(meeting_list)\n\u001b[0;32m----> 2\u001b[0m df[\u001b[38;5;124m\"\u001b[39m\u001b[38;5;124magenda_url\u001b[39m\u001b[38;5;124m\"\u001b[39m] \u001b[38;5;241m=\u001b[39m df[\u001b[38;5;124m\"\u001b[39m\u001b[38;5;124mlinks\u001b[39m\u001b[38;5;124m\"\u001b[39m]\u001b[38;5;241m.\u001b[39mmap(\u001b[38;5;28;01mlambda\u001b[39;00m x: x[\u001b[38;5;241m0\u001b[39m][\u001b[38;5;124m\"\u001b[39m\u001b[38;5;124murl\u001b[39m\u001b[38;5;124m\"\u001b[39m])\n\u001b[1;32m      3\u001b[0m df[\u001b[38;5;124m\"\u001b[39m\u001b[38;5;124mminutes_html_url\u001b[39m\u001b[38;5;124m\"\u001b[39m] \u001b[38;5;241m=\u001b[39m df[\u001b[38;5;124m\"\u001b[39m\u001b[38;5;124mlinks\u001b[39m\u001b[38;5;124m\"\u001b[39m]\u001b[38;5;241m.\u001b[39mmap(\u001b[38;5;28;01mlambda\u001b[39;00m x: get_minues_url(x, \u001b[38;5;124m\"\u001b[39m\u001b[38;5;124mhtml\u001b[39m\u001b[38;5;124m\"\u001b[39m))\n\u001b[1;32m      4\u001b[0m df[\u001b[38;5;124m\"\u001b[39m\u001b[38;5;124mminutes_pdf_url\u001b[39m\u001b[38;5;124m\"\u001b[39m] \u001b[38;5;241m=\u001b[39m df[\u001b[38;5;124m\"\u001b[39m\u001b[38;5;124mlinks\u001b[39m\u001b[38;5;124m\"\u001b[39m]\u001b[38;5;241m.\u001b[39mmap(\u001b[38;5;28;01mlambda\u001b[39;00m x: get_minues_url(x, \u001b[38;5;124m\"\u001b[39m\u001b[38;5;124mpdf\u001b[39m\u001b[38;5;124m\"\u001b[39m))\n",
      "File \u001b[0;32m~/.local/lib/python3.9/site-packages/pandas/core/series.py:4542\u001b[0m, in \u001b[0;36mSeries.map\u001b[0;34m(self, arg, na_action)\u001b[0m\n\u001b[1;32m   4463\u001b[0m \u001b[38;5;28;01mdef\u001b[39;00m \u001b[38;5;21mmap\u001b[39m(\n\u001b[1;32m   4464\u001b[0m     \u001b[38;5;28mself\u001b[39m,\n\u001b[1;32m   4465\u001b[0m     arg: Callable \u001b[38;5;241m|\u001b[39m Mapping \u001b[38;5;241m|\u001b[39m Series,\n\u001b[1;32m   4466\u001b[0m     na_action: Literal[\u001b[38;5;124m\"\u001b[39m\u001b[38;5;124mignore\u001b[39m\u001b[38;5;124m\"\u001b[39m] \u001b[38;5;241m|\u001b[39m \u001b[38;5;28;01mNone\u001b[39;00m \u001b[38;5;241m=\u001b[39m \u001b[38;5;28;01mNone\u001b[39;00m,\n\u001b[1;32m   4467\u001b[0m ) \u001b[38;5;241m-\u001b[39m\u001b[38;5;241m>\u001b[39m Series:\n\u001b[1;32m   4468\u001b[0m     \u001b[38;5;124;03m\"\"\"\u001b[39;00m\n\u001b[1;32m   4469\u001b[0m \u001b[38;5;124;03m    Map values of Series according to an input mapping or function.\u001b[39;00m\n\u001b[1;32m   4470\u001b[0m \n\u001b[0;32m   (...)\u001b[0m\n\u001b[1;32m   4540\u001b[0m \u001b[38;5;124;03m    dtype: object\u001b[39;00m\n\u001b[1;32m   4541\u001b[0m \u001b[38;5;124;03m    \"\"\"\u001b[39;00m\n\u001b[0;32m-> 4542\u001b[0m     new_values \u001b[38;5;241m=\u001b[39m \u001b[38;5;28;43mself\u001b[39;49m\u001b[38;5;241;43m.\u001b[39;49m\u001b[43m_map_values\u001b[49m\u001b[43m(\u001b[49m\u001b[43marg\u001b[49m\u001b[43m,\u001b[49m\u001b[43m \u001b[49m\u001b[43mna_action\u001b[49m\u001b[38;5;241;43m=\u001b[39;49m\u001b[43mna_action\u001b[49m\u001b[43m)\u001b[49m\n\u001b[1;32m   4543\u001b[0m     \u001b[38;5;28;01mreturn\u001b[39;00m \u001b[38;5;28mself\u001b[39m\u001b[38;5;241m.\u001b[39m_constructor(new_values, index\u001b[38;5;241m=\u001b[39m\u001b[38;5;28mself\u001b[39m\u001b[38;5;241m.\u001b[39mindex)\u001b[38;5;241m.\u001b[39m__finalize__(\n\u001b[1;32m   4544\u001b[0m         \u001b[38;5;28mself\u001b[39m, method\u001b[38;5;241m=\u001b[39m\u001b[38;5;124m\"\u001b[39m\u001b[38;5;124mmap\u001b[39m\u001b[38;5;124m\"\u001b[39m\n\u001b[1;32m   4545\u001b[0m     )\n",
      "File \u001b[0;32m~/.local/lib/python3.9/site-packages/pandas/core/base.py:890\u001b[0m, in \u001b[0;36mIndexOpsMixin._map_values\u001b[0;34m(self, mapper, na_action)\u001b[0m\n\u001b[1;32m    887\u001b[0m         \u001b[38;5;28;01mraise\u001b[39;00m \u001b[38;5;167;01mValueError\u001b[39;00m(msg)\n\u001b[1;32m    889\u001b[0m \u001b[38;5;66;03m# mapper is a function\u001b[39;00m\n\u001b[0;32m--> 890\u001b[0m new_values \u001b[38;5;241m=\u001b[39m \u001b[43mmap_f\u001b[49m\u001b[43m(\u001b[49m\u001b[43mvalues\u001b[49m\u001b[43m,\u001b[49m\u001b[43m \u001b[49m\u001b[43mmapper\u001b[49m\u001b[43m)\u001b[49m\n\u001b[1;32m    892\u001b[0m \u001b[38;5;28;01mreturn\u001b[39;00m new_values\n",
      "File \u001b[0;32m~/.local/lib/python3.9/site-packages/pandas/_libs/lib.pyx:2919\u001b[0m, in \u001b[0;36mpandas._libs.lib.map_infer\u001b[0;34m()\u001b[0m\n",
      "Cell \u001b[0;32mIn [9], line 2\u001b[0m, in \u001b[0;36m<lambda>\u001b[0;34m(x)\u001b[0m\n\u001b[1;32m      1\u001b[0m df \u001b[38;5;241m=\u001b[39m pd\u001b[38;5;241m.\u001b[39mDataFrame\u001b[38;5;241m.\u001b[39mfrom_dict(meeting_list)\n\u001b[0;32m----> 2\u001b[0m df[\u001b[38;5;124m\"\u001b[39m\u001b[38;5;124magenda_url\u001b[39m\u001b[38;5;124m\"\u001b[39m] \u001b[38;5;241m=\u001b[39m df[\u001b[38;5;124m\"\u001b[39m\u001b[38;5;124mlinks\u001b[39m\u001b[38;5;124m\"\u001b[39m]\u001b[38;5;241m.\u001b[39mmap(\u001b[38;5;28;01mlambda\u001b[39;00m x: \u001b[43mx\u001b[49m\u001b[43m[\u001b[49m\u001b[38;5;241;43m0\u001b[39;49m\u001b[43m]\u001b[49m[\u001b[38;5;124m\"\u001b[39m\u001b[38;5;124murl\u001b[39m\u001b[38;5;124m\"\u001b[39m])\n\u001b[1;32m      3\u001b[0m df[\u001b[38;5;124m\"\u001b[39m\u001b[38;5;124mminutes_html_url\u001b[39m\u001b[38;5;124m\"\u001b[39m] \u001b[38;5;241m=\u001b[39m df[\u001b[38;5;124m\"\u001b[39m\u001b[38;5;124mlinks\u001b[39m\u001b[38;5;124m\"\u001b[39m]\u001b[38;5;241m.\u001b[39mmap(\u001b[38;5;28;01mlambda\u001b[39;00m x: get_minues_url(x, \u001b[38;5;124m\"\u001b[39m\u001b[38;5;124mhtml\u001b[39m\u001b[38;5;124m\"\u001b[39m))\n\u001b[1;32m      4\u001b[0m df[\u001b[38;5;124m\"\u001b[39m\u001b[38;5;124mminutes_pdf_url\u001b[39m\u001b[38;5;124m\"\u001b[39m] \u001b[38;5;241m=\u001b[39m df[\u001b[38;5;124m\"\u001b[39m\u001b[38;5;124mlinks\u001b[39m\u001b[38;5;124m\"\u001b[39m]\u001b[38;5;241m.\u001b[39mmap(\u001b[38;5;28;01mlambda\u001b[39;00m x: get_minues_url(x, \u001b[38;5;124m\"\u001b[39m\u001b[38;5;124mpdf\u001b[39m\u001b[38;5;124m\"\u001b[39m))\n",
      "\u001b[0;31mIndexError\u001b[0m: list index out of range"
     ]
    }
   ],
   "source": [
    "df = pd.DataFrame.from_dict(meeting_list)\n",
    "# df[\"agenda_url\"] = dfa"
   ]
  },
  {
   "cell_type": "code",
   "execution_count": 11,
   "id": "fd78c2a5-cba1-4869-85c2-a2f68fe904e2",
   "metadata": {},
   "outputs": [
    {
     "data": {
      "text/plain": [
       "[{'aria_label': 'Accessibility Advisory Committee Meeting Monday, October 03, 2022 @ 4:00 PM. Opens new tab/window',\n",
       "  'href': 'Meeting.aspx?Id=e8697880-f06f-4be5-abfd-ea0a4f69dcf7&lang=English',\n",
       "  'link_text': 'Accessibility Advisory Committee Meeting',\n",
       "  'url': 'https://pub-peterborough.escribemeetings.com/Meeting.aspx?Id=e8697880-f06f-4be5-abfd-ea0a4f69dcf7&lang=English'},\n",
       " {'aria_label': 'HTML Agenda for Accessibility Advisory Committee Meeting 10/3/2022 4:00:00 PM. Opens new tab/window',\n",
       "  'href': 'Meeting.aspx?Id=e8697880-f06f-4be5-abfd-ea0a4f69dcf7&Agenda=Agenda&lang=English',\n",
       "  'link_text': 'HTML',\n",
       "  'url': 'https://pub-peterborough.escribemeetings.com/Meeting.aspx?Id=e8697880-f06f-4be5-abfd-ea0a4f69dcf7&Agenda=Agenda&lang=English'}]"
      ]
     },
     "execution_count": 11,
     "metadata": {},
     "output_type": "execute_result"
    }
   ],
   "source": [
    "df[\"links\"][0]"
   ]
  },
  {
   "cell_type": "code",
   "execution_count": null,
   "id": "e844ed86-2352-4364-8a12-c42401d22fd5",
   "metadata": {},
   "outputs": [],
   "source": [
    "assemble_dataframe_and_save(all_data)"
   ]
  }
 ],
 "metadata": {
  "kernelspec": {
   "display_name": "Python 3 (ipykernel)",
   "language": "python",
   "name": "python3"
  },
  "language_info": {
   "codemirror_mode": {
    "name": "ipython",
    "version": 3
   },
   "file_extension": ".py",
   "mimetype": "text/x-python",
   "name": "python",
   "nbconvert_exporter": "python",
   "pygments_lexer": "ipython3",
   "version": "3.9.13"
  }
 },
 "nbformat": 4,
 "nbformat_minor": 5
}
