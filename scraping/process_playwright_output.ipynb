{
 "cells": [
  {
   "cell_type": "code",
   "execution_count": 1,
   "id": "0ebf89a6-cbf3-43c2-8cf2-4817ea50bf90",
   "metadata": {},
   "outputs": [],
   "source": [
    "from bs4 import BeautifulSoup\n"
   ]
  },
  {
   "cell_type": "code",
   "execution_count": 2,
   "id": "eaa42c00-1919-4df8-b062-49d1d9187f20",
   "metadata": {},
   "outputs": [],
   "source": [
    "import scraping"
   ]
  },
  {
   "cell_type": "code",
   "execution_count": 3,
   "id": "bc3c8586-203a-4e65-8d09-6f6e16c0bed6",
   "metadata": {},
   "outputs": [],
   "source": [
    "with open(\"../playwright/output/output.txt\", \"r\") as f:\n",
    "    html = f.read()\n",
    "    meeting_list = scraping.parse_playwright_output(html)\n",
    "    "
   ]
  },
  {
   "cell_type": "code",
   "execution_count": null,
   "id": "150bbdb6-69bb-4728-a55e-4c51d5a734ee",
   "metadata": {},
   "outputs": [],
   "source": [
    "scraping.parse_meeting_page_text()"
   ]
  },
  {
   "cell_type": "code",
   "execution_count": 4,
   "id": "29d67872-8951-4fff-85af-3bc7093a0b9f",
   "metadata": {},
   "outputs": [
    {
     "data": {
      "text/plain": [
       "0"
      ]
     },
     "execution_count": 4,
     "metadata": {},
     "output_type": "execute_result"
    }
   ],
   "source": [
    "len(meeting_list)"
   ]
  },
  {
   "cell_type": "code",
   "execution_count": 6,
   "id": "04f5cc24-f1c6-4493-b376-838b5b9c2ffa",
   "metadata": {},
   "outputs": [],
   "source": [
    "soup = BeautifulSoup(html, \"html.parser\")\n"
   ]
  },
  {
   "cell_type": "code",
   "execution_count": 8,
   "id": "3c918fed-6ed0-4e2a-825a-7ff7fe16a90b",
   "metadata": {},
   "outputs": [],
   "source": [
    "past_meeting_soup = soup.find(\"div\", {\"class\": \"past-meetings\"})\n"
   ]
  },
  {
   "cell_type": "code",
   "execution_count": 10,
   "id": "d6b814c1-97b7-4530-8ded-f08b84b73b8e",
   "metadata": {},
   "outputs": [],
   "source": [
    "    all_meetings_of_type_2021 = soup.find_all(\n",
    "        \"div\", {\"class\": \"meeting-header\"}\n",
    "    )"
   ]
  },
  {
   "cell_type": "code",
   "execution_count": null,
   "id": "510084e3-f549-4cc0-ac6b-17bd96d52a40",
   "metadata": {},
   "outputs": [],
   "source": [
    "    \n",
    "    soup = BeautifulSoup(meeting_page_text, \"html.parser\")\n",
    "    past_meeting_soup = soup.find(\"div\", {\"class\": \"past-meetings\"})\n",
    "    if not past_meeting_soup:\n",
    "        return []\n",
    "    all_meetings_of_type_2021 = past_meeting_soup.find_all(\n",
    "        \"div\", {\"class\": \"meeting-header\"}\n",
    "    )\n",
    "    parsed_meetings = []\n",
    "    for meeting_soup in all_meetings_of_type_2021:\n",
    "        meeting = parse_meeting_soup(meeting_soup)\n",
    "        parsed_meetings.append(meeting)"
   ]
  }
 ],
 "metadata": {
  "kernelspec": {
   "display_name": "Python 3 (ipykernel)",
   "language": "python",
   "name": "python3"
  },
  "language_info": {
   "codemirror_mode": {
    "name": "ipython",
    "version": 3
   },
   "file_extension": ".py",
   "mimetype": "text/x-python",
   "name": "python",
   "nbconvert_exporter": "python",
   "pygments_lexer": "ipython3",
   "version": "3.9.13"
  }
 },
 "nbformat": 4,
 "nbformat_minor": 5
}
