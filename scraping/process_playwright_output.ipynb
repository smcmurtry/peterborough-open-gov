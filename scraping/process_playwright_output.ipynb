{
 "cells": [
  {
   "cell_type": "code",
   "execution_count": 12,
   "id": "0ebf89a6-cbf3-43c2-8cf2-4817ea50bf90",
   "metadata": {},
   "outputs": [],
   "source": [
    "from bs4 import BeautifulSoup\n",
    "import scraping\n",
    "from importlib import reload  # Python 3.4+\n"
   ]
  },
  {
   "cell_type": "code",
   "execution_count": 2,
   "id": "bc3c8586-203a-4e65-8d09-6f6e16c0bed6",
   "metadata": {},
   "outputs": [],
   "source": [
    "with open(\"../playwright/output/output.txt\", \"r\") as f:\n",
    "    html = f.read()\n",
    "    meeting_list = scraping.parse_playwright_output(html)"
   ]
  },
  {
   "cell_type": "code",
   "execution_count": 3,
   "id": "29d67872-8951-4fff-85af-3bc7093a0b9f",
   "metadata": {},
   "outputs": [
    {
     "data": {
      "text/plain": [
       "1640"
      ]
     },
     "execution_count": 3,
     "metadata": {},
     "output_type": "execute_result"
    }
   ],
   "source": [
    "len(meeting_list)"
   ]
  },
  {
   "cell_type": "code",
   "execution_count": 4,
   "id": "e7898478-f423-443b-8c6b-28da79a27a3a",
   "metadata": {},
   "outputs": [
    {
     "data": {
      "text/plain": [
       "{'meeting_type': 'Accessibility Advisory Committee Meeting',\n",
       " 'location': 'Electronic Meeting',\n",
       " 'datetime_iso': '2022-10-03T16:00:00',\n",
       " 'links': [{'aria_label': 'Accessibility Advisory Committee Meeting Monday, October 03, 2022 @ 4:00 PM. Opens new tab/window',\n",
       "   'href': 'Meeting.aspx?Id=e8697880-f06f-4be5-abfd-ea0a4f69dcf7&lang=English',\n",
       "   'link_text': 'Accessibility Advisory Committee Meeting',\n",
       "   'url': 'https://pub-peterborough.escribemeetings.com/Meeting.aspx?Id=e8697880-f06f-4be5-abfd-ea0a4f69dcf7&lang=English'},\n",
       "  {'aria_label': 'HTML Agenda for Accessibility Advisory Committee Meeting 10/3/2022 4:00:00 PM. Opens new tab/window',\n",
       "   'href': 'Meeting.aspx?Id=e8697880-f06f-4be5-abfd-ea0a4f69dcf7&Agenda=Agenda&lang=English',\n",
       "   'link_text': 'HTML',\n",
       "   'url': 'https://pub-peterborough.escribemeetings.com/Meeting.aspx?Id=e8697880-f06f-4be5-abfd-ea0a4f69dcf7&Agenda=Agenda&lang=English'}]}"
      ]
     },
     "execution_count": 4,
     "metadata": {},
     "output_type": "execute_result"
    }
   ],
   "source": [
    "meeting_list[0]"
   ]
  },
  {
   "cell_type": "code",
   "execution_count": 13,
   "id": "703ae43b-b529-46b7-afc9-ed2bc3ba223e",
   "metadata": {},
   "outputs": [],
   "source": [
    "import data_exploration"
   ]
  },
  {
   "cell_type": "code",
   "execution_count": 14,
   "id": "3cb97a5d-6076-4d92-85af-9caa0816fc90",
   "metadata": {},
   "outputs": [],
   "source": [
    "data_exploration = reload(data_exploration)"
   ]
  },
  {
   "cell_type": "code",
   "execution_count": 15,
   "id": "70a29a15-b504-45fc-baf5-2d137d632fb8",
   "metadata": {},
   "outputs": [],
   "source": [
    "data_exploration.assemble_dataframe_and_save(meeting_list)"
   ]
  },
  {
   "cell_type": "code",
   "execution_count": null,
   "id": "8352bb6d-19fe-4287-85c7-0f13750c2fac",
   "metadata": {},
   "outputs": [],
   "source": []
  },
  {
   "cell_type": "code",
   "execution_count": 9,
   "id": "dba1e461-f518-4d85-8971-bbffd0f6ff79",
   "metadata": {},
   "outputs": [
    {
     "ename": "IndexError",
     "evalue": "list index out of range",
     "output_type": "error",
     "traceback": [
      "\u001b[0;31m---------------------------------------------------------------------------\u001b[0m",
      "\u001b[0;31mIndexError\u001b[0m                                Traceback (most recent call last)",
      "Cell \u001b[0;32mIn [9], line 2\u001b[0m\n\u001b[1;32m      1\u001b[0m df \u001b[38;5;241m=\u001b[39m pd\u001b[38;5;241m.\u001b[39mDataFrame\u001b[38;5;241m.\u001b[39mfrom_dict(meeting_list)\n\u001b[0;32m----> 2\u001b[0m df[\u001b[38;5;124m\"\u001b[39m\u001b[38;5;124magenda_url\u001b[39m\u001b[38;5;124m\"\u001b[39m] \u001b[38;5;241m=\u001b[39m df[\u001b[38;5;124m\"\u001b[39m\u001b[38;5;124mlinks\u001b[39m\u001b[38;5;124m\"\u001b[39m]\u001b[38;5;241m.\u001b[39mmap(\u001b[38;5;28;01mlambda\u001b[39;00m x: x[\u001b[38;5;241m0\u001b[39m][\u001b[38;5;124m\"\u001b[39m\u001b[38;5;124murl\u001b[39m\u001b[38;5;124m\"\u001b[39m])\n\u001b[1;32m      3\u001b[0m df[\u001b[38;5;124m\"\u001b[39m\u001b[38;5;124mminutes_html_url\u001b[39m\u001b[38;5;124m\"\u001b[39m] \u001b[38;5;241m=\u001b[39m df[\u001b[38;5;124m\"\u001b[39m\u001b[38;5;124mlinks\u001b[39m\u001b[38;5;124m\"\u001b[39m]\u001b[38;5;241m.\u001b[39mmap(\u001b[38;5;28;01mlambda\u001b[39;00m x: get_minues_url(x, \u001b[38;5;124m\"\u001b[39m\u001b[38;5;124mhtml\u001b[39m\u001b[38;5;124m\"\u001b[39m))\n\u001b[1;32m      4\u001b[0m df[\u001b[38;5;124m\"\u001b[39m\u001b[38;5;124mminutes_pdf_url\u001b[39m\u001b[38;5;124m\"\u001b[39m] \u001b[38;5;241m=\u001b[39m df[\u001b[38;5;124m\"\u001b[39m\u001b[38;5;124mlinks\u001b[39m\u001b[38;5;124m\"\u001b[39m]\u001b[38;5;241m.\u001b[39mmap(\u001b[38;5;28;01mlambda\u001b[39;00m x: get_minues_url(x, \u001b[38;5;124m\"\u001b[39m\u001b[38;5;124mpdf\u001b[39m\u001b[38;5;124m\"\u001b[39m))\n",
      "File \u001b[0;32m~/.local/lib/python3.9/site-packages/pandas/core/series.py:4542\u001b[0m, in \u001b[0;36mSeries.map\u001b[0;34m(self, arg, na_action)\u001b[0m\n\u001b[1;32m   4463\u001b[0m \u001b[38;5;28;01mdef\u001b[39;00m \u001b[38;5;21mmap\u001b[39m(\n\u001b[1;32m   4464\u001b[0m     \u001b[38;5;28mself\u001b[39m,\n\u001b[1;32m   4465\u001b[0m     arg: Callable \u001b[38;5;241m|\u001b[39m Mapping \u001b[38;5;241m|\u001b[39m Series,\n\u001b[1;32m   4466\u001b[0m     na_action: Literal[\u001b[38;5;124m\"\u001b[39m\u001b[38;5;124mignore\u001b[39m\u001b[38;5;124m\"\u001b[39m] \u001b[38;5;241m|\u001b[39m \u001b[38;5;28;01mNone\u001b[39;00m \u001b[38;5;241m=\u001b[39m \u001b[38;5;28;01mNone\u001b[39;00m,\n\u001b[1;32m   4467\u001b[0m ) \u001b[38;5;241m-\u001b[39m\u001b[38;5;241m>\u001b[39m Series:\n\u001b[1;32m   4468\u001b[0m     \u001b[38;5;124;03m\"\"\"\u001b[39;00m\n\u001b[1;32m   4469\u001b[0m \u001b[38;5;124;03m    Map values of Series according to an input mapping or function.\u001b[39;00m\n\u001b[1;32m   4470\u001b[0m \n\u001b[0;32m   (...)\u001b[0m\n\u001b[1;32m   4540\u001b[0m \u001b[38;5;124;03m    dtype: object\u001b[39;00m\n\u001b[1;32m   4541\u001b[0m \u001b[38;5;124;03m    \"\"\"\u001b[39;00m\n\u001b[0;32m-> 4542\u001b[0m     new_values \u001b[38;5;241m=\u001b[39m \u001b[38;5;28;43mself\u001b[39;49m\u001b[38;5;241;43m.\u001b[39;49m\u001b[43m_map_values\u001b[49m\u001b[43m(\u001b[49m\u001b[43marg\u001b[49m\u001b[43m,\u001b[49m\u001b[43m \u001b[49m\u001b[43mna_action\u001b[49m\u001b[38;5;241;43m=\u001b[39;49m\u001b[43mna_action\u001b[49m\u001b[43m)\u001b[49m\n\u001b[1;32m   4543\u001b[0m     \u001b[38;5;28;01mreturn\u001b[39;00m \u001b[38;5;28mself\u001b[39m\u001b[38;5;241m.\u001b[39m_constructor(new_values, index\u001b[38;5;241m=\u001b[39m\u001b[38;5;28mself\u001b[39m\u001b[38;5;241m.\u001b[39mindex)\u001b[38;5;241m.\u001b[39m__finalize__(\n\u001b[1;32m   4544\u001b[0m         \u001b[38;5;28mself\u001b[39m, method\u001b[38;5;241m=\u001b[39m\u001b[38;5;124m\"\u001b[39m\u001b[38;5;124mmap\u001b[39m\u001b[38;5;124m\"\u001b[39m\n\u001b[1;32m   4545\u001b[0m     )\n",
      "File \u001b[0;32m~/.local/lib/python3.9/site-packages/pandas/core/base.py:890\u001b[0m, in \u001b[0;36mIndexOpsMixin._map_values\u001b[0;34m(self, mapper, na_action)\u001b[0m\n\u001b[1;32m    887\u001b[0m         \u001b[38;5;28;01mraise\u001b[39;00m \u001b[38;5;167;01mValueError\u001b[39;00m(msg)\n\u001b[1;32m    889\u001b[0m \u001b[38;5;66;03m# mapper is a function\u001b[39;00m\n\u001b[0;32m--> 890\u001b[0m new_values \u001b[38;5;241m=\u001b[39m \u001b[43mmap_f\u001b[49m\u001b[43m(\u001b[49m\u001b[43mvalues\u001b[49m\u001b[43m,\u001b[49m\u001b[43m \u001b[49m\u001b[43mmapper\u001b[49m\u001b[43m)\u001b[49m\n\u001b[1;32m    892\u001b[0m \u001b[38;5;28;01mreturn\u001b[39;00m new_values\n",
      "File \u001b[0;32m~/.local/lib/python3.9/site-packages/pandas/_libs/lib.pyx:2919\u001b[0m, in \u001b[0;36mpandas._libs.lib.map_infer\u001b[0;34m()\u001b[0m\n",
      "Cell \u001b[0;32mIn [9], line 2\u001b[0m, in \u001b[0;36m<lambda>\u001b[0;34m(x)\u001b[0m\n\u001b[1;32m      1\u001b[0m df \u001b[38;5;241m=\u001b[39m pd\u001b[38;5;241m.\u001b[39mDataFrame\u001b[38;5;241m.\u001b[39mfrom_dict(meeting_list)\n\u001b[0;32m----> 2\u001b[0m df[\u001b[38;5;124m\"\u001b[39m\u001b[38;5;124magenda_url\u001b[39m\u001b[38;5;124m\"\u001b[39m] \u001b[38;5;241m=\u001b[39m df[\u001b[38;5;124m\"\u001b[39m\u001b[38;5;124mlinks\u001b[39m\u001b[38;5;124m\"\u001b[39m]\u001b[38;5;241m.\u001b[39mmap(\u001b[38;5;28;01mlambda\u001b[39;00m x: \u001b[43mx\u001b[49m\u001b[43m[\u001b[49m\u001b[38;5;241;43m0\u001b[39;49m\u001b[43m]\u001b[49m[\u001b[38;5;124m\"\u001b[39m\u001b[38;5;124murl\u001b[39m\u001b[38;5;124m\"\u001b[39m])\n\u001b[1;32m      3\u001b[0m df[\u001b[38;5;124m\"\u001b[39m\u001b[38;5;124mminutes_html_url\u001b[39m\u001b[38;5;124m\"\u001b[39m] \u001b[38;5;241m=\u001b[39m df[\u001b[38;5;124m\"\u001b[39m\u001b[38;5;124mlinks\u001b[39m\u001b[38;5;124m\"\u001b[39m]\u001b[38;5;241m.\u001b[39mmap(\u001b[38;5;28;01mlambda\u001b[39;00m x: get_minues_url(x, \u001b[38;5;124m\"\u001b[39m\u001b[38;5;124mhtml\u001b[39m\u001b[38;5;124m\"\u001b[39m))\n\u001b[1;32m      4\u001b[0m df[\u001b[38;5;124m\"\u001b[39m\u001b[38;5;124mminutes_pdf_url\u001b[39m\u001b[38;5;124m\"\u001b[39m] \u001b[38;5;241m=\u001b[39m df[\u001b[38;5;124m\"\u001b[39m\u001b[38;5;124mlinks\u001b[39m\u001b[38;5;124m\"\u001b[39m]\u001b[38;5;241m.\u001b[39mmap(\u001b[38;5;28;01mlambda\u001b[39;00m x: get_minues_url(x, \u001b[38;5;124m\"\u001b[39m\u001b[38;5;124mpdf\u001b[39m\u001b[38;5;124m\"\u001b[39m))\n",
      "\u001b[0;31mIndexError\u001b[0m: list index out of range"
     ]
    }
   ],
   "source": [
    "df = pd.DataFrame.from_dict(meeting_list)\n",
    "# df[\"agenda_url\"] = dfa"
   ]
  },
  {
   "cell_type": "code",
   "execution_count": 11,
   "id": "fd78c2a5-cba1-4869-85c2-a2f68fe904e2",
   "metadata": {},
   "outputs": [
    {
     "data": {
      "text/plain": [
       "[{'aria_label': 'Accessibility Advisory Committee Meeting Monday, October 03, 2022 @ 4:00 PM. Opens new tab/window',\n",
       "  'href': 'Meeting.aspx?Id=e8697880-f06f-4be5-abfd-ea0a4f69dcf7&lang=English',\n",
       "  'link_text': 'Accessibility Advisory Committee Meeting',\n",
       "  'url': 'https://pub-peterborough.escribemeetings.com/Meeting.aspx?Id=e8697880-f06f-4be5-abfd-ea0a4f69dcf7&lang=English'},\n",
       " {'aria_label': 'HTML Agenda for Accessibility Advisory Committee Meeting 10/3/2022 4:00:00 PM. Opens new tab/window',\n",
       "  'href': 'Meeting.aspx?Id=e8697880-f06f-4be5-abfd-ea0a4f69dcf7&Agenda=Agenda&lang=English',\n",
       "  'link_text': 'HTML',\n",
       "  'url': 'https://pub-peterborough.escribemeetings.com/Meeting.aspx?Id=e8697880-f06f-4be5-abfd-ea0a4f69dcf7&Agenda=Agenda&lang=English'}]"
      ]
     },
     "execution_count": 11,
     "metadata": {},
     "output_type": "execute_result"
    }
   ],
   "source": [
    "df[\"links\"][0]"
   ]
  },
  {
   "cell_type": "code",
   "execution_count": null,
   "id": "e844ed86-2352-4364-8a12-c42401d22fd5",
   "metadata": {},
   "outputs": [],
   "source": [
    "assemble_dataframe_and_save(all_data)"
   ]
  }
 ],
 "metadata": {
  "kernelspec": {
   "display_name": "Python 3 (ipykernel)",
   "language": "python",
   "name": "python3"
  },
  "language_info": {
   "codemirror_mode": {
    "name": "ipython",
    "version": 3
   },
   "file_extension": ".py",
   "mimetype": "text/x-python",
   "name": "python",
   "nbconvert_exporter": "python",
   "pygments_lexer": "ipython3",
   "version": "3.9.13"
  }
 },
 "nbformat": 4,
 "nbformat_minor": 5
}
