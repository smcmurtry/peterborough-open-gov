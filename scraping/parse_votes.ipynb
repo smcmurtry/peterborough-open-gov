{
 "cells": [
  {
   "cell_type": "code",
   "execution_count": 1,
   "id": "31623f63-5340-49f1-8755-379250eda01a",
   "metadata": {},
   "outputs": [],
   "source": [
    "from pdf_data_extract import convert_to_text"
   ]
  },
  {
   "cell_type": "code",
   "execution_count": 3,
   "id": "fcb50a96-0049-44cd-a1b3-efe7596ca956",
   "metadata": {},
   "outputs": [],
   "source": [
    "convert_to_text(\"./sample_minutes_with_votes.pdf\", \"./sample_minutes_with_votes.txt\")\n"
   ]
  },
  {
   "cell_type": "code",
   "execution_count": 4,
   "id": "834ac4d4-1622-4303-a74c-537d019ecf70",
   "metadata": {},
   "outputs": [],
   "source": [
    "f = open(\"./sample_minutes_with_votes.txt\", \"r\")"
   ]
  },
  {
   "cell_type": "code",
   "execution_count": 5,
   "id": "af81ddc9-1820-49ab-b2a7-a78561a32eaf",
   "metadata": {},
   "outputs": [],
   "source": [
    "text = f.read()"
   ]
  },
  {
   "cell_type": "code",
   "execution_count": 6,
   "id": "7c25221a-51e5-4e0f-900c-9921cae731af",
   "metadata": {},
   "outputs": [],
   "source": [
    "f.close()"
   ]
  },
  {
   "cell_type": "code",
   "execution_count": 7,
   "id": "941b7f14-c6bd-491b-8499-f1e3f677d9ac",
   "metadata": {},
   "outputs": [
    {
     "data": {
      "text/plain": [
       "34826"
      ]
     },
     "execution_count": 7,
     "metadata": {},
     "output_type": "execute_result"
    }
   ],
   "source": [
    "len(text)"
   ]
  },
  {
   "cell_type": "code",
   "execution_count": 11,
   "id": "a687275d-0ef5-4e06-a4d8-595046cee686",
   "metadata": {},
   "outputs": [
    {
     "data": {
      "text/plain": [
       "'u'"
      ]
     },
     "execution_count": 11,
     "metadata": {},
     "output_type": "execute_result"
    }
   ],
   "source": [
    "text[13]"
   ]
  },
  {
   "cell_type": "code",
   "execution_count": null,
   "id": "df92db24-b072-4626-a747-187b2ec5282a",
   "metadata": {},
   "outputs": [],
   "source": [
    "def get_chunk()"
   ]
  },
  {
   "cell_type": "code",
   "execution_count": null,
   "id": "9245616c-96f9-48cc-b98c-8b8c934fdc3b",
   "metadata": {},
   "outputs": [],
   "source": [
    "i = 0\n"
   ]
  },
  {
   "cell_type": "code",
   "execution_count": 107,
   "id": "22690e69-d853-444e-8fb7-cd6a328e53b4",
   "metadata": {},
   "outputs": [],
   "source": [
    "for_start_i = text.find(\"For (\")\n",
    "next_carried_i = text.find(\"Carried (\")\n",
    "next_lost_i = text.find(\"Lost (\")\n",
    "result_start_i = 0\n",
    "if next_carried_i < next_lost_i:\n",
    "    result_start_i = next_carried_i\n",
    "else:\n",
    "    result_start_i = next_lost_i\n",
    "\n",
    "for_end_i = text[for_start_i:].find(\")\") + for_start_i\n",
    "for_text = text[for_start_i:for_end_i+1]\n",
    "result_end_i = text[result_start_i:].find(\")\") + result_start_i\n",
    "result_text = text[result_start_i:result_end_i+1]\n",
    "\n",
    "against_exists = False\n",
    "if \"Against (\" in text[for_end_i:result_start_i]:\n",
    "    against_exists = True\n",
    "    against_start_i = text[for_end_i:result_start_i].find(\"Against (\")\n",
    "    against_end_i = text[against_start_i:result_start_i].find(\")\") + against_start_i\n",
    "    against_text = text[against_start_i:against_end_i+1]\n",
    "\n",
    "if against_exists:\n",
    "    _councillors_against = text[against_end_i+2:result_start_i]\n",
    "    councillors_against = get_voters(_councillors_against)\n",
    "else:\n",
    "    councillors_against = []\n",
    "_councillors_for = text[for_end_i+2:result_start_i]\n",
    "councillors_for = get_voters(_councillors_for)\n",
    "\n",
    "vote_subject = \"\" # todo\n",
    "\n",
    "data = {\n",
    "    \"councillors_for\": councillors_for,\n",
    "    \"councillors_against\": councillors_against,\n",
    "    \"result_text\": result_text\n",
    "}"
   ]
  },
  {
   "cell_type": "code",
   "execution_count": 108,
   "id": "682a9bfd-e5be-49d0-8001-db712fa09877",
   "metadata": {},
   "outputs": [
    {
     "data": {
      "text/plain": [
       "{'councillors_for': ['Councillor Akapo',\n",
       "  'Councillor Baldwin',\n",
       "  'Councillor Beamer',\n",
       "  'Councillor Clarke',\n",
       "  'Councillor Pappas',\n",
       "  'Councillor Parnell',\n",
       "  'Councillor Riel',\n",
       "  'Mayor Therrien',\n",
       "  'Councillor Vassiliadis',\n",
       "  'Councillor Wright',\n",
       "  'Councillor Zippel'],\n",
       " 'councillors_against': [],\n",
       " 'result_text': 'Carried (11 to 0)'}"
      ]
     },
     "execution_count": 108,
     "metadata": {},
     "output_type": "execute_result"
    }
   ],
   "source": [
    "data"
   ]
  },
  {
   "cell_type": "code",
   "execution_count": 100,
   "id": "2164fa51-4b10-4687-b722-bf70fdb3003b",
   "metadata": {},
   "outputs": [],
   "source": [
    "def get_voters(_councillors_votes):\n",
    "    councillors_votes = []\n",
    "    for x in _councillors_votes.split(\",\"):\n",
    "        stripped = x.strip()\n",
    "        words = stripped.split(\" \")\n",
    "        if \"and\" in words:\n",
    "            i = words.index(\"and\")\n",
    "            words.pop(i)\n",
    "        councillor = \" \".join(words)\n",
    "        councillors_votes.append(councillor)\n",
    "    return councillors_votes\n"
   ]
  },
  {
   "cell_type": "code",
   "execution_count": 101,
   "id": "5a3fbc23-5c65-414c-aa6f-f62281c36ddf",
   "metadata": {},
   "outputs": [
    {
     "data": {
      "text/plain": [
       "' Councillor Akapo, Councillor Baldwin, Councillor Beamer, Councillor Clarke, Councillor Pappas, Councillor Parnell, Councillor Riel, Mayor Therrien, Councillor Vassiliadis, Councillor Wright, and Councillor Zippel '"
      ]
     },
     "execution_count": 101,
     "metadata": {},
     "output_type": "execute_result"
    }
   ],
   "source": [
    "_councillors_for"
   ]
  },
  {
   "cell_type": "code",
   "execution_count": 102,
   "id": "04227117-aef9-4827-9eee-61da4db12c64",
   "metadata": {},
   "outputs": [
    {
     "data": {
      "text/plain": [
       "['Councillor Akapo',\n",
       " 'Councillor Baldwin',\n",
       " 'Councillor Beamer',\n",
       " 'Councillor Clarke',\n",
       " 'Councillor Pappas',\n",
       " 'Councillor Parnell',\n",
       " 'Councillor Riel',\n",
       " 'Mayor Therrien',\n",
       " 'Councillor Vassiliadis',\n",
       " 'Councillor Wright',\n",
       " 'Councillor Zippel']"
      ]
     },
     "execution_count": 102,
     "metadata": {},
     "output_type": "execute_result"
    }
   ],
   "source": [
    "get_voters(_councillors_for)\n"
   ]
  },
  {
   "cell_type": "code",
   "execution_count": null,
   "id": "55cf51d7-ed0a-42af-956c-491f91a0397a",
   "metadata": {},
   "outputs": [],
   "source": []
  },
  {
   "cell_type": "code",
   "execution_count": 23,
   "id": "8c386075-b7aa-4649-9a93-ba2af558f7ca",
   "metadata": {},
   "outputs": [
    {
     "data": {
      "text/plain": [
       "\"\\n\\n\\n\\n\\n\\nCity Council Minutes\\nElectronic Meeting\\n\\nJune 27, 2022\\n\\nPresent: Councillor Akapo\\nCouncillor Baldwin\\n\\nCouncillor Beamer\\n\\n\\nCouncillor Clarke\\nCouncillor Pappas\\n\\nCouncillor Parnell\\n\\nCouncillor Riel\\n\\n\\nMayor Therrien\\nCouncillor Vassiliadis\\n\\nCouncillor Wright\\n\\n\\nCouncillor Zippel\\n\\n\\nSandra Clancy, Chief Administrative Officer\\nStaff:\\nRichard Freymond, Commissioner of Corporate and Legislative Services\\n\\n\\nNatalie Garnett, Deputy City Clerk\\nKen Hetherington, Chief Planner\\n\\nKevin Jones, Manager, Transportation Services\\n\\nJohn Kennedy, City Clerk\\n\\n\\nSheldon Laidman, Commissioner of Community Services\\nMichael Papadacos, Manager, Infrastructure Planning\\n\\nDavid Potts, City Solicitor\\n\\n\\nJasbir Raina, Commissioner, Infrastructure and Planning\\n\\nBrendan Wedley, Manager of Communication Services\\n\\nCall to Order\\nThe meeting was called to order at 6:05 p.m. Approval of Minutes Moved by Councillor Riel Seconded by Councillor Pappas That the City Council minutes of May 30, June 6 and June 13, 2022 be approved.\\n\\n\\nFor (11): Councillor Akapo, Councillor Baldwin, Councillor Beamer, Councillor Clarke, Councillor Pappas, Councillor Parnell, Councillor Riel, Mayor Therrien, Councillor Vassiliadis, Councillor Wright, and Councillor Zippel Carried (11 to 0)\\nDisclosure of Pecuniary Interest Councillor Parnell - Central Area (Bethune Street) Flood Reduction Project: Budget Increase and Increase in Agreement for Detailed Design and Contract Administration, Report IPSENG22-023 Councillor Parnell declared a conflict with report IPSENG22-023, Bethune Street Flood Reduction, as a family member is employed on this project. Registered Delegations Roy Brady, 136 Ware Street Brian Christoph, 225 Stewart Street Thomas Luloff, Bird Friendly Peterborough Consent Items: Reports approved under one motion Moved by Councillor Vassiliadis Seconded by Councillor Akapo That reports CLSFS22-017B, IPSPL22-010, CSD22-005, CSRS22-001, IPSPL22-008, IPSPL22-009, IPSENG22-023, CLSOCS22-001, IPSAIR22-003, IPSAIR22-004, IPSRE22-004, CLSFS22-019, CLSCLK22-018, CLSCLK22-015, CSSS22-002, CSSS22-016, CSSS22-018, CLSFS22-020, IPSPL22-011, CSSS22-020, Letter of Support for Loomex Group, PKED22-005, CLSFS22-022, IPSIM22-018, IPSIM22- 015 and CSSS22-017 be approved on Consent. For (11): Councillor Akapo, Councillor Baldwin, Councillor Beamer, Councillor Clarke, Councillor Pappas, Councillor Parnell, Councillor Riel, Mayor Therrien, Councillor Vassiliadis, Councillor Wright, and Councillor Zippel Carried (11 to 0)\\n2023 Preliminary Budget Guideline Report, Report CLSFS22-017 That Council approve the recommendations outlined in Report CLSFS22-017 dated June 6, 2022, of the Commissioner of Corporate and Legislative Services as follows:\\na) That Report CLSFS22-017, advising Council that a public meeting will be held on June 22, 2022 at 6:00 pm, to present a Preliminary 2023 Budget Guideline Report, as set out in Appendix A to Report CLSFS22-017, and to hear public delegations, be received.\\n\\n\\n\\nb) That a final version of the 2023 Budget Guideline Report be presented to the July 11, 2022 Finance Committee meeting. 2021 Investment Report, Report CLSFS22-007 That Council approve the recommendation outlined in Report CLSFS22-007 dated June 6, 2022, of the Commissioner of Corporate and Legislative Services, as follows: That the 2021 Investment Report, outlined in report CLSFS22-007, dated June 6, 2022, of the Commissioner of Corporate and Legislative Services, be received for information. Precommitment of Cost sharing costs for 689 Towerhill Road Development, Construction and Cost Sharing, Report IPSPL22-010 That Council approve the recommendation outlined in Report IPSPL22-010, dated June 6, 2022, of the Interim Commissioner of Infrastructure and Planning Services as follows:\\nThat the City provide a pre-commitment in the 2023 Budget in the amount of $290,500.00, towards the 689 Towerhill Road Development External Works Project. 2022 Investment Grant Surplus Allocation, Report CSD22-005 That Council approve the recommendation outlined in Report CSD22-005, dated June 6, 2022, of the Commissioner of Community Services as follows:\\nThat the recommendations of the Community Investment Grant Advisory Committee in the total amount of $20,458 be allocated to various local charitable and Not-For-Profit organizations (NFP’s) as detailed in Table 1. Review of Permitting and Ball Diamond Process, Report CSRS22-001 That Council approves the recommendations in Report CSRS22-001, dated June 6, 2022, of the Commissioner of Community Services as follows: That effective starting in the 2023 season: a) Prime time hours be defined as 6:00 p.m. to 11:00 p.m., and non-prime time hours be defined as 8:00 a.m. to 6:00 p.m.; b) Consistent time blocks be utilized for rental allocations and permitting on outdoor sport facilities; c) Northcrest Level C ball diamond be removed from the permitting inventory; d) That outdoor sport facilities, such as ball diamonds and fields, be defined as follows; i. Level Premier – facilities include sport field lights, bleachers, and additional amenities not included in Level A sport facilities; ii. Level A – facilities include sport field lights, and bleachers as a minimum standard;\\n\\n\\niii. Level B – facilities do not include sport field lights; iv. Level C – facilities do not include additional amenities and are designed for youth-level play; e) That adult level play is not permitted on Level C sport facilities; f) That user fees are applied to all sport facility permits, including games, practices, and/or tournaments; g) That user groups that are designed to provide access to sport for youth and/or persons with disabilities are provided a discounted rate, approved through the annual budgetary process; and h) That staff review the 2022 and 2023 usage of ball diamonds following implementation of the new permitting processes and provide Council with recommendations for capital improvements of ball diamonds in the 2024 capital budget related to the removal of three (3) Level B diamonds at Morrow Park scheduled to begin at the end of the 2022 season. Zoning By-law Amendment for 482 Hopkins Avenue, Report IPSPL22-008 That Council approve the recommendations outlined in Report IPSPL22-008, dated June 6, 2022, of the Interim Commissioner of Infrastructure and Planning Services, as follows:\\na) That Section 3.9 Exceptions, of the Zoning By-law 97-123 be amended by adding Exception number .351 in accordance with Exhibit C of Report IPSPL22- 008;\\nb) That the subject property be rezoned from R.1,1m,2m – Residential District to R.3-351 – Residential District in accordance with the draft amendment attached as Exhibit ‘C’ to Report IPSPL22-008. Temporary Use Zoning By-law Amendment for 873 High Street, Report IPSPL22-009 That Council approve the recommendation outlined in Report IPSPL22-009, dated June 6, 2022, of the Interim Commissioner of Infrastructure and Planning Services, as follows: That a Temporary Use Zoning By-law Amendment be approved pursuant to Section 39 of the Planning Act, R.S.O. c.P.13, to permit a portion of the existing building known as 873 High Street to be used as a printing shop for a period of up to two (2) years in accordance with Exhibit C of Report IPSPL22-009. Report of Closed Session, Report CLSOCS22-001 That Council approve the recommendation outlined in Report CLSOCS22-001 dated June 13, 2022 of the City Solicitor as follows: That staff be authorized to proceed as outlined in Report CLSOCS22-001 dated June 13, 2022 of the City Solicitor respecting incorporation of a municipal services corporation. Report of Closed Session, Report IPSAIR22-003\\n\\n\\nThat Council approve the recommendation outlined in Report IPSAIR22-003, dated June 13, 2022, of the Interim Commissioner of Infrastructure and Planning Services as follows: That staff be authorized to proceed as outlined in Closed Session Report IPSAIR22-003, dated June 13, 2022, of the Interim Commissioner of Infrastructure and Planning Services. Report of Closed Session, Report IPSAIR22-004 That Council approve the recommendations outlined in Report IPSAIR22-004, dated June 13, 2022, of the Interim Commissioner of Infrastructure and Planning Services as follows: That, respecting certain long-term leases at the Peterborough Municipal Airport, staff be authorized to proceed as outlined in Closed Session Report IPSAIR22- 004, dated June 13, 2022, of the Interim Commissioner of Infrastructure and Planning Services. Report of Closed Session, Report IPSRE22-004 That Council approve the recommendation outlined in Report IPSRE22-004, dated June 13, 2022, of the Commissioner of Infrastructure and Planning Services, as follows: That staff be authorized to proceed as outlined in Closed Session Report IPSRE22-004 dated June 13, 2022 of the Interim Commissioner of Infrastructure and Planning Services. Notice of Public Meeting - Development Charge Background Studies and Community Benefits Charge, Report CLSFS22-019 That Council approve the recommendations outlined in Report CLSFS22-019 dated June 13,2022, of the Commissioner of Corporate and Legislative Services, as follows:\\na) That Report CLSFS22-019 advising Council that a virtual public meeting will be held on June 27, 2022 at 5:00 pm to present the 2022 Planning Area Specific Development Charges Background Study and the 2022 City-wide Development Charge Amendment Background Study and to hear public delegations, be received for information;\\nb) That the Community Benefits Charge White Paper attached as Appendix C to Report CLSFS22-019, be received for information. Integrity Commissioner Report on Complaint, Report CLSCLK22-018 That Council approve the recommendation outlined in Report CLSCLK22-018, dated June 13, 2022, of the City Clerk, on behalf of the Integrity Commissioner, as follows:\\n\\n\\n\\nThat the Report on Complaint of the City of Peterborough Integrity Commissioner, Ayotte v. Therrien, 2022 ONMIC 10, dated May 18, 2022, attached as Appendix A to Report CLSCLK22-018, be received for information. 2021 Civic Awards, Report CLSCLK22-015 That Council approve the recommendation outlined in Report CLSCLK22-015 dated June 13, 2022, of the City Clerk, as follows:\\nThat Council award the 2021 Civic Awards via a prerecorded electronic format. Peterborough Housing Corporation Capital Plan Update, Report CSSS22-002 That Council approve the recommendations outlined in report CSSS22-002, dated June 13, 2022 of the Commissioner of Community Services as follows:\\na) That the report be received for information; and\\nb) That up to $300,000 be approved to be drawn from the DOOR Reserve to cover the cost of demolition at 681 Monaghan Road. Canada Wide Early Learning and Child Care System, Report CSSS22-016 That Council approve the recommendations outlined in Report CSSS22-016, dated June 13, 2022 of the Commissioner of Community Services, as follows:\\na)That the report be received for information;\\nb)That staff be directed to opt-in to the Canada Wide Early Learning and Child Care System for the Directly Operated child care programs and apply for Canada Wide Early Learning and Child Care funding; and\\nc)That staff be directed to reduce the approved 2022 DOP parent fees for children 0 – 5 years by 50% (to a minimum of $12 per day) effective January 1, 2023 as required and outlined in the Canada Wide Early Learning and Child Care funding guidelines. Affordable Housing - Habitat for Humanity Leahy's Lane Phase 1 and 2, Report CSSS22-018 That Council approve the recommendations outlined in Report CSSS22-018 dated June 13, 2022, of the Commissioner of Community Services as follows:\\na)That the Affordable Housing Community Improvement Plan program incentives outlined and approved in Report CSSS20-020 be increased by $150,429 to refund the actual municipal costs for Habitat for Humanity Peterborough and Kawartha Region’s 33 Leahy’s Lane project (Leahy’s Lane Phase 1);\\nb)That the Affordable Housing Community Improvement Plan program application be approved for the proposed 12-unit second phase of the affordable\\n\\n\\nhomeownership project at 21 Parkhill Road East Peterborough (Leahy’s Lane Phase 2), in accordance with Report CSSS22-018;\\nc)That $298,196 in municipal incentives for the Leahy’s Lane Phase 2 project be refunded in accordance with Report CSSS22-018; and\\nd)That the Mayor and Clerk be authorized to enter into agreements for project funding with applicants and other associated agreements, on terms satisfactory to the Commissioner of Community Services and in forms acceptable to the City Solicitor. Update on Bill 109 and proposed projects to improve Development Approval process review, Report IPSPL22-011 That Council approve the recommendations outlined in Report IPSPL22-011, dated June 13, 2022, of the Interim Commissioner of Infrastructure and Planning Services as follows:\\na) That Report IPSPL22-011 be received for information; and\\nb) That By-law 11-081 be further amended in the form of the amending by-law attached as Exhibit B to Report IPSPL22-011. Incorporation of Peterborough Housing Municipal Services Corporation, Report CSSS22-020 That Council approve the recommendations outlined in Report CSSS22-020 dated June 13, 2022 of the Commissioner, Community Services, as follows:\\na) That the KPMG Business Case attached as Appendix A to Report CSSS22-020 dated June 13, 2022 of the Commissioner, Community Services (June 13 Report), be adopted as the business case study pursuant to section 6 of O.Reg. 599/06 for the purposes of incorporating a municipal services corporation (MSC) for the management and construction of affordable housing; and\\nb) That the Asset Transfer Policy attached as Appendix B to the June 13 Report be adopted pursuant to section 7 of O.Reg. 599/06. Letter of Support for Loomex Group That the Council for the city of Peterborough directs the Mayor's office to write a letter of support in favour of the Loomex Group's bid to secure a federal contract for Aircrew training, where the Loomex Group would manage/lead the 25-year contract from Peterborough. That could expand on the employment opportunities at our airport.\\n\\n\\n\\n\\nPKED Mid-Year Progress Report, Report PKED22-005 That Council receive the recommendation outlined in Report PKED22-005 dated June 20, 2022 of the Board Chair and President & CEO of Peterborough & the Kawarthas Economic Development, as follows: That Report PKED22-005 and supporting presentation, providing the Peterborough Kawarthas Economic Development Mid-Year Progress Report be received for information. Report to Award Non-Standard Procurement Purchasing Card Services, Report CLSFS22-022 That Council approve the recommendation outlined in Report CLSFS22-022, dated June 20, 2022 of the Commissioner of Corporate and Legislative Services, as follows:\\nThat the Mayor and City Clerk be authorized to execute an agreement with U.S. Bank National Association, 120 Adelaide Street West, Suite 2300, Toronto, Ontario M5H 1T1, for the supply of Purchasing Card Services for the City of Peterborough for the five-year period from June 28, 2022 to April 30, 2027. Bird Friendly City Certification, Report IPSIM22-018 That Council approve the recommendations outlined in Report IPSIM22-018, dated June 20, 2022, of the Interim Commissioner of Infrastructure and Planning Services as follows:\\na)That the Report be received for information; and b)That the Council approve the following resolution: Whereas the goal of Bird Friendly City certification is to provide local partners with a clear standard to measure the impact and progress needed to make the City of Peterborough safe for birds; and Whereas the certification standard is a tool that allows for an independent assessment of key issues by establishing benchmarks and allowing for measurement of progress over time and comparison with other cities; and Whereas birds throughout Canada and North America have experienced dramatic declines due to habitat loss, window strikes, climate change, and the spread of diseases and invasive species, with serious implications for the future health of our ecosystems; and Whereas through certification, the City of Peterborough and its residents have the opportunity to reduce human-related threats to birds; and Whereas supporting bird-friendly initiatives fosters environmental awareness and sustainability and increases interactions and engagement for habitat protection, restoration, and climate resiliency; and Whereas by becoming a Bird Friendly City, the City of Peterborough can highlight initiatives already in place and further engage local communities in education and\\n\\n\\nawareness of successful coexistence strategies with birds; and Whereas community bird friendly initiatives are to be undertaken and led by the Bird Friendly Peterborough team; and Whereas the Bird Friendly Peterborough team will propose any corporate bird friendly initiatives within municipal jurisdiction through a City staff liaison for consideration through the annual Budget process; Now, therefore, be it resolved: That the Bird Friendly Peterborough team be authorized to submit the certification application to Nature Canada to designate the City of Peterborough as a Bird Friendly City; and That the City of Peterborough accepts the designation and commits to the entry- level standards of the Bird Friendly City program. Bee City Canada Certification, Report IPSIM22-015 That Council approve the recommendations outlined in Report IPSIM22-015, dated June 20, 2022, of the Interim Commissioner of Infrastructure and Planning Services as follows: a)That the report be received for information; b)That Council approve the following resolution: Whereas the goal of Bee City Canada designation is to promote healthy, sustainable habitats and communities for pollinators; Whereas bees and other pollinators around the globe have experienced dramatic declines due to land fragmentation, habitat loss, use of pesticides, industrialized agriculture, climate change and the spread of pests and diseases, with serious implications for the future health of flora and fauna; and Whereas cities, townships, First Nation communities and their residents have the opportunity to support bees and other pollinators on both public and private land; and Whereas supporting pollinators fosters environmental awareness and sustainability, and increases interactions and engagement among community stewards; and Whereas by becoming a Bee City, the City of Peterborough can highlight initiatives already in place and further engage local communities in an environment of creativity and innovation which will promote a healthier life for our community; Now, therefore, be it resolved: That staff be authorized to submit the Bee City Canada Application to designate the City of Peterborough as a Bee City; and That the City of Peterborough accepts the designation and commits to the standards of the Bee City Canada Program.\\n\\n\\n\\n\\nPeterborough Housing Corporation Affordable Housing, 555 Bonaccord Street, Report CSSS22-017 That Council approve the recommendations outlined in Report CSSS22-017 dated June 20, 2022, of the Commissioner of Community Services as follows: a) That the Affordable Housing Community Improvement Plan program application be approved for the 85-unit second phase of Peterborough Housing Corporation’s McRae Project that includes 65 units of affordable housing on a portion of the property at 555 Bonaccord in accordance with Report CSSS22-017; b) That a By-law be adopted authorizing City Council to designate the affordable housing portion (65 units) of the McRae Building at 555 Bonaccord Street as a Municipal Housing Facility (MHF) in accordance with By-law 12-094; c) That the municipal incentives refund in the amount of $1,135,334 be drawn from Incentives of Affordable Housing Capital Project 6-07.01.; d) That the Mayor and Clerk be authorized to sign agreements and other documents in terms acceptable to the Commissioner of Community Services and in a form acceptable to the City Solicitor to provide municipal incentives for 555 Bonaccord Street in accordance with Report CSSS22-017; e) That the Mayor and Treasurer be authorized to execute the amending Financing Agreement No. 1216 which extends the facility termination date to August 17, 2023 and any subsequent corresponding agreements or amendments between the Corporation of the City of Peterborough and Ontario Infrastructure and Lands Corporation, on terms acceptable to the Treasurer and in form acceptable to the City Solicitor; and f) That the City of Peterborough provide up to $8,000,000 in additional temporary construction financing to Peterborough Housing Corporation until such time as Peterborough Housing Corporation or the newly formed Government Business Enterprise secures long-term financing for 555 Bonaccord Street (McRae Project), to be provided from the following sources: i. $1,000,000 additional Ontario Infrastructure and Lands Corporation loan; ii. $5,000,000 Social Services General Reserve; iii. $1,000,000 City Housing Reserve and $1,000,000 Incentives of Affordable Housing Capital Project Ref# 6-07.01. Development Charge Reserve Funds 2021 Annual Report - City and Peterborough Utilities Commission, Report CLSFS22-020 That Council approve the recommendations outlined in report CLSFS22-020 dated June 13, 2022 of the Commissioner of Corporate and Legislative Services as follows:\\na) That the Development Charge Reserve Funds – 2021 Annual Report for the City of Peterborough, as presented in Report CLSFS22-020, be received for information; and\\nb) That the Peterborough Utilities Commission Report entitled Water Development Charges for the year ended December 31, 2021, appended to Report CLSFS22-020 as Appendix B, be received for information.\\n\\n\\nReport of Closed Session, Report CLSCLK22-017 Moved by Councillor Pappas Seconded by Councillor Beamer That, respecting Report CLSCLK22-017 dated June 6 of the City Clerk, Presentation by COPHI, The Mayor and City staff be authorized and directed to proceed, as amended, as outlined in the memorandum of the CAO distributed in closed session following the presentation by City of Peterborough Holdings Inc. For (9): Councillor Baldwin, Councillor Beamer, Councillor Clarke, Councillor Pappas, Councillor Parnell, Councillor Riel, Mayor Therrien, Councillor Vassiliadis, and Councillor Wright Against (2): Councillor Akapo, and Councillor Zippel Carried (9 to 2)\\nCentral Area (Bethune Street) Flood Reduction Project: Budget Increase and Increase in Agreement for Detailed Design and Contract Administration, Report IPSENG22-023 Councillor Parnell declared a conflict on this item. (Councillor Parnell declared a conflict with report IPSENG22-023, Bethune Street Flood Reduction, as a family member is employed on this project.)\\nMoved by Councillor Pappas Seconded by Councillor Zippel That Council approve the recommendations outlined in Report IPSENG22-023 dated June 6, 2022, of the Interim Commissioner of Infrastructure and Planning Services, as follows:\\na) That the Capital Budget for the Central Area (Bethune Street) Flood Reduction Project be increased by $674,192 from $52,865,900 to $53,540,092 and that the $674,192 be funded from Development Charge Reserves and Development Charge supported debentures.\\nb) That a Debenture By-law be passed authorizing the issuance of Area Specific Development Charge supported debentures for the Central Area (Bethune Street) Flood Reduction Project; and\\nc) That the agreement with AECOM, 300 Water Street, Whitby, Ontario, L1N 9J2, for the Detailed Design and Contract Administration for the Central Area (Bethune Street) Flood Reduction Project be increased by $884,520.00 from $4,444,131.41 to $5,328,651.41, plus HST of $692,724.68 for a total cost of $6,021,376.09.\\n\\n\\nFor (9): Councillor Akapo, Councillor Baldwin, Councillor Beamer, Councillor Clarke, Councillor Pappas, Councillor Riel, Mayor Therrien, Councillor Vassiliadis, and Councillor Zippel Against (1): Councillor Wright Conflict (1): Councillor Parnell Carried (9 to 1)\\nTelevision Road Bridge South Meade Creek Class EA Approval, Report IPSTR22-009 Moved by Councillor Baldwin Seconded by Councillor Parnell That Council approve the recommendations outlined in Report IPSTR22-009, dated June 13, 2022, of the Interim Commissioner of Infrastructure and Planning Services as follows:\\na)That the presentation from BT Engineering on the matter of the Municipal Class EA for the replacement of the Television Road Bridge over South Meade Creek be received;\\nb)That the recommendations of the Municipal Class EA for the replacement of the Television Road Bridge over South Meade Creek be approved; and\\nc)That staff be directed to post the final Environmental Study Report for the Municipal Class EA for the replacement of the Television Road Bridge over South Meade Creek for the 30-day review period. For (11): Councillor Akapo, Councillor Baldwin, Councillor Beamer, Councillor Clarke, Councillor Pappas, Councillor Parnell, Councillor Riel, Mayor Therrien, Councillor Vassiliadis, Councillor Wright, and Councillor Zippel Carried (11 to 0)\\nDecember 31, 2021 Financial Report (unaudited), Report CLSFS22-016 Moved by Councillor Pappas Seconded by Councillor Beamer That Council approve the recommendations outlined in Report CLSFS22-016 dated June 13, 2022, of the Commissioner of Corporate and Legislative Services, as follows:\\na) That the December 31, 2021 Financial Report (unaudited) attached as Appendix A to Report 1, dated June 13, 2022, be received;\\n\\n\\n\\n\\nb) That Capital Levy approved in previous years’ capital budgets for various projects, that is no longer required in the amount of $163,107 and shown on Chart 2 in the Report CLSFS22-016, be transferred to the Capital Levy Reserve;\\nc) That the 2021 annual loan payment from the Peterborough Recreational Baseball Association in the amount of $2,500 be deferred, and that the term of the loan repayment be extended by one additional year, to November 1, 2031;\\nd) That the following year end surpluses be transferred to reserves:\\ni. $275,793 of the Utilities surplus be transferred to the Climate Change Reserve;\\nii. $119,034 of the Street Light Energy surplus be transferred to the LED Reserve;\\niii. $79,234 of the Museum surplus be transferred to the Museum Renovation Reserve;\\niv. $1,201,152 of the Transit surplus be transferred to the Transit Reserve;\\nv. $85,589 of the Wolfe St Building operating surplus be transferred to the Facilities Maintenance Reserve;\\nvi. $27,249 representing 100% of the Police Services surplus be transferred to the City of Peterborough to offset the WSIB payments;\\ne) That the $1,990,000 combined surpluses in the 2019, 2020 and 2021 Property Acquisitions and Improvement Projects (Capital Budget Ref# 5-1.01 in each of Capital Budget 2019, 2020 and 2021) be transferred to the General Property Reserve\\nf) That, as a matter of housekeeping, the sources of capital funding be replaced in the Capital Budget as follows:\\ni. That $1,900.000 of Debt–Development Charges–Carnegie East from the Bethune St Diversion City Funded Project (2020 Capital Budget Project 5-5.03) be replaced with tax-supported debentures and By-law 21-006 be repealed and replaced; and\\nii. That $137,025 of Debt-Development Charges-Recreation from the Parkland Development Assistance Program (2021 Capital Budget Project 5-1.02) be replaced with Development Charges-Parks and By-law 21-030 be repealed.\\n\\n\\n\\n\\nFor (9): Councillor Akapo, Councillor Beamer, Councillor Pappas, Councillor Parnell, Councillor Riel, Mayor Therrien, Councillor Vassiliadis, Councillor Wright, and Councillor Zippel Against (2): Councillor Baldwin, and Councillor Clarke Carried (9 to 2)\\nReport of Closed Session, Report IPSCOM22-004 Moved by Councillor Pappas Seconded by Councillor Beamer That Council approve the recommendation outlined in Report IPSCOM22-004, dated June 20, 2022, of the Interim Commissioner of Infrastructure and Planning Services, as follows: That, staff be authorized to proceed as amended, as outlined in closed session Report IPSCOM22-004 dated June 20, 2022 of the Interim Commissioner of Infrastructure and Planning Services. For (8): Councillor Baldwin, Councillor Beamer, Councillor Clarke, Councillor Pappas, Councillor Parnell, Councillor Riel, Councillor Vassiliadis, and Councillor Wright Against (3): Councillor Akapo, Mayor Therrien, and Councillor Zippel Carried (8 to 3)\\nWater, Wastewater, and Stormwater Service Delivery Review, Report CAO22-006 Moved by Councillor Pappas Seconded by Councillor Akapo That Council approve the recommendations outlined in Report CAO22-006, dated June 20, 2022, of the Chief Administrative Officer, as follows: a) That the presentation by Kevin Morawski from WSP and Jim Harnum from Municipal Vu Consulting Inc., be received for information. b) That Report CAO22-006, dated June 20, 2022, of the Chief Administrative Officer, be received for information.\\nMoved by Councillor Clarke Seconded by Councillor Parnell That Council approve the recommendations outlined in Report CAO22-006, dated June 20, 2022, of the Chief Administrative Officer, as follows: That the Water, Wastewater, and Stormwater Service Delivery Review be deferred to 2023.\\n\\n\\nFor (4): Councillor Beamer, Councillor Clarke, Councillor Parnell, and Mayor Therrien Against (7): Councillor Akapo, Councillor Baldwin, Councillor Pappas, Councillor Riel, Councillor Vassiliadis, Councillor Wright, and Councillor Zippel Lost (4 to 7)\\nMoved by Councillor Parnell Seconded by Councillor Beamer That the recommendation be amended to include items c) and d) as follows: c) That the July 11, 2022, staff report include information from the PUC; and, d) That extended public consultation be organized. For (6): Councillor Akapo, Councillor Beamer, Councillor Clarke, Councillor Parnell, Mayor Therrien, and Councillor Vassiliadis Against (5): Councillor Baldwin, Councillor Pappas, Councillor Riel, Councillor Wright, and Councillor Zippel Carried (6 to 5)\\nMoved by Councillor Pappas Seconded by Councillor Beamer That the question be put. For (11): Councillor Akapo, Councillor Baldwin, Councillor Beamer, Councillor Clarke, Councillor Pappas, Councillor Parnell, Councillor Riel, Mayor Therrien, Councillor Vassiliadis, Councillor Wright, and Councillor Zippel Carried (11 to 0)\\nIt was requested that the items be separated for vote. Moved by Councillor Pappas Seconded by Councillor Akapo a) That the presentation by Kevin Morawski from WSP and Jim Harnum from Municipal Vu Consulting Inc., be received for information. For (7): Councillor Akapo, Councillor Baldwin, Councillor Pappas, Councillor Riel, Councillor Vassiliadis, Councillor Wright, and Councillor Zippel Against (4): Councillor Beamer, Councillor Clarke, Councillor Parnell, and Mayor Therrien Carried (7 to 4)\\n\\n\\n\\nMoved by Councillor Pappas Seconded by Councillor Akapo b) That Report CAO22-006, dated June 20, 2022, of the Chief Administrative Officer,  be received for information. For (7): Councillor Akapo, Councillor Baldwin, Councillor Pappas, Councillor Riel, Councillor Vassiliadis, Councillor Wright, and Councillor Zippel Against (4): Councillor Beamer, Councillor Clarke, Councillor Parnell, and Mayor Therrien Carried (7 to 4)\\nMoved by Councillor Pappas Seconded by Councillor Akapo c) That the July 11, 2022, staff report include information from the PUC; and, For (7): Councillor Akapo, Councillor Beamer, Councillor Clarke, Councillor Parnell, Mayor Therrien, Councillor Vassiliadis, and Councillor Zippel Against (4): Councillor Baldwin, Councillor Pappas, Councillor Riel, and Councillor Wright Carried (7 to 4)\\nMoved by Councillor Pappas Seconded by Councillor Akapo d) That extended public consultation be organized. For (9): Councillor Akapo, Councillor Beamer, Councillor Clarke, Councillor Pappas, Councillor Parnell, Councillor Riel, Mayor Therrien, Councillor Vassiliadis, and Councillor Wright Against (2): Councillor Baldwin, and Councillor Zippel Carried (9 to 2)\\nNotice of Motion There were no Notices of Motion Approval of By-laws Moved by Councillor Wright Seconded by Councillor Vassiliadis\\n\\n\\n22-040 - Being a by-law to further amend By-law 11-081, being a By-law to exempt certain classes of development from site plan control and to delegate authority respecting site plan approval 22-041 - Being a by-law to amend the Zoning By-law for the lands known as 482 Hopkins Avenue 22-042 - Being a By-law to amend the Zoning By-law for the lands known as 873 High Street 22-043 - Being a By-law to designate 65 units of affordable housing at 555 Bonaccord Street as a Municipal Housing Facility, in accordance with By-law 12- 094 For (11): Councillor Akapo, Councillor Baldwin, Councillor Beamer, Councillor Clarke, Councillor Pappas, Councillor Parnell, Councillor Riel, Mayor Therrien, Councillor Vassiliadis, Councillor Wright, and Councillor Zippel Carried (11 to 0)\\nOther Business Closed Session Report - CLSOCS22-002 Moved by Councillor Wright Seconded by Councillor Riel That Council go into Closed Session to discuss one item under 239(2)(f), Advice subject to solicitor client privilege. For (6): Councillor Akapo, Councillor Baldwin, Councillor Clarke, Councillor Riel, Councillor Wright, and Councillor Zippel Against (5): Councillor Beamer, Councillor Pappas, Councillor Parnell, Mayor Therrien, and Councillor Vassiliadis Carried (6 to 5)\\nMoved by Councillor Zippel Seconded by Councillor Akapo That, respecting Item 1.d of the June 20, 2022 General Committee Closed Meeting Agenda, staff be authorized and directed, to proceed as outlined in Report CLSOCS22-002 dated June 20, 2022 of the City Solicitor except as outlined in paragraph 1.d) on page 10 of the Report.\\n\\n\\n\\n\\nFor (8): Councillor Akapo, Councillor Baldwin, Councillor Clarke, Councillor Riel, Mayor Therrien, Councillor Vassiliadis, Councillor Wright, and Councillor Zippel Against (3): Councillor Beamer, Councillor Pappas, and Councillor Parnell Carried (8 to 3)\\nConfirmation By-law Moved by Councillor Pappas Seconded by Councillor Beamer 22-044 - Being a Being a By-law to confirm the proceedings of the Council at its regular meeting held on June 27, 2022 For (11): Councillor Akapo, Councillor Baldwin, Councillor Beamer, Councillor Clarke, Councillor Pappas, Councillor Parnell, Councillor Riel, Mayor Therrien, Councillor Vassiliadis, Councillor Wright, and Councillor Zippel Carried (11 to 0)\\nAdjournment Moved by Councillor Pappas Seconded by Councillor Wright That this meeting adjourn at 9:12 p.m. For (11): Councillor Akapo, Councillor Baldwin, Councillor Beamer, Councillor Clarke, Councillor Pappas, Councillor Parnell, Councillor Riel, Mayor Therrien, Councillor Vassiliadis, Councillor Wright, and Councillor Zippel Carried (11 to 0)\\n\\n_________________________ John Kennedy City Clerk\\n_________________________ Diane Therrien Mayor\\n\\n\""
      ]
     },
     "execution_count": 23,
     "metadata": {},
     "output_type": "execute_result"
    }
   ],
   "source": [
    "text"
   ]
  },
  {
   "cell_type": "code",
   "execution_count": 18,
   "id": "88fe0a29-ecc4-4e2b-bc8b-b665ac0a8291",
   "metadata": {},
   "outputs": [
    {
     "data": {
      "text/plain": [
       "1227"
      ]
     },
     "execution_count": 18,
     "metadata": {},
     "output_type": "execute_result"
    }
   ],
   "source": [
    "text.find(\"Carried (\")"
   ]
  },
  {
   "cell_type": "code",
   "execution_count": 19,
   "id": "c007db44-c97d-4fe8-af39-f2dc42bf8a97",
   "metadata": {},
   "outputs": [
    {
     "data": {
      "text/plain": [
       "29433"
      ]
     },
     "execution_count": 19,
     "metadata": {},
     "output_type": "execute_result"
    }
   ],
   "source": [
    "text.find(\"Lost (\")"
   ]
  },
  {
   "cell_type": "code",
   "execution_count": 17,
   "id": "7a385926-7d59-410f-90f1-723fadd6633d",
   "metadata": {},
   "outputs": [
    {
     "data": {
      "text/plain": [
       "'F'"
      ]
     },
     "execution_count": 17,
     "metadata": {},
     "output_type": "execute_result"
    }
   ],
   "source": [
    "text[1004]"
   ]
  },
  {
   "cell_type": "code",
   "execution_count": 12,
   "id": "a95d1d24-876a-4b8b-83ae-5f7bce7e58b1",
   "metadata": {},
   "outputs": [
    {
     "data": {
      "text/plain": [
       "\"\\n\\n\\n\\n\\n\\nCity Council Minutes\\nElectronic Meeting\\n\\nJune 27, 2022\\n\\nPresent: Councillor Akapo\\nCouncillor Baldwin\\n\\nCouncillor Beamer\\n\\n\\nCouncillor Clarke\\nCouncillor Pappas\\n\\nCouncillor Parnell\\n\\nCouncillor Riel\\n\\n\\nMayor Therrien\\nCouncillor Vassiliadis\\n\\nCouncillor Wright\\n\\n\\nCouncillor Zippel\\n\\n\\nSandra Clancy, Chief Administrative Officer\\nStaff:\\nRichard Freymond, Commissioner of Corporate and Legislative Services\\n\\n\\nNatalie Garnett, Deputy City Clerk\\nKen Hetherington, Chief Planner\\n\\nKevin Jones, Manager, Transportation Services\\n\\nJohn Kennedy, City Clerk\\n\\n\\nSheldon Laidman, Commissioner of Community Services\\nMichael Papadacos, Manager, Infrastructure Planning\\n\\nDavid Potts, City Solicitor\\n\\n\\nJasbir Raina, Commissioner, Infrastructure and Planning\\n\\nBrendan Wedley, Manager of Communication Services\\n\\nCall to Order\\nThe meeting was called to order at 6:05 p.m. Approval of Minutes Moved by Councillor Riel Seconded by Councillor Pappas That the City Council minutes of May 30, June 6 and June 13, 2022 be approved.\\n\\n\\nFor (11): Councillor Akapo, Councillor Baldwin, Councillor Beamer, Councillor Clarke, Councillor Pappas, Councillor Parnell, Councillor Riel, Mayor Therrien, Councillor Vassiliadis, Councillor Wright, and Councillor Zippel Carried (11 to 0)\\nDisclosure of Pecuniary Interest Councillor Parnell - Central Area (Bethune Street) Flood Reduction Project: Budget Increase and Increase in Agreement for Detailed Design and Contract Administration, Report IPSENG22-023 Councillor Parnell declared a conflict with report IPSENG22-023, Bethune Street Flood Reduction, as a family member is employed on this project. Registered Delegations Roy Brady, 136 Ware Street Brian Christoph, 225 Stewart Street Thomas Luloff, Bird Friendly Peterborough Consent Items: Reports approved under one motion Moved by Councillor Vassiliadis Seconded by Councillor Akapo That reports CLSFS22-017B, IPSPL22-010, CSD22-005, CSRS22-001, IPSPL22-008, IPSPL22-009, IPSENG22-023, CLSOCS22-001, IPSAIR22-003, IPSAIR22-004, IPSRE22-004, CLSFS22-019, CLSCLK22-018, CLSCLK22-015, CSSS22-002, CSSS22-016, CSSS22-018, CLSFS22-020, IPSPL22-011, CSSS22-020, Letter of Support for Loomex Group, PKED22-005, CLSFS22-022, IPSIM22-018, IPSIM22- 015 and CSSS22-017 be approved on Consent. For (11): Councillor Akapo, Councillor Baldwin, Councillor Beamer, Councillor Clarke, Councillor Pappas, Councillor Parnell, Councillor Riel, Mayor Therrien, Councillor Vassiliadis, Councillor Wright, and Councillor Zippel Carried (11 to 0)\\n2023 Preliminary Budget Guideline Report, Report CLSFS22-017 That Council approve the recommendations outlined in Report CLSFS22-017 dated June 6, 2022, of the Commissioner of Corporate and Legislative Services as follows:\\na) That Report CLSFS22-017, advising Council that a public meeting will be held on June 22, 2022 at 6:00 pm, to present a Preliminary 2023 Budget Guideline Report, as set out in Appendix A to Report CLSFS22-017, and to hear public delegations, be received.\\n\\n\\n\\nb) That a final version of the 2023 Budget Guideline Report be presented to the July 11, 2022 Finance Committee meeting. 2021 Investment Report, Report CLSFS22-007 That Council approve the recommendation outlined in Report CLSFS22-007 dated June 6, 2022, of the Commissioner of Corporate and Legislative Services, as follows: That the 2021 Investment Report, outlined in report CLSFS22-007, dated June 6, 2022, of the Commissioner of Corporate and Legislative Services, be received for information. Precommitment of Cost sharing costs for 689 Towerhill Road Development, Construction and Cost Sharing, Report IPSPL22-010 That Council approve the recommendation outlined in Report IPSPL22-010, dated June 6, 2022, of the Interim Commissioner of Infrastructure and Planning Services as follows:\\nThat the City provide a pre-commitment in the 2023 Budget in the amount of $290,500.00, towards the 689 Towerhill Road Development External Works Project. 2022 Investment Grant Surplus Allocation, Report CSD22-005 That Council approve the recommendation outlined in Report CSD22-005, dated June 6, 2022, of the Commissioner of Community Services as follows:\\nThat the recommendations of the Community Investment Grant Advisory Committee in the total amount of $20,458 be allocated to various local charitable and Not-For-Profit organizations (NFP’s) as detailed in Table 1. Review of Permitting and Ball Diamond Process, Report CSRS22-001 That Council approves the recommendations in Report CSRS22-001, dated June 6, 2022, of the Commissioner of Community Services as follows: That effective starting in the 2023 season: a) Prime time hours be defined as 6:00 p.m. to 11:00 p.m., and non-prime time hours be defined as 8:00 a.m. to 6:00 p.m.; b) Consistent time blocks be utilized for rental allocations and permitting on outdoor sport facilities; c) Northcrest Level C ball diamond be removed from the permitting inventory; d) That outdoor sport facilities, such as ball diamonds and fields, be defined as follows; i. Level Premier – facilities include sport field lights, bleachers, and additional amenities not included in Level A sport facilities; ii. Level A – facilities include sport field lights, and bleachers as a minimum standard;\\n\\n\\niii. Level B – facilities do not include sport field lights; iv. Level C – facilities do not include additional amenities and are designed for youth-level play; e) That adult level play is not permitted on Level C sport facilities; f) That user fees are applied to all sport facility permits, including games, practices, and/or tournaments; g) That user groups that are designed to provide access to sport for youth and/or persons with disabilities are provided a discounted rate, approved through the annual budgetary process; and h) That staff review the 2022 and 2023 usage of ball diamonds following implementation of the new permitting processes and provide Council with recommendations for capital improvements of ball diamonds in the 2024 capital budget related to the removal of three (3) Level B diamonds at Morrow Park scheduled to begin at the end of the 2022 season. Zoning By-law Amendment for 482 Hopkins Avenue, Report IPSPL22-008 That Council approve the recommendations outlined in Report IPSPL22-008, dated June 6, 2022, of the Interim Commissioner of Infrastructure and Planning Services, as follows:\\na) That Section 3.9 Exceptions, of the Zoning By-law 97-123 be amended by adding Exception number .351 in accordance with Exhibit C of Report IPSPL22- 008;\\nb) That the subject property be rezoned from R.1,1m,2m – Residential District to R.3-351 – Residential District in accordance with the draft amendment attached as Exhibit ‘C’ to Report IPSPL22-008. Temporary Use Zoning By-law Amendment for 873 High Street, Report IPSPL22-009 That Council approve the recommendation outlined in Report IPSPL22-009, dated June 6, 2022, of the Interim Commissioner of Infrastructure and Planning Services, as follows: That a Temporary Use Zoning By-law Amendment be approved pursuant to Section 39 of the Planning Act, R.S.O. c.P.13, to permit a portion of the existing building known as 873 High Street to be used as a printing shop for a period of up to two (2) years in accordance with Exhibit C of Report IPSPL22-009. Report of Closed Session, Report CLSOCS22-001 That Council approve the recommendation outlined in Report CLSOCS22-001 dated June 13, 2022 of the City Solicitor as follows: That staff be authorized to proceed as outlined in Report CLSOCS22-001 dated June 13, 2022 of the City Solicitor respecting incorporation of a municipal services corporation. Report of Closed Session, Report IPSAIR22-003\\n\\n\\nThat Council approve the recommendation outlined in Report IPSAIR22-003, dated June 13, 2022, of the Interim Commissioner of Infrastructure and Planning Services as follows: That staff be authorized to proceed as outlined in Closed Session Report IPSAIR22-003, dated June 13, 2022, of the Interim Commissioner of Infrastructure and Planning Services. Report of Closed Session, Report IPSAIR22-004 That Council approve the recommendations outlined in Report IPSAIR22-004, dated June 13, 2022, of the Interim Commissioner of Infrastructure and Planning Services as follows: That, respecting certain long-term leases at the Peterborough Municipal Airport, staff be authorized to proceed as outlined in Closed Session Report IPSAIR22- 004, dated June 13, 2022, of the Interim Commissioner of Infrastructure and Planning Services. Report of Closed Session, Report IPSRE22-004 That Council approve the recommendation outlined in Report IPSRE22-004, dated June 13, 2022, of the Commissioner of Infrastructure and Planning Services, as follows: That staff be authorized to proceed as outlined in Closed Session Report IPSRE22-004 dated June 13, 2022 of the Interim Commissioner of Infrastructure and Planning Services. Notice of Public Meeting - Development Charge Background Studies and Community Benefits Charge, Report CLSFS22-019 That Council approve the recommendations outlined in Report CLSFS22-019 dated June 13,2022, of the Commissioner of Corporate and Legislative Services, as follows:\\na) That Report CLSFS22-019 advising Council that a virtual public meeting will be held on June 27, 2022 at 5:00 pm to present the 2022 Planning Area Specific Development Charges Background Study and the 2022 City-wide Development Charge Amendment Background Study and to hear public delegations, be received for information;\\nb) That the Community Benefits Charge White Paper attached as Appendix C to Report CLSFS22-019, be received for information. Integrity Commissioner Report on Complaint, Report CLSCLK22-018 That Council approve the recommendation outlined in Report CLSCLK22-018, dated June 13, 2022, of the City Clerk, on behalf of the Integrity Commissioner, as follows:\\n\\n\\n\\nThat the Report on Complaint of the City of Peterborough Integrity Commissioner, Ayotte v. Therrien, 2022 ONMIC 10, dated May 18, 2022, attached as Appendix A to Report CLSCLK22-018, be received for information. 2021 Civic Awards, Report CLSCLK22-015 That Council approve the recommendation outlined in Report CLSCLK22-015 dated June 13, 2022, of the City Clerk, as follows:\\nThat Council award the 2021 Civic Awards via a prerecorded electronic format. Peterborough Housing Corporation Capital Plan Update, Report CSSS22-002 That Council approve the recommendations outlined in report CSSS22-002, dated June 13, 2022 of the Commissioner of Community Services as follows:\\na) That the report be received for information; and\\nb) That up to $300,000 be approved to be drawn from the DOOR Reserve to cover the cost of demolition at 681 Monaghan Road. Canada Wide Early Learning and Child Care System, Report CSSS22-016 That Council approve the recommendations outlined in Report CSSS22-016, dated June 13, 2022 of the Commissioner of Community Services, as follows:\\na)That the report be received for information;\\nb)That staff be directed to opt-in to the Canada Wide Early Learning and Child Care System for the Directly Operated child care programs and apply for Canada Wide Early Learning and Child Care funding; and\\nc)That staff be directed to reduce the approved 2022 DOP parent fees for children 0 – 5 years by 50% (to a minimum of $12 per day) effective January 1, 2023 as required and outlined in the Canada Wide Early Learning and Child Care funding guidelines. Affordable Housing - Habitat for Humanity Leahy's Lane Phase 1 and 2, Report CSSS22-018 That Council approve the recommendations outlined in Report CSSS22-018 dated June 13, 2022, of the Commissioner of Community Services as follows:\\na)That the Affordable Housing Community Improvement Plan program incentives outlined and approved in Report CSSS20-020 be increased by $150,429 to refund the actual municipal costs for Habitat for Humanity Peterborough and Kawartha Region’s 33 Leahy’s Lane project (Leahy’s Lane Phase 1);\\nb)That the Affordable Housing Community Improvement Plan program application be approved for the proposed 12-unit second phase of the affordable\\n\\n\\nhomeownership project at 21 Parkhill Road East Peterborough (Leahy’s Lane Phase 2), in accordance with Report CSSS22-018;\\nc)That $298,196 in municipal incentives for the Leahy’s Lane Phase 2 project be refunded in accordance with Report CSSS22-018; and\\nd)That the Mayor and Clerk be authorized to enter into agreements for project funding with applicants and other associated agreements, on terms satisfactory to the Commissioner of Community Services and in forms acceptable to the City Solicitor. Update on Bill 109 and proposed projects to improve Development Approval process review, Report IPSPL22-011 That Council approve the recommendations outlined in Report IPSPL22-011, dated June 13, 2022, of the Interim Commissioner of Infrastructure and Planning Services as follows:\\na) That Report IPSPL22-011 be received for information; and\\nb) That By-law 11-081 be further amended in the form of the amending by-law attached as Exhibit B to Report IPSPL22-011. Incorporation of Peterborough Housing Municipal Services Corporation, Report CSSS22-020 That Council approve the recommendations outlined in Report CSSS22-020 dated June 13, 2022 of the Commissioner, Community Services, as follows:\\na) That the KPMG Business Case attached as Appendix A to Report CSSS22-020 dated June 13, 2022 of the Commissioner, Community Services (June 13 Report), be adopted as the business case study pursuant to section 6 of O.Reg. 599/06 for the purposes of incorporating a municipal services corporation (MSC) for the management and construction of affordable housing; and\\nb) That the Asset Transfer Policy attached as Appendix B to the June 13 Report be adopted pursuant to section 7 of O.Reg. 599/06. Letter of Support for Loomex Group That the Council for the city of Peterborough directs the Mayor's office to write a letter of support in favour of the Loomex Group's bid to secure a federal contract for Aircrew training, where the Loomex Group would manage/lead the 25-year contract from Peterborough. That could expand on the employment opportunities at our airport.\\n\\n\\n\\n\\nPKED Mid-Year Progress Report, Report PKED22-005 That Council receive the recommendation outlined in Report PKED22-005 dated June 20, 2022 of the Board Chair and President & CEO of Peterborough & the Kawarthas Economic Development, as follows: That Report PKED22-005 and supporting presentation, providing the Peterborough Kawarthas Economic Development Mid-Year Progress Report be received for information. Report to Award Non-Standard Procurement Purchasing Card Services, Report CLSFS22-022 That Council approve the recommendation outlined in Report CLSFS22-022, dated June 20, 2022 of the Commissioner of Corporate and Legislative Services, as follows:\\nThat the Mayor and City Clerk be authorized to execute an agreement with U.S. Bank National Association, 120 Adelaide Street West, Suite 2300, Toronto, Ontario M5H 1T1, for the supply of Purchasing Card Services for the City of Peterborough for the five-year period from June 28, 2022 to April 30, 2027. Bird Friendly City Certification, Report IPSIM22-018 That Council approve the recommendations outlined in Report IPSIM22-018, dated June 20, 2022, of the Interim Commissioner of Infrastructure and Planning Services as follows:\\na)That the Report be received for information; and b)That the Council approve the following resolution: Whereas the goal of Bird Friendly City certification is to provide local partners with a clear standard to measure the impact and progress needed to make the City of Peterborough safe for birds; and Whereas the certification standard is a tool that allows for an independent assessment of key issues by establishing benchmarks and allowing for measurement of progress over time and comparison with other cities; and Whereas birds throughout Canada and North America have experienced dramatic declines due to habitat loss, window strikes, climate change, and the spread of diseases and invasive species, with serious implications for the future health of our ecosystems; and Whereas through certification, the City of Peterborough and its residents have the opportunity to reduce human-related threats to birds; and Whereas supporting bird-friendly initiatives fosters environmental awareness and sustainability and increases interactions and engagement for habitat protection, restoration, and climate resiliency; and Whereas by becoming a Bird Friendly City, the City of Peterborough can highlight initiatives already in place and further engage local communities in education and\\n\\n\\nawareness of successful coexistence strategies with birds; and Whereas community bird friendly initiatives are to be undertaken and led by the Bird Friendly Peterborough team; and Whereas the Bird Friendly Peterborough team will propose any corporate bird friendly initiatives within municipal jurisdiction through a City staff liaison for consideration through the annual Budget process; Now, therefore, be it resolved: That the Bird Friendly Peterborough team be authorized to submit the certification application to Nature Canada to designate the City of Peterborough as a Bird Friendly City; and That the City of Peterborough accepts the designation and commits to the entry- level standards of the Bird Friendly City program. Bee City Canada Certification, Report IPSIM22-015 That Council approve the recommendations outlined in Report IPSIM22-015, dated June 20, 2022, of the Interim Commissioner of Infrastructure and Planning Services as follows: a)That the report be received for information; b)That Council approve the following resolution: Whereas the goal of Bee City Canada designation is to promote healthy, sustainable habitats and communities for pollinators; Whereas bees and other pollinators around the globe have experienced dramatic declines due to land fragmentation, habitat loss, use of pesticides, industrialized agriculture, climate change and the spread of pests and diseases, with serious implications for the future health of flora and fauna; and Whereas cities, townships, First Nation communities and their residents have the opportunity to support bees and other pollinators on both public and private land; and Whereas supporting pollinators fosters environmental awareness and sustainability, and increases interactions and engagement among community stewards; and Whereas by becoming a Bee City, the City of Peterborough can highlight initiatives already in place and further engage local communities in an environment of creativity and innovation which will promote a healthier life for our community; Now, therefore, be it resolved: That staff be authorized to submit the Bee City Canada Application to designate the City of Peterborough as a Bee City; and That the City of Peterborough accepts the designation and commits to the standards of the Bee City Canada Program.\\n\\n\\n\\n\\nPeterborough Housing Corporation Affordable Housing, 555 Bonaccord Street, Report CSSS22-017 That Council approve the recommendations outlined in Report CSSS22-017 dated June 20, 2022, of the Commissioner of Community Services as follows: a) That the Affordable Housing Community Improvement Plan program application be approved for the 85-unit second phase of Peterborough Housing Corporation’s McRae Project that includes 65 units of affordable housing on a portion of the property at 555 Bonaccord in accordance with Report CSSS22-017; b) That a By-law be adopted authorizing City Council to designate the affordable housing portion (65 units) of the McRae Building at 555 Bonaccord Street as a Municipal Housing Facility (MHF) in accordance with By-law 12-094; c) That the municipal incentives refund in the amount of $1,135,334 be drawn from Incentives of Affordable Housing Capital Project 6-07.01.; d) That the Mayor and Clerk be authorized to sign agreements and other documents in terms acceptable to the Commissioner of Community Services and in a form acceptable to the City Solicitor to provide municipal incentives for 555 Bonaccord Street in accordance with Report CSSS22-017; e) That the Mayor and Treasurer be authorized to execute the amending Financing Agreement No. 1216 which extends the facility termination date to August 17, 2023 and any subsequent corresponding agreements or amendments between the Corporation of the City of Peterborough and Ontario Infrastructure and Lands Corporation, on terms acceptable to the Treasurer and in form acceptable to the City Solicitor; and f) That the City of Peterborough provide up to $8,000,000 in additional temporary construction financing to Peterborough Housing Corporation until such time as Peterborough Housing Corporation or the newly formed Government Business Enterprise secures long-term financing for 555 Bonaccord Street (McRae Project), to be provided from the following sources: i. $1,000,000 additional Ontario Infrastructure and Lands Corporation loan; ii. $5,000,000 Social Services General Reserve; iii. $1,000,000 City Housing Reserve and $1,000,000 Incentives of Affordable Housing Capital Project Ref# 6-07.01. Development Charge Reserve Funds 2021 Annual Report - City and Peterborough Utilities Commission, Report CLSFS22-020 That Council approve the recommendations outlined in report CLSFS22-020 dated June 13, 2022 of the Commissioner of Corporate and Legislative Services as follows:\\na) That the Development Charge Reserve Funds – 2021 Annual Report for the City of Peterborough, as presented in Report CLSFS22-020, be received for information; and\\nb) That the Peterborough Utilities Commission Report entitled Water Development Charges for the year ended December 31, 2021, appended to Report CLSFS22-020 as Appendix B, be received for information.\\n\\n\\nReport of Closed Session, Report CLSCLK22-017 Moved by Councillor Pappas Seconded by Councillor Beamer That, respecting Report CLSCLK22-017 dated June 6 of the City Clerk, Presentation by COPHI, The Mayor and City staff be authorized and directed to proceed, as amended, as outlined in the memorandum of the CAO distributed in closed session following the presentation by City of Peterborough Holdings Inc. For (9): Councillor Baldwin, Councillor Beamer, Councillor Clarke, Councillor Pappas, Councillor Parnell, Councillor Riel, Mayor Therrien, Councillor Vassiliadis, and Councillor Wright Against (2): Councillor Akapo, and Councillor Zippel Carried (9 to 2)\\nCentral Area (Bethune Street) Flood Reduction Project: Budget Increase and Increase in Agreement for Detailed Design and Contract Administration, Report IPSENG22-023 Councillor Parnell declared a conflict on this item. (Councillor Parnell declared a conflict with report IPSENG22-023, Bethune Street Flood Reduction, as a family member is employed on this project.)\\nMoved by Councillor Pappas Seconded by Councillor Zippel That Council approve the recommendations outlined in Report IPSENG22-023 dated June 6, 2022, of the Interim Commissioner of Infrastructure and Planning Services, as follows:\\na) That the Capital Budget for the Central Area (Bethune Street) Flood Reduction Project be increased by $674,192 from $52,865,900 to $53,540,092 and that the $674,192 be funded from Development Charge Reserves and Development Charge supported debentures.\\nb) That a Debenture By-law be passed authorizing the issuance of Area Specific Development Charge supported debentures for the Central Area (Bethune Street) Flood Reduction Project; and\\nc) That the agreement with AECOM, 300 Water Street, Whitby, Ontario, L1N 9J2, for the Detailed Design and Contract Administration for the Central Area (Bethune Street) Flood Reduction Project be increased by $884,520.00 from $4,444,131.41 to $5,328,651.41, plus HST of $692,724.68 for a total cost of $6,021,376.09.\\n\\n\\nFor (9): Councillor Akapo, Councillor Baldwin, Councillor Beamer, Councillor Clarke, Councillor Pappas, Councillor Riel, Mayor Therrien, Councillor Vassiliadis, and Councillor Zippel Against (1): Councillor Wright Conflict (1): Councillor Parnell Carried (9 to 1)\\nTelevision Road Bridge South Meade Creek Class EA Approval, Report IPSTR22-009 Moved by Councillor Baldwin Seconded by Councillor Parnell That Council approve the recommendations outlined in Report IPSTR22-009, dated June 13, 2022, of the Interim Commissioner of Infrastructure and Planning Services as follows:\\na)That the presentation from BT Engineering on the matter of the Municipal Class EA for the replacement of the Television Road Bridge over South Meade Creek be received;\\nb)That the recommendations of the Municipal Class EA for the replacement of the Television Road Bridge over South Meade Creek be approved; and\\nc)That staff be directed to post the final Environmental Study Report for the Municipal Class EA for the replacement of the Television Road Bridge over South Meade Creek for the 30-day review period. For (11): Councillor Akapo, Councillor Baldwin, Councillor Beamer, Councillor Clarke, Councillor Pappas, Councillor Parnell, Councillor Riel, Mayor Therrien, Councillor Vassiliadis, Councillor Wright, and Councillor Zippel Carried (11 to 0)\\nDecember 31, 2021 Financial Report (unaudited), Report CLSFS22-016 Moved by Councillor Pappas Seconded by Councillor Beamer That Council approve the recommendations outlined in Report CLSFS22-016 dated June 13, 2022, of the Commissioner of Corporate and Legislative Services, as follows:\\na) That the December 31, 2021 Financial Report (unaudited) attached as Appendix A to Report 1, dated June 13, 2022, be received;\\n\\n\\n\\n\\nb) That Capital Levy approved in previous years’ capital budgets for various projects, that is no longer required in the amount of $163,107 and shown on Chart 2 in the Report CLSFS22-016, be transferred to the Capital Levy Reserve;\\nc) That the 2021 annual loan payment from the Peterborough Recreational Baseball Association in the amount of $2,500 be deferred, and that the term of the loan repayment be extended by one additional year, to November 1, 2031;\\nd) That the following year end surpluses be transferred to reserves:\\ni. $275,793 of the Utilities surplus be transferred to the Climate Change Reserve;\\nii. $119,034 of the Street Light Energy surplus be transferred to the LED Reserve;\\niii. $79,234 of the Museum surplus be transferred to the Museum Renovation Reserve;\\niv. $1,201,152 of the Transit surplus be transferred to the Transit Reserve;\\nv. $85,589 of the Wolfe St Building operating surplus be transferred to the Facilities Maintenance Reserve;\\nvi. $27,249 representing 100% of the Police Services surplus be transferred to the City of Peterborough to offset the WSIB payments;\\ne) That the $1,990,000 combined surpluses in the 2019, 2020 and 2021 Property Acquisitions and Improvement Projects (Capital Budget Ref# 5-1.01 in each of Capital Budget 2019, 2020 and 2021) be transferred to the General Property Reserve\\nf) That, as a matter of housekeeping, the sources of capital funding be replaced in the Capital Budget as follows:\\ni. That $1,900.000 of Debt–Development Charges–Carnegie East from the Bethune St Diversion City Funded Project (2020 Capital Budget Project 5-5.03) be replaced with tax-supported debentures and By-law 21-006 be repealed and replaced; and\\nii. That $137,025 of Debt-Development Charges-Recreation from the Parkland Development Assistance Program (2021 Capital Budget Project 5-1.02) be replaced with Development Charges-Parks and By-law 21-030 be repealed.\\n\\n\\n\\n\\nFor (9): Councillor Akapo, Councillor Beamer, Councillor Pappas, Councillor Parnell, Councillor Riel, Mayor Therrien, Councillor Vassiliadis, Councillor Wright, and Councillor Zippel Against (2): Councillor Baldwin, and Councillor Clarke Carried (9 to 2)\\nReport of Closed Session, Report IPSCOM22-004 Moved by Councillor Pappas Seconded by Councillor Beamer That Council approve the recommendation outlined in Report IPSCOM22-004, dated June 20, 2022, of the Interim Commissioner of Infrastructure and Planning Services, as follows: That, staff be authorized to proceed as amended, as outlined in closed session Report IPSCOM22-004 dated June 20, 2022 of the Interim Commissioner of Infrastructure and Planning Services. For (8): Councillor Baldwin, Councillor Beamer, Councillor Clarke, Councillor Pappas, Councillor Parnell, Councillor Riel, Councillor Vassiliadis, and Councillor Wright Against (3): Councillor Akapo, Mayor Therrien, and Councillor Zippel Carried (8 to 3)\\nWater, Wastewater, and Stormwater Service Delivery Review, Report CAO22-006 Moved by Councillor Pappas Seconded by Councillor Akapo That Council approve the recommendations outlined in Report CAO22-006, dated June 20, 2022, of the Chief Administrative Officer, as follows: a) That the presentation by Kevin Morawski from WSP and Jim Harnum from Municipal Vu Consulting Inc., be received for information. b) That Report CAO22-006, dated June 20, 2022, of the Chief Administrative Officer, be received for information.\\nMoved by Councillor Clarke Seconded by Councillor Parnell That Council approve the recommendations outlined in Report CAO22-006, dated June 20, 2022, of the Chief Administrative Officer, as follows: That the Water, Wastewater, and Stormwater Service Delivery Review be deferred to 2023.\\n\\n\\nFor (4): Councillor Beamer, Councillor Clarke, Councillor Parnell, and Mayor Therrien Against (7): Councillor Akapo, Councillor Baldwin, Councillor Pappas, Councillor Riel, Councillor Vassiliadis, Councillor Wright, and Councillor Zippel Lost (4 to 7)\\nMoved by Councillor Parnell Seconded by Councillor Beamer That the recommendation be amended to include items c) and d) as follows: c) That the July 11, 2022, staff report include information from the PUC; and, d) That extended public consultation be organized. For (6): Councillor Akapo, Councillor Beamer, Councillor Clarke, Councillor Parnell, Mayor Therrien, and Councillor Vassiliadis Against (5): Councillor Baldwin, Councillor Pappas, Councillor Riel, Councillor Wright, and Councillor Zippel Carried (6 to 5)\\nMoved by Councillor Pappas Seconded by Councillor Beamer That the question be put. For (11): Councillor Akapo, Councillor Baldwin, Councillor Beamer, Councillor Clarke, Councillor Pappas, Councillor Parnell, Councillor Riel, Mayor Therrien, Councillor Vassiliadis, Councillor Wright, and Councillor Zippel Carried (11 to 0)\\nIt was requested that the items be separated for vote. Moved by Councillor Pappas Seconded by Councillor Akapo a) That the presentation by Kevin Morawski from WSP and Jim Harnum from Municipal Vu Consulting Inc., be received for information. For (7): Councillor Akapo, Councillor Baldwin, Councillor Pappas, Councillor Riel, Councillor Vassiliadis, Councillor Wright, and Councillor Zippel Against (4): Councillor Beamer, Councillor Clarke, Councillor Parnell, and Mayor Therrien Carried (7 to 4)\\n\\n\\n\\nMoved by Councillor Pappas Seconded by Councillor Akapo b) That Report CAO22-006, dated June 20, 2022, of the Chief Administrative Officer,  be received for information. For (7): Councillor Akapo, Councillor Baldwin, Councillor Pappas, Councillor Riel, Councillor Vassiliadis, Councillor Wright, and Councillor Zippel Against (4): Councillor Beamer, Councillor Clarke, Councillor Parnell, and Mayor Therrien Carried (7 to 4)\\nMoved by Councillor Pappas Seconded by Councillor Akapo c) That the July 11, 2022, staff report include information from the PUC; and, For (7): Councillor Akapo, Councillor Beamer, Councillor Clarke, Councillor Parnell, Mayor Therrien, Councillor Vassiliadis, and Councillor Zippel Against (4): Councillor Baldwin, Councillor Pappas, Councillor Riel, and Councillor Wright Carried (7 to 4)\\nMoved by Councillor Pappas Seconded by Councillor Akapo d) That extended public consultation be organized. For (9): Councillor Akapo, Councillor Beamer, Councillor Clarke, Councillor Pappas, Councillor Parnell, Councillor Riel, Mayor Therrien, Councillor Vassiliadis, and Councillor Wright Against (2): Councillor Baldwin, and Councillor Zippel Carried (9 to 2)\\nNotice of Motion There were no Notices of Motion Approval of By-laws Moved by Councillor Wright Seconded by Councillor Vassiliadis\\n\\n\\n22-040 - Being a by-law to further amend By-law 11-081, being a By-law to exempt certain classes of development from site plan control and to delegate authority respecting site plan approval 22-041 - Being a by-law to amend the Zoning By-law for the lands known as 482 Hopkins Avenue 22-042 - Being a By-law to amend the Zoning By-law for the lands known as 873 High Street 22-043 - Being a By-law to designate 65 units of affordable housing at 555 Bonaccord Street as a Municipal Housing Facility, in accordance with By-law 12- 094 For (11): Councillor Akapo, Councillor Baldwin, Councillor Beamer, Councillor Clarke, Councillor Pappas, Councillor Parnell, Councillor Riel, Mayor Therrien, Councillor Vassiliadis, Councillor Wright, and Councillor Zippel Carried (11 to 0)\\nOther Business Closed Session Report - CLSOCS22-002 Moved by Councillor Wright Seconded by Councillor Riel That Council go into Closed Session to discuss one item under 239(2)(f), Advice subject to solicitor client privilege. For (6): Councillor Akapo, Councillor Baldwin, Councillor Clarke, Councillor Riel, Councillor Wright, and Councillor Zippel Against (5): Councillor Beamer, Councillor Pappas, Councillor Parnell, Mayor Therrien, and Councillor Vassiliadis Carried (6 to 5)\\nMoved by Councillor Zippel Seconded by Councillor Akapo That, respecting Item 1.d of the June 20, 2022 General Committee Closed Meeting Agenda, staff be authorized and directed, to proceed as outlined in Report CLSOCS22-002 dated June 20, 2022 of the City Solicitor except as outlined in paragraph 1.d) on page 10 of the Report.\\n\\n\\n\\n\\nFor (8): Councillor Akapo, Councillor Baldwin, Councillor Clarke, Councillor Riel, Mayor Therrien, Councillor Vassiliadis, Councillor Wright, and Councillor Zippel Against (3): Councillor Beamer, Councillor Pappas, and Councillor Parnell Carried (8 to 3)\\nConfirmation By-law Moved by Councillor Pappas Seconded by Councillor Beamer 22-044 - Being a Being a By-law to confirm the proceedings of the Council at its regular meeting held on June 27, 2022 For (11): Councillor Akapo, Councillor Baldwin, Councillor Beamer, Councillor Clarke, Councillor Pappas, Councillor Parnell, Councillor Riel, Mayor Therrien, Councillor Vassiliadis, Councillor Wright, and Councillor Zippel Carried (11 to 0)\\nAdjournment Moved by Councillor Pappas Seconded by Councillor Wright That this meeting adjourn at 9:12 p.m. For (11): Councillor Akapo, Councillor Baldwin, Councillor Beamer, Councillor Clarke, Councillor Pappas, Councillor Parnell, Councillor Riel, Mayor Therrien, Councillor Vassiliadis, Councillor Wright, and Councillor Zippel Carried (11 to 0)\\n\\n_________________________ John Kennedy City Clerk\\n_________________________ Diane Therrien Mayor\\n\\n\""
      ]
     },
     "execution_count": 12,
     "metadata": {},
     "output_type": "execute_result"
    }
   ],
   "source": [
    "text"
   ]
  },
  {
   "cell_type": "code",
   "execution_count": null,
   "id": "81935054-39c0-4acc-87fb-b4f6cf91d1ba",
   "metadata": {},
   "outputs": [],
   "source": []
  }
 ],
 "metadata": {
  "kernelspec": {
   "display_name": "Python 3 (ipykernel)",
   "language": "python",
   "name": "python3"
  },
  "language_info": {
   "codemirror_mode": {
    "name": "ipython",
    "version": 3
   },
   "file_extension": ".py",
   "mimetype": "text/x-python",
   "name": "python",
   "nbconvert_exporter": "python",
   "pygments_lexer": "ipython3",
   "version": "3.9.13"
  }
 },
 "nbformat": 4,
 "nbformat_minor": 5
}
