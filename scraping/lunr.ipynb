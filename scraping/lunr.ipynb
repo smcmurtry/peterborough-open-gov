{
 "cells": [
  {
   "cell_type": "code",
   "execution_count": 23,
   "id": "b90539cc-19bc-41f5-9678-c5347befbd46",
   "metadata": {},
   "outputs": [],
   "source": [
    "from lunr import lunr\n",
    "import os\n",
    "import json"
   ]
  },
  {
   "cell_type": "code",
   "execution_count": 5,
   "id": "aa2af261-8872-41dc-9966-c147ac47b016",
   "metadata": {},
   "outputs": [],
   "source": [
    "minutes_txt_folder = \"../flaskr/static/minutes/txt/\""
   ]
  },
  {
   "cell_type": "code",
   "execution_count": 6,
   "id": "d1cee44e-6183-4e06-83a6-6c892974af05",
   "metadata": {},
   "outputs": [],
   "source": [
    "minutes_txt_fnames = os.listdir(minutes_txt_folder)"
   ]
  },
  {
   "cell_type": "code",
   "execution_count": 7,
   "id": "c5f885df-d6b0-4140-9009-31bf2efa2395",
   "metadata": {},
   "outputs": [
    {
     "data": {
      "text/plain": [
       "['3122.txt',\n",
       " '16478.txt',\n",
       " '20684.txt',\n",
       " '10974.txt',\n",
       " '29663.txt',\n",
       " '20647.txt',\n",
       " '29111.txt',\n",
       " '17941.txt',\n",
       " '28964.txt',\n",
       " '9631.txt']"
      ]
     },
     "execution_count": 7,
     "metadata": {},
     "output_type": "execute_result"
    }
   ],
   "source": [
    "minutes_txt_fnames[:10]"
   ]
  },
  {
   "cell_type": "code",
   "execution_count": 8,
   "id": "6ecf643d-5da3-47fe-9b77-a0cd12f3e55e",
   "metadata": {},
   "outputs": [],
   "source": [
    "fname = minutes_txt_fnames[0]"
   ]
  },
  {
   "cell_type": "code",
   "execution_count": 14,
   "id": "6025f68d-cf75-472c-9456-aba579280a55",
   "metadata": {},
   "outputs": [],
   "source": [
    "f = open(f\"{minutes_txt_folder}{fname}\", \"r\")\n"
   ]
  },
  {
   "cell_type": "code",
   "execution_count": 15,
   "id": "8bbe1b24-410f-4699-a3d1-1b88cc6fed7a",
   "metadata": {},
   "outputs": [],
   "source": [
    "text = f.read()"
   ]
  },
  {
   "cell_type": "code",
   "execution_count": 44,
   "id": "ed53629f-efa3-4bf8-a26a-3bc1d3712cb1",
   "metadata": {},
   "outputs": [],
   "source": [
    "docs = []\n",
    "\n",
    "for fname in minutes_txt_fnames:\n",
    "    with open(f\"{minutes_txt_folder}{fname}\", \"r\") as f:\n",
    "        body = f.read()\n",
    "        _body = body.replace(\"\\n\", \" \")\n",
    "        __body = ' '.join(_body.split())\n",
    "        doc = {\n",
    "            \"id\": fname.split(\".\")[0],\n",
    "            \"title\": \"minutes\",\n",
    "            \"body\": __body\n",
    "        }\n",
    "        docs.append(doc)"
   ]
  },
  {
   "cell_type": "code",
   "execution_count": 45,
   "id": "39548563-9266-44d5-ae5d-23d567385fd8",
   "metadata": {},
   "outputs": [],
   "source": [
    "json.dump(docs, open(\"./search_data.json\", \"w\"))"
   ]
  },
  {
   "cell_type": "code",
   "execution_count": 21,
   "id": "bad0ec05-6764-404c-961b-74841de4a905",
   "metadata": {},
   "outputs": [
    {
     "data": {
      "text/plain": [
       "865"
      ]
     },
     "execution_count": 21,
     "metadata": {},
     "output_type": "execute_result"
    }
   ],
   "source": [
    "len(docs)"
   ]
  },
  {
   "cell_type": "code",
   "execution_count": 25,
   "id": "1fce76d6-9493-4777-9623-14ca6e6cef3d",
   "metadata": {},
   "outputs": [],
   "source": [
    "idx = lunr(ref='id', fields=('title', 'body'), documents=docs)"
   ]
  },
  {
   "cell_type": "code",
   "execution_count": 27,
   "id": "e502c22e-53bf-4757-b0b7-f6469c76c51d",
   "metadata": {},
   "outputs": [],
   "source": [
    "abc = idx.search(\"dean\")"
   ]
  },
  {
   "cell_type": "code",
   "execution_count": 28,
   "id": "c6239bbf-0b42-4aff-b0f3-5a3aed7d818f",
   "metadata": {},
   "outputs": [],
   "source": [
    "match = abc[0]"
   ]
  },
  {
   "cell_type": "code",
   "execution_count": 30,
   "id": "74c90d98-8dcf-4331-869d-40269061aa04",
   "metadata": {},
   "outputs": [
    {
     "data": {
      "text/plain": [
       "<MatchData \"dean\">"
      ]
     },
     "execution_count": 30,
     "metadata": {},
     "output_type": "execute_result"
    }
   ],
   "source": [
    "match[\"match_data\"]"
   ]
  },
  {
   "cell_type": "code",
   "execution_count": 31,
   "id": "4ca2ccb6-2125-438d-9fca-182cbafe0cff",
   "metadata": {},
   "outputs": [],
   "source": [
    "a1 = match[\"match_data\"]"
   ]
  },
  {
   "cell_type": "code",
   "execution_count": 33,
   "id": "43e5a20c-6777-4725-8de4-da984a9e7004",
   "metadata": {},
   "outputs": [
    {
     "data": {
      "text/plain": [
       "<MatchData \"dean\">"
      ]
     },
     "execution_count": 33,
     "metadata": {},
     "output_type": "execute_result"
    }
   ],
   "source": [
    "a1."
   ]
  },
  {
   "cell_type": "code",
   "execution_count": 34,
   "id": "f7d9465f-efb3-4a2b-bfa6-95488d7d0389",
   "metadata": {},
   "outputs": [
    {
     "data": {
      "text/plain": [
       "{'ref': '4227', 'score': 5.146, 'match_data': <MatchData \"dean\">}"
      ]
     },
     "execution_count": 34,
     "metadata": {},
     "output_type": "execute_result"
    }
   ],
   "source": [
    "match"
   ]
  },
  {
   "cell_type": "code",
   "execution_count": 46,
   "id": "b01f1d34-ca4d-42ad-9222-07e87ca892e8",
   "metadata": {},
   "outputs": [],
   "source": [
    "text = \"Special General Committee Minutes (Electronic Meeting) March 29, 2021 Present: Councillor Akapo Staff: Councillor Baldwin Councillor Beamer, Chair Councillor Clarke (6:14 p.m.) Councillor Parnell Councillor Pappas Councillor Riel Mayor Therrien Councillor Vassiliadis Councillor Wright Councillor Zippel Brian Buchardt, Planner – Urban Design & Projects Coordinator Sandra Clancy, Chief Administrative Officer Cynthia Fletcher, Commissioner of Infrastructure and Planning Services Richard Freymond, Commissioner of Corporate and Legislative Services Natalie Garnett, Deputy City Clerk Ken Hetherington, Chief Planner Brian Jobbitt, Manager, Public Works Kevin Jones, Manager, Transportation John Kennedy, City Clerk Sheldon Laidman, Commissioner of Community Services David Potts, City Solicitor/Manager of Legal Services Brendan Wedley, Manager of Communication Services Opening of Meeting The Chair called the meeting to order at 6:04 p.m. Declaration of Pecuniary Interest Councillor Pappas declared a conflict with report IPSCOM21-001, Downtown Built Environment - Proposed 2021 Response to the Impacts of COVID-19, as he is the owner of a business participating in the program. 1 Reports Report IPSCOM21-001 Moved by Councillor Akapo Downtown Built Environment - Proposed 2021 Response to the impacts of COVID-19 Due to his previously declared interest, Councillor Pappas did not discuss or vote on this item. That Council approve the recommendations outlined in Report IPSCOM21-001 dated March 29, 2021, of the Commissioner of Infrastructure and Planning Services, as follows: a) b) c) That Council approve the temporary modifications to the downtown built environment for 2021 as per the layout in Appendix A of Report IPSCOM21- 001, as part of the COVID-19 Re-Opening Ontario Health and Safety Measures; That the on-street pick up zones be continued, along with regular enforcement of the two-hour parking limit and the continuation of fees for on-street parking in the downtown; and That a by-law be passed delegating to the Chief Administrative Officer and the Commissioner of IPS certain authority respecting highways within the downtown to implement Council’s direction in response to Report IPSCOM21-001 Downtown Built Environment - Proposed 2021 Response to the Impacts of COVID-19 for the period April 1, 2021 to December 31, 2021 in the form of by-law comprising Appendix C to the said Report; At the meeting of March 29, 2021 Committee added item d) as follows: d) That staff provide an update report to Council on any delegated authority decisions of staff related to the Downtown Built Environment Plan at General Committee in July 2021. Upon request, the items were separated for vote. Upon recommendation a), the motion carried. Upon recommendation b), the motion carried. Upon recommendation c), the motion carried. Upon recommendation d), the motion carried. Adjournment Moved by Councillor Pappas That this meeting adjourn at 6:50 p.m. Carried _________________________ John Kennedy City Clerk _________________________ Councillor Beamer Chair\""
   ]
  },
  {
   "cell_type": "code",
   "execution_count": 50,
   "id": "258baac2-e4aa-41bc-b9cc-4e41d92086d1",
   "metadata": {},
   "outputs": [
    {
     "data": {
      "text/plain": [
       "'Co'"
      ]
     },
     "execution_count": 50,
     "metadata": {},
     "output_type": "execute_result"
    }
   ],
   "source": [
    "text[354:356]"
   ]
  },
  {
   "cell_type": "code",
   "execution_count": 51,
   "id": "cdc196d0-6b52-4a1d-b5cb-68be52c035e3",
   "metadata": {},
   "outputs": [
    {
     "data": {
      "text/plain": [
       "'vi'"
      ]
     },
     "execution_count": 51,
     "metadata": {},
     "output_type": "execute_result"
    }
   ],
   "source": [
    "text[475:477]"
   ]
  },
  {
   "cell_type": "code",
   "execution_count": 54,
   "id": "28735db7-4b8f-47a9-9159-fde437c27ad1",
   "metadata": {},
   "outputs": [
    {
     "data": {
      "text/plain": [
       "'COVID'"
      ]
     },
     "execution_count": 54,
     "metadata": {},
     "output_type": "execute_result"
    }
   ],
   "source": [
    "text[1110:1115]"
   ]
  },
  {
   "cell_type": "code",
   "execution_count": 56,
   "id": "de2561fb-2e3c-4d7c-8e1f-4a6ba50129a2",
   "metadata": {},
   "outputs": [
    {
     "data": {
      "text/plain": [
       "'COVID'"
      ]
     },
     "execution_count": 56,
     "metadata": {},
     "output_type": "execute_result"
    }
   ],
   "source": [
    "text[1309:1314]"
   ]
  },
  {
   "cell_type": "code",
   "execution_count": null,
   "id": "0e87482c-2dbe-4804-9329-d62b4115e58c",
   "metadata": {},
   "outputs": [],
   "source": []
  }
 ],
 "metadata": {
  "kernelspec": {
   "display_name": "Python 3 (ipykernel)",
   "language": "python",
   "name": "python3"
  },
  "language_info": {
   "codemirror_mode": {
    "name": "ipython",
    "version": 3
   },
   "file_extension": ".py",
   "mimetype": "text/x-python",
   "name": "python",
   "nbconvert_exporter": "python",
   "pygments_lexer": "ipython3",
   "version": "3.9.1"
  }
 },
 "nbformat": 4,
 "nbformat_minor": 5
}
