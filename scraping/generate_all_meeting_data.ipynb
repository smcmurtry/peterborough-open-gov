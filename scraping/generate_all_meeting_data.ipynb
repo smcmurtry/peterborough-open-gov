{
 "cells": [
  {
   "cell_type": "code",
   "execution_count": 14,
   "id": "45e5398a-83de-4278-8769-656fd6bd406a",
   "metadata": {},
   "outputs": [],
   "source": [
    "import pandas as pd\n",
    "import json\n",
    "import os"
   ]
  },
  {
   "cell_type": "code",
   "execution_count": 2,
   "id": "81818ee0-7bec-4c5b-8ea9-46e785bba4d2",
   "metadata": {},
   "outputs": [],
   "source": [
    "scraped_minutes_urls = pd.read_csv(\"scraped_minutes_urls.csv\")"
   ]
  },
  {
   "cell_type": "code",
   "execution_count": 16,
   "id": "5c360027-d40a-451e-8b24-f722e5b08da5",
   "metadata": {},
   "outputs": [],
   "source": [
    "def get_filename(url):\n",
    "    if url == \"None\":\n",
    "        return None\n",
    "    return f\"{url.split('=')[-1]}.pdf\""
   ]
  },
  {
   "cell_type": "code",
   "execution_count": 20,
   "id": "ae48031a-c6fd-4059-908f-20e28663f356",
   "metadata": {},
   "outputs": [],
   "source": [
    "scraped_minutes_urls[\"minutes_filename\"] = scraped_minutes_urls[\"minues_pdf_url\"].map(get_filename)\n",
    "scraped_minutes_urls.set_index(\"id\", inplace=True)"
   ]
  },
  {
   "cell_type": "code",
   "execution_count": null,
   "id": "94ee1e36-072d-44ae-afca-1647a6698e27",
   "metadata": {},
   "outputs": [],
   "source": []
  },
  {
   "cell_type": "code",
   "execution_count": 12,
   "id": "50191c5f-b6df-4b28-8970-10a69e492cce",
   "metadata": {},
   "outputs": [],
   "source": [
    "def get_fname(datetime_iso, meeting_type):\n",
    "    \"\"\"\n",
    "    datetime_iso like: \"2022-10-03T16:00:00\" \",\n",
    "    meeting_type like: \"Accessibility Advisory Committee Meeting\"\n",
    "    \"\"\"\n",
    "    date = datetime_iso.split(\"T\")[0]\n",
    "    meeting_type = meeting_type.replace(\" \", \"-\")\n",
    "    meeting_type = meeting_type.replace(\",\",\"\")\n",
    "    return f\"{date}.{meeting_type}\"\n",
    "\n",
    "def fill_minutes_fname(x):\n",
    "    fname = f'{get_fname(x[\"datetime_iso\"], x[\"meeting_type\"])}.pdf'\n",
    "    if not os.path.isfile(f\"minutes_new/{fname}\"):\n",
    "        return None\n",
    "    return fname"
   ]
  },
  {
   "cell_type": "code",
   "execution_count": 5,
   "id": "353eb815-c81a-4649-a874-cb8708b11e39",
   "metadata": {},
   "outputs": [],
   "source": [
    "with open(\"generated_data/all_data_flat.json\", \"r\") as f:\n",
    "    all_data_flat = json.load(f)"
   ]
  },
  {
   "cell_type": "code",
   "execution_count": 6,
   "id": "b3974bb6-3758-4eb6-835c-33e61d148a2e",
   "metadata": {},
   "outputs": [],
   "source": [
    "all_data_flat_df = pd.DataFrame.from_records(all_data_flat)"
   ]
  },
  {
   "cell_type": "code",
   "execution_count": 16,
   "id": "a8723e92-0a42-4a90-8e7f-9c2c890a8732",
   "metadata": {},
   "outputs": [],
   "source": [
    "all_data_flat_df[\"minutes_filename\"] = all_data_flat_df.apply(fill_minutes_fname, axis=1)"
   ]
  },
  {
   "cell_type": "code",
   "execution_count": 56,
   "id": "ccbc2372-8cf0-421e-9bd0-b22156768097",
   "metadata": {},
   "outputs": [],
   "source": [
    "# minutes_filename_dict = scraped_minutes_urls.to_dict()[\"minutes_filename\"]\n",
    "# all_data_flat_df[\"minutes_filename\"] = all_data_flat_df[\"id\"].map(minutes_filename_dict)"
   ]
  },
  {
   "cell_type": "code",
   "execution_count": 17,
   "id": "66d6289a-9125-4083-8f03-212d57e1802b",
   "metadata": {},
   "outputs": [],
   "source": [
    "cols_of_interest = [\"id\", \"meeting_type\", \"location\", \"datetime_iso\", \"agenda_url\", \"cancelled\", \"video_url\", \"minutes_filename\"]"
   ]
  },
  {
   "cell_type": "code",
   "execution_count": 19,
   "id": "dfd075b7-912b-48ed-9b11-b1c834c80d03",
   "metadata": {},
   "outputs": [],
   "source": [
    "all_data_flat_df[cols_of_interest].to_json(\"generated_data/all_meeting_data.json\", orient=\"records\")"
   ]
  },
  {
   "cell_type": "code",
   "execution_count": null,
   "id": "85a60fcc-85c6-48aa-94a6-57ddfd4eb860",
   "metadata": {},
   "outputs": [],
   "source": []
  },
  {
   "cell_type": "code",
   "execution_count": null,
   "id": "6c106fac-72a4-42b8-ac33-fa9957dd27bf",
   "metadata": {},
   "outputs": [],
   "source": []
  },
  {
   "cell_type": "code",
   "execution_count": 64,
   "id": "03c34260-725f-4781-81e7-85b45d7caeeb",
   "metadata": {},
   "outputs": [],
   "source": [
    "import scraping"
   ]
  },
  {
   "cell_type": "code",
   "execution_count": 80,
   "id": "f85a63a6-4eed-4b06-b835-30d0856eb673",
   "metadata": {},
   "outputs": [],
   "source": [
    "meetings_url = \"https://pub-peterborough.escribemeetings.com/meetingscalendarview.aspx?FillWidth=1&wmode=transparent&Year=2022\"\n",
    "\n",
    "meetings_page = scraping.requests.get(meetings_url)\n",
    "soup = scraping.BeautifulSoup(meetings_page.text, \"html.parser\")\n",
    "# meeting_type_anchors = soup.find_all(\"a\", {\"class\": \"PastMeetingTypesName\"})\n",
    "# meeting_type_hrefs = [x.attrs[\"href\"] for x in meeting_type_anchors]\n",
    "\n"
   ]
  },
  {
   "cell_type": "code",
   "execution_count": 81,
   "id": "fd69eeac-3724-42e5-abdd-71b6e6d73e20",
   "metadata": {},
   "outputs": [],
   "source": [
    "meeting_type_anchors = soup.find_all(\"a\", {\"class\": \"PastMeetingTypesName\"})"
   ]
  },
  {
   "cell_type": "code",
   "execution_count": 83,
   "id": "940947d7-f6b2-4df0-b9c8-8cc848040810",
   "metadata": {},
   "outputs": [],
   "source": [
    "meeting_type_hrefs = [x.attrs[\"href\"] for x in meeting_type_anchors]\n"
   ]
  },
  {
   "cell_type": "code",
   "execution_count": 84,
   "id": "e50cbd43-4d3e-44e7-b761-4887146e9915",
   "metadata": {
    "collapsed": true,
    "jupyter": {
     "outputs_hidden": true
    },
    "tags": []
   },
   "outputs": [
    {
     "data": {
      "text/plain": [
       "['https://pub-peterborough.escribemeetings.com:443/meetingscalendarview.aspx?FillWidth=1&wmode=transparent&Year=2022&Expanded=Accessibility+Advisory+Committee+Meeting',\n",
       " 'https://pub-peterborough.escribemeetings.com:443/meetingscalendarview.aspx?FillWidth=1&wmode=transparent&Year=2022&Expanded=Ad+Hoc+Committee',\n",
       " 'https://pub-peterborough.escribemeetings.com:443/meetingscalendarview.aspx?FillWidth=1&wmode=transparent&Year=2022&Expanded=Airport+Strategic+Initiatives+Committee',\n",
       " 'https://pub-peterborough.escribemeetings.com:443/meetingscalendarview.aspx?FillWidth=1&wmode=transparent&Year=2022&Expanded=Arenas%2c+Parks+and+Recreation+Advisory+Committee+Meeting',\n",
       " 'https://pub-peterborough.escribemeetings.com:443/meetingscalendarview.aspx?FillWidth=1&wmode=transparent&Year=2022&Expanded=Arts%2c+Culture+and+Heritage+Advisory+Committee+Meeting',\n",
       " 'https://pub-peterborough.escribemeetings.com:443/meetingscalendarview.aspx?FillWidth=1&wmode=transparent&Year=2022&Expanded=Audit+Committee+Meeting',\n",
       " 'https://pub-peterborough.escribemeetings.com:443/meetingscalendarview.aspx?FillWidth=1&wmode=transparent&Year=2022&Expanded=Budget+Committee+Meeting',\n",
       " 'https://pub-peterborough.escribemeetings.com:443/meetingscalendarview.aspx?FillWidth=1&wmode=transparent&Year=2022&Expanded=Candidate+Session',\n",
       " 'https://pub-peterborough.escribemeetings.com:443/meetingscalendarview.aspx?FillWidth=1&wmode=transparent&Year=2022&Expanded=Ceremony',\n",
       " 'https://pub-peterborough.escribemeetings.com:443/meetingscalendarview.aspx?FillWidth=1&wmode=transparent&Year=2022&Expanded=City+Council+Meeting',\n",
       " 'https://pub-peterborough.escribemeetings.com:443/meetingscalendarview.aspx?FillWidth=1&wmode=transparent&Year=2022&Expanded=Committee+of+Adjustment',\n",
       " 'https://pub-peterborough.escribemeetings.com:443/meetingscalendarview.aspx?FillWidth=1&wmode=transparent&Year=2022&Expanded=Committee+of+the+Whole',\n",
       " 'https://pub-peterborough.escribemeetings.com:443/meetingscalendarview.aspx?FillWidth=1&wmode=transparent&Year=2022&Expanded=Council+Compensation+Committee',\n",
       " 'https://pub-peterborough.escribemeetings.com:443/meetingscalendarview.aspx?FillWidth=1&wmode=transparent&Year=2022&Expanded=COVID+19',\n",
       " 'https://pub-peterborough.escribemeetings.com:443/meetingscalendarview.aspx?FillWidth=1&wmode=transparent&Year=2022&Expanded=Finance+Committee+Meeting',\n",
       " 'https://pub-peterborough.escribemeetings.com:443/meetingscalendarview.aspx?FillWidth=1&wmode=transparent&Year=2022&Expanded=General+Committee',\n",
       " 'https://pub-peterborough.escribemeetings.com:443/meetingscalendarview.aspx?FillWidth=1&wmode=transparent&Year=2022&Expanded=General+Committee+-+additional+meeting',\n",
       " 'https://pub-peterborough.escribemeetings.com:443/meetingscalendarview.aspx?FillWidth=1&wmode=transparent&Year=2022&Expanded=Joint+Services+Steering+Committee+Meeting',\n",
       " 'https://pub-peterborough.escribemeetings.com:443/meetingscalendarview.aspx?FillWidth=1&wmode=transparent&Year=2022&Expanded=Museum+and+Archives+Advisory+Committee+Meeting',\n",
       " 'https://pub-peterborough.escribemeetings.com:443/meetingscalendarview.aspx?FillWidth=1&wmode=transparent&Year=2022&Expanded=Orientation',\n",
       " 'https://pub-peterborough.escribemeetings.com:443/meetingscalendarview.aspx?FillWidth=1&wmode=transparent&Year=2022&Expanded=Peterborough+Architectural+Conservation+Advisory+Committee',\n",
       " 'https://pub-peterborough.escribemeetings.com:443/meetingscalendarview.aspx?FillWidth=1&wmode=transparent&Year=2022&Expanded=Peterborough+Environmental+Advisory+Committee',\n",
       " 'https://pub-peterborough.escribemeetings.com:443/meetingscalendarview.aspx?FillWidth=1&wmode=transparent&Year=2022&Expanded=Peterborough+Public+Library+Board',\n",
       " 'https://pub-peterborough.escribemeetings.com:443/meetingscalendarview.aspx?FillWidth=1&wmode=transparent&Year=2022&Expanded=Peterborough+Regional+Liaison+Committee+Meeting',\n",
       " 'https://pub-peterborough.escribemeetings.com:443/meetingscalendarview.aspx?FillWidth=1&wmode=transparent&Year=2022&Expanded=Planning+Advisory+Committee',\n",
       " 'https://pub-peterborough.escribemeetings.com:443/meetingscalendarview.aspx?FillWidth=1&wmode=transparent&Year=2022&Expanded=Planning+Committee',\n",
       " 'https://pub-peterborough.escribemeetings.com:443/meetingscalendarview.aspx?FillWidth=1&wmode=transparent&Year=2022&Expanded=Public+Meeting+-+Development+Charges',\n",
       " 'https://pub-peterborough.escribemeetings.com:443/meetingscalendarview.aspx?FillWidth=1&wmode=transparent&Year=2022&Expanded=Special+City+Council+Meeting',\n",
       " 'https://pub-peterborough.escribemeetings.com:443/meetingscalendarview.aspx?FillWidth=1&wmode=transparent&Year=2022&Expanded=Special+City+Council+Meeting+Remembrance+Day',\n",
       " 'https://pub-peterborough.escribemeetings.com:443/meetingscalendarview.aspx?FillWidth=1&wmode=transparent&Year=2022&Expanded=Special+General+Committee',\n",
       " 'https://pub-peterborough.escribemeetings.com:443/meetingscalendarview.aspx?FillWidth=1&wmode=transparent&Year=2022&Expanded=Special+Peterborough+Regional+Liaison+Committee',\n",
       " 'https://pub-peterborough.escribemeetings.com:443/meetingscalendarview.aspx?FillWidth=1&wmode=transparent&Year=2022&Expanded=Waste+Management+Committee+Meeting']"
      ]
     },
     "execution_count": 84,
     "metadata": {},
     "output_type": "execute_result"
    }
   ],
   "source": [
    "meeting_type_hrefs"
   ]
  },
  {
   "cell_type": "code",
   "execution_count": 85,
   "id": "7ce9bfb8-dc3c-4fda-800a-62c08385e485",
   "metadata": {},
   "outputs": [],
   "source": [
    "meeting_type_page = scraping.requests.post(meeting_type_hrefs[0])\n"
   ]
  },
  {
   "cell_type": "code",
   "execution_count": 97,
   "id": "a2d4afce-6a5f-45f7-9e4f-ccec96e7cf60",
   "metadata": {},
   "outputs": [],
   "source": [
    "meeting_page_text = meeting_type_page.text\n",
    "soup = scraping.BeautifulSoup(meeting_page_text, \"html.parser\")\n",
    "past_meeting_soup = soup.find(\"div\", {\"class\": \"past-meetings-region\"})\n",
    "if not past_meeting_soup:\n",
    "    print(\"hi\")\n",
    "all_meetings_of_type_2021 = past_meeting_soup.find_all(\n",
    "    \"div\", {\"class\": \"meeting-header\"}\n",
    ")\n",
    "parsed_meetings = []\n",
    "for meeting_soup in all_meetings_of_type_2021:\n",
    "    meeting = scraping.parse_meeting_soup(meeting_soup)\n",
    "    parsed_meetings.append(meeting)"
   ]
  },
  {
   "cell_type": "code",
   "execution_count": 101,
   "id": "b97b0bd4-1fc1-4c19-af70-6a1942042da5",
   "metadata": {},
   "outputs": [
    {
     "data": {
      "text/plain": [
       "[]"
      ]
     },
     "execution_count": 101,
     "metadata": {},
     "output_type": "execute_result"
    }
   ],
   "source": [
    "all_meetings_of_type_2021"
   ]
  },
  {
   "cell_type": "code",
   "execution_count": null,
   "id": "32d7c94c-3b44-4e82-8c7f-2ad767f0de42",
   "metadata": {},
   "outputs": [],
   "source": []
  },
  {
   "cell_type": "code",
   "execution_count": 92,
   "id": "a8720fe2-5b66-4629-a80a-d981a7f0576e",
   "metadata": {},
   "outputs": [
    {
     "data": {
      "text/plain": [
       "[]"
      ]
     },
     "execution_count": 92,
     "metadata": {},
     "output_type": "execute_result"
    }
   ],
   "source": [
    "all_meetings_of_type_2021"
   ]
  },
  {
   "cell_type": "code",
   "execution_count": 82,
   "id": "94455853-3e27-428a-8268-e49980650c96",
   "metadata": {},
   "outputs": [
    {
     "data": {
      "text/plain": [
       "<a aria-expanded=\"false\" class=\"PastMeetingTypesName collapsed btn\" data-target=\".collapse0\" data-toggle=\"collapse\" href=\"https://pub-peterborough.escribemeetings.com:443/meetingscalendarview.aspx?FillWidth=1&amp;wmode=transparent&amp;Year=2022&amp;Expanded=Accessibility+Advisory+Committee+Meeting\" id=\"ctl00_MainContent_lvPastMeetingTypes_ctrl0_ExpandCollapseLink\" role=\"button\">\n",
       "<span class=\"MeetingTypeNameText\">Accessibility Advisory Committee Meeting </span>\n",
       "<span class=\"MeetingTypeMeetingCount MeetingTypeNameText\">(<span class=\"Year Year0\">86</span><span class=\"Year Year2012\">6</span><span class=\"Year Year2013\">8</span><span class=\"Year Year2014\">7</span><span class=\"Year Year2015\">9</span><span class=\"Year Year2016\">9</span><span class=\"Year Year2017\">10</span><span class=\"Year Year2018\">7</span><span class=\"Year Year2019\">7</span><span class=\"Year Year2020\">7</span><span class=\"Year Year2021\">8</span><span class=\"Year Year2022\">8</span>)\n",
       "                                                    </span>\n",
       "</a>"
      ]
     },
     "execution_count": 82,
     "metadata": {},
     "output_type": "execute_result"
    }
   ],
   "source": [
    "meeting_type_anchors[0]"
   ]
  },
  {
   "cell_type": "code",
   "execution_count": 75,
   "id": "c078c637-73da-4c5a-895c-7ec0850420dc",
   "metadata": {},
   "outputs": [
    {
     "name": "stdout",
     "output_type": "stream",
     "text": [
      "0 of 32\n",
      "1 of 32\n",
      "2 of 32\n"
     ]
    },
    {
     "name": "stderr",
     "output_type": "stream",
     "text": [
      "\n",
      "KeyboardInterrupt\n",
      "\n"
     ]
    }
   ],
   "source": [
    "parsed_meetings: scraping.List[scraping.Meeting] = []\n",
    "for n, href in enumerate(meeting_type_hrefs[:]):\n",
    "    print(f\"{n} of {len(meeting_type_hrefs)}\")\n",
    "    meeting_type_page = scraping.requests.post(href)\n",
    "    parsed_meetings_of_type = scraping.parse_meeting_page_text(meeting_type_page.text)\n",
    "    parsed_meetings += parsed_meetings_of_type\n",
    "    with open(f\"data2/part_{n}.json\", \"w\") as f:\n",
    "        scraping.json.dump(parsed_meetings_of_type, f)"
   ]
  },
  {
   "cell_type": "code",
   "execution_count": 78,
   "id": "3a7fa736-b42c-48df-b758-e33805fba78b",
   "metadata": {},
   "outputs": [
    {
     "data": {
      "text/plain": [
       "'https://pub-peterborough.escribemeetings.com:443/meetingscalendarview.aspx?FillWidth=1&wmode=transparent&Expanded=Airport+Strategic+Initiatives+Committee'"
      ]
     },
     "execution_count": 78,
     "metadata": {},
     "output_type": "execute_result"
    }
   ],
   "source": [
    "href"
   ]
  },
  {
   "cell_type": "code",
   "execution_count": 79,
   "id": "8ce552b0-e6ce-4c2b-a4c1-4d50a048957f",
   "metadata": {},
   "outputs": [],
   "source": [
    "abc = \"https://pub-peterborough.escribemeetings.com/meetingscalendarview.aspx?FillWidth=1&wmode=transparent&Expanded=Airport+Strategic+Initiatives+Committee\""
   ]
  },
  {
   "cell_type": "code",
   "execution_count": 76,
   "id": "5e8460ee-7f68-4292-af4b-e88fca704d42",
   "metadata": {},
   "outputs": [
    {
     "data": {
      "text/plain": [
       "<Response [200]>"
      ]
     },
     "execution_count": 76,
     "metadata": {},
     "output_type": "execute_result"
    }
   ],
   "source": [
    "meeting_type_page"
   ]
  },
  {
   "cell_type": "code",
   "execution_count": 102,
   "id": "a47c8b63-e2f1-4f15-8f36-0bcdfdb60ed9",
   "metadata": {},
   "outputs": [
    {
     "data": {
      "text/plain": [
       "<Response [200]>"
      ]
     },
     "execution_count": 102,
     "metadata": {},
     "output_type": "execute_result"
    }
   ],
   "source": [
    "meeting_type_page"
   ]
  },
  {
   "cell_type": "code",
   "execution_count": 103,
   "id": "06c480b7-57c2-49f0-bb3f-dcb1ddb8145c",
   "metadata": {},
   "outputs": [
    {
     "data": {
      "text/plain": [
       "'https://pub-peterborough.escribemeetings.com:443/meetingscalendarview.aspx?FillWidth=1&wmode=transparent&Expanded=Airport+Strategic+Initiatives+Committee'"
      ]
     },
     "execution_count": 103,
     "metadata": {},
     "output_type": "execute_result"
    }
   ],
   "source": [
    "href"
   ]
  },
  {
   "cell_type": "code",
   "execution_count": 104,
   "id": "14be5260-b6c9-4b07-8e3c-768764dec4c8",
   "metadata": {},
   "outputs": [],
   "source": [
    "abc = scraping.requests.post(href)"
   ]
  },
  {
   "cell_type": "code",
   "execution_count": 106,
   "id": "503899c8-df26-4268-9d42-362f7c27dd32",
   "metadata": {},
   "outputs": [],
   "source": [
    "text = abc.text"
   ]
  },
  {
   "cell_type": "code",
   "execution_count": 107,
   "id": "e0af723e-cd2a-4a19-9752-29431833eb91",
   "metadata": {},
   "outputs": [],
   "source": [
    "with open(\"test.html\", \"w\") as f:\n",
    "    f.write(text)\n",
    "    f.close()"
   ]
  },
  {
   "cell_type": "code",
   "execution_count": null,
   "id": "eb697b9e-2c77-4165-b550-9481ec226019",
   "metadata": {},
   "outputs": [],
   "source": []
  }
 ],
 "metadata": {
  "kernelspec": {
   "display_name": "Python 3 (ipykernel)",
   "language": "python",
   "name": "python3"
  },
  "language_info": {
   "codemirror_mode": {
    "name": "ipython",
    "version": 3
   },
   "file_extension": ".py",
   "mimetype": "text/x-python",
   "name": "python",
   "nbconvert_exporter": "python",
   "pygments_lexer": "ipython3",
   "version": "3.9.13"
  }
 },
 "nbformat": 4,
 "nbformat_minor": 5
}
