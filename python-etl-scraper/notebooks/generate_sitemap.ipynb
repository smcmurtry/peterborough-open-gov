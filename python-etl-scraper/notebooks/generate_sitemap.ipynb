{
 "cells": [
  {
   "cell_type": "code",
   "execution_count": 5,
   "id": "4b5f0c4d-0496-4c5d-a327-9efcca44e7e9",
   "metadata": {},
   "outputs": [],
   "source": [
    "import os"
   ]
  },
  {
   "cell_type": "code",
   "execution_count": 6,
   "id": "ed294253-aa5a-4041-a6f3-0a3d01b9c1c6",
   "metadata": {},
   "outputs": [],
   "source": [
    "url = \"http://ptbo-open-gov.stephenmcmurtry.org\""
   ]
  },
  {
   "cell_type": "code",
   "execution_count": null,
   "id": "1a1bc52f-02ef-4b6d-b8ec-3fe43ec9ca56",
   "metadata": {},
   "outputs": [],
   "source": [
    "\"meetings/Peterborough%20Regional%20Liaison%20Committee%20Meeting\""
   ]
  },
  {
   "cell_type": "code",
   "execution_count": 8,
   "id": "354979d9-e323-4f01-b0ec-2cd10d068aed",
   "metadata": {},
   "outputs": [],
   "source": [
    "# example: https://peterborough-open-gov.herokuapp.com/static/minutes/pdf/9255.pdf"
   ]
  },
  {
   "cell_type": "code",
   "execution_count": 9,
   "id": "4cac2cfe-8374-478c-a4a4-ffe693e29def",
   "metadata": {},
   "outputs": [],
   "source": [
    "pdf_fnames = os.listdir(\"../flaskr/static/minutes/pdf/\")"
   ]
  },
  {
   "cell_type": "code",
   "execution_count": 11,
   "id": "9fe3a6e2-0932-4b55-a198-5d961bacbb6a",
   "metadata": {},
   "outputs": [],
   "source": [
    "with open(\"../flaskr/static/sitemap.txt\", \"w\") as f:\n",
    "    f.write(f\"{url}\\n\")    \n",
    "    for pdf_fname in pdf_fnames:\n",
    "        f.write(f\"{url}/static/minutes/pdf/{pdf_fname}\\n\")"
   ]
  },
  {
   "cell_type": "code",
   "execution_count": null,
   "id": "4fe4e5a9-4576-499c-9d06-ca8e893b515e",
   "metadata": {},
   "outputs": [],
   "source": []
  }
 ],
 "metadata": {
  "kernelspec": {
   "display_name": "Python 3 (ipykernel)",
   "language": "python",
   "name": "python3"
  },
  "language_info": {
   "codemirror_mode": {
    "name": "ipython",
    "version": 3
   },
   "file_extension": ".py",
   "mimetype": "text/x-python",
   "name": "python",
   "nbconvert_exporter": "python",
   "pygments_lexer": "ipython3",
   "version": "3.9.1"
  }
 },
 "nbformat": 4,
 "nbformat_minor": 5
}
