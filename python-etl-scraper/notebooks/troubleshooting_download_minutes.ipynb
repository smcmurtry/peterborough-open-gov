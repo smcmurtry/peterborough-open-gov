{
 "cells": [
  {
   "cell_type": "code",
   "execution_count": 10,
   "id": "43da0d8e",
   "metadata": {},
   "outputs": [],
   "source": [
    "import sys\n",
    "import os\n",
    "sys.path.append(os.path.abspath('..'))\n",
    "from bs4 import BeautifulSoup\n",
    "from datetime import datetime\n",
    "import time\n",
    "import requests"
   ]
  },
  {
   "cell_type": "code",
   "execution_count": 4,
   "id": "a75f860b",
   "metadata": {},
   "outputs": [],
   "source": [
    "from download_minutes import download_minutes_from_agenda\n"
   ]
  },
  {
   "cell_type": "code",
   "execution_count": 5,
   "id": "c5ceeb19",
   "metadata": {},
   "outputs": [],
   "source": [
    "download_minutes_from_agenda(agenda_input_dir=\"../agenda\", agenda_fname=\"2024-06-24.City-Council-Meeting.html\", minutes_output_dir=\"test_minutes\")"
   ]
  },
  {
   "cell_type": "code",
   "execution_count": 12,
   "id": "fb1229f1",
   "metadata": {},
   "outputs": [],
   "source": [
    "agenda_fname = \"2024-06-24.City-Council-Meeting.html\"\n",
    "agenda_input_dir = \"../agenda\"\n",
    "minutes_output_dir = \"test_minutes\"\n",
    "\n",
    "meeting_type_str = agenda_fname.split(\".\")[1]\n",
    "f = open(f\"{agenda_input_dir}/{agenda_fname}\", \"r\")\n",
    "agenda_text = f.read()\n",
    "f.close()\n",
    "soup = BeautifulSoup(agenda_text, \"html.parser\")\n",
    "attachment_divs = soup.find_all(\"div\", attrs={\"class\": \"AgendaItemAttachment\"})\n"
   ]
  },
  {
   "cell_type": "code",
   "execution_count": 15,
   "id": "375de36f",
   "metadata": {},
   "outputs": [
    {
     "data": {
      "text/plain": [
       "[<div class=\"AgendaItemAttachment AgendaItemAttachment43\"><span class=\"Sequence\">1.</span><a class=\"Link\" data-container=\"body\" data-html=\"true\" data-original-title=\"06-03-2024 - Special Council Minutes.pdf\" data-toggle=\"tooltip\" href=\"filestream.ashx?DocumentId=38115\" tabindex=\"0\" target=\"_blank\"><span class=\"Link\">06-03-2024 - Special Council Minutes.pdf</span></a></div>,\n",
       " <div class=\"AgendaItemAttachment AgendaItemAttachment44\"><span class=\"Sequence\">1.</span><a class=\"Link\" data-container=\"body\" data-html=\"true\" data-original-title=\"06-10-2024 - Council Minutes.pdf\" data-toggle=\"tooltip\" href=\"filestream.ashx?DocumentId=38116\" tabindex=\"0\" target=\"_blank\"><span class=\"Link\">06-10-2024 - Council Minutes.pdf</span></a></div>]"
      ]
     },
     "execution_count": 15,
     "metadata": {},
     "output_type": "execute_result"
    }
   ],
   "source": [
    "attachment_divs[:2]"
   ]
  },
  {
   "cell_type": "code",
   "execution_count": null,
   "id": "ad9af997",
   "metadata": {},
   "outputs": [],
   "source": [
    "for attachment in attachment_divs[:1]:\n",
    "    a = attachment.find(\"a\")\n",
    "    if not a:\n",
    "        continue\n",
    "    href = a.attrs[\"href\"]\n",
    "    url = f\"https://pub-peterborough.escribemeetings.com/{href}\"\n",
    "\n",
    "    if \"minutes\" in a.text.lower():\n",
    "        try:\n",
    "            possible_date = a.text.split(\" - \")[1].split(\" \")[-1]\n",
    "            date = datetime.strptime(possible_date, \"%m-%d-%Y\")\n",
    "        except:\n",
    "            try:\n",
    "                # filename like \"06-03-2024 - Special Council Minutes.pdf\"\n",
    "                possible_date = a.text.split(\" - \")[0]\n",
    "                date = datetime.strptime(possible_date, \"%m-%d-%Y\")\n",
    "            except:\n",
    "                continue\n",
    "    else:\n",
    "        possible_date = a.text[:10]\n",
    "        if possible_date.count(\"-\") != 2:\n",
    "            continue\n",
    "\n",
    "        if \" \" in possible_date:\n",
    "            possible_short_date = possible_date.split(\" \")[0]\n",
    "            try:\n",
    "                date = datetime.strptime(possible_short_date, \"%m-%d-%y\")\n",
    "            except:\n",
    "                continue\n",
    "        else:\n",
    "            try:\n",
    "                date = datetime.strptime(possible_date, \"%m-%d-%Y\")\n",
    "            except ValueError:\n",
    "                try:\n",
    "                    date = datetime.strptime(possible_date, \"%Y-%m-%d\")\n",
    "                except:\n",
    "                    continue\n",
    "\n",
    "    date_str = datetime.strftime(date, \"%Y-%m-%d\")\n",
    "        \n",
    "    new_fname = f\"{date_str}.{meeting_type_str}.pdf\"\n",
    "    new_fpath = f\"{minutes_output_dir}/{new_fname}\"\n",
    "\n",
    "    # do not overwrite\n",
    "    if os.path.isfile(new_fpath):\n",
    "        continue\n",
    "\n",
    "    # download\n",
    "    resp = requests.get(url)\n",
    "\n",
    "    with open(new_fpath, \"wb\") as f:\n",
    "        f.write(resp.content)\n",
    "    print(f\"download and save {new_fpath}\")"
   ]
  },
  {
   "cell_type": "code",
   "execution_count": 21,
   "id": "5bd13c30",
   "metadata": {},
   "outputs": [
    {
     "data": {
      "text/plain": [
       "'06-03-2024 - Special Council Minutes.pdf'"
      ]
     },
     "execution_count": 21,
     "metadata": {},
     "output_type": "execute_result"
    }
   ],
   "source": [
    "a.text"
   ]
  },
  {
   "cell_type": "code",
   "execution_count": 22,
   "id": "9bc663be",
   "metadata": {},
   "outputs": [
    {
     "data": {
      "text/plain": [
       "'Minutes.pdf'"
      ]
     },
     "execution_count": 22,
     "metadata": {},
     "output_type": "execute_result"
    }
   ],
   "source": [
    "possible_date"
   ]
  },
  {
   "cell_type": "code",
   "execution_count": 20,
   "id": "3728255a",
   "metadata": {},
   "outputs": [
    {
     "data": {
      "text/plain": [
       "'filestream.ashx?DocumentId=38115'"
      ]
     },
     "execution_count": 20,
     "metadata": {},
     "output_type": "execute_result"
    }
   ],
   "source": [
    "a.attrs[\"href\"]\n"
   ]
  },
  {
   "cell_type": "code",
   "execution_count": 25,
   "id": "b0e2fd11",
   "metadata": {},
   "outputs": [],
   "source": [
    "possible_date = a.text.split(\" - \")[0]\n",
    "date = datetime.strptime(possible_date, \"%m-%d-%Y\")"
   ]
  },
  {
   "cell_type": "code",
   "execution_count": 26,
   "id": "c90951d6",
   "metadata": {},
   "outputs": [
    {
     "data": {
      "text/plain": [
       "datetime.datetime(2024, 6, 3, 0, 0)"
      ]
     },
     "execution_count": 26,
     "metadata": {},
     "output_type": "execute_result"
    }
   ],
   "source": [
    "date"
   ]
  },
  {
   "cell_type": "code",
   "execution_count": null,
   "id": "8471829d",
   "metadata": {},
   "outputs": [],
   "source": []
  }
 ],
 "metadata": {
  "kernelspec": {
   "display_name": "Python 3",
   "language": "python",
   "name": "python3"
  },
  "language_info": {
   "codemirror_mode": {
    "name": "ipython",
    "version": 3
   },
   "file_extension": ".py",
   "mimetype": "text/x-python",
   "name": "python",
   "nbconvert_exporter": "python",
   "pygments_lexer": "ipython3",
   "version": "3.9.21"
  }
 },
 "nbformat": 4,
 "nbformat_minor": 5
}
