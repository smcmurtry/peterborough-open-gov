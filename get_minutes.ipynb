{
 "cells": [
  {
   "cell_type": "code",
   "execution_count": 39,
   "id": "bbf1ff7a-b7a2-4bc0-97fb-ed2dacedc30d",
   "metadata": {},
   "outputs": [],
   "source": [
    "import os\n",
    "from bs4 import BeautifulSoup\n",
    "from datetime import datetime\n",
    "import shutil\n",
    "import requests\n",
    "import time"
   ]
  },
  {
   "cell_type": "code",
   "execution_count": 27,
   "id": "4140eb40-8ef0-4647-9b94-dd857463fb61",
   "metadata": {},
   "outputs": [],
   "source": [
    "agenda_path = \"scraping/agenda\"\n",
    "agenda_fnames = os.listdir(agenda_path)\n",
    "minutes_path = \"scraping/minutes\"\n",
    "minutes_fnames = os.listdir(agenda_path)\n",
    "\n",
    "minutes_path_new = \"scraping/minutes_new\"\n"
   ]
  },
  {
   "cell_type": "code",
   "execution_count": 4,
   "id": "9ec470a9-a0ae-4d2a-b232-01351d3e3791",
   "metadata": {},
   "outputs": [],
   "source": [
    "f = open(f\"{agenda_path}/{agenda_fnames[-20]}\", \"r\")"
   ]
  },
  {
   "cell_type": "code",
   "execution_count": 5,
   "id": "c18a37a6-52d9-4c87-9dc7-67660640132c",
   "metadata": {},
   "outputs": [],
   "source": []
  },
  {
   "cell_type": "code",
   "execution_count": 28,
   "id": "1aea814f-b239-4d95-90d9-3a5c00bcbcd4",
   "metadata": {},
   "outputs": [],
   "source": [
    "def get_fname_2(date_str, meeting_type):\n",
    "    \"\"\"\n",
    "    date_str like: \"2022-10-03\",\n",
    "    meeting_type like: \"Accessibility Advisory Committee Meeting\"\n",
    "    \"\"\"\n",
    "    meeting_type = meeting_type.replace(\" \", \"-\")\n",
    "    meeting_type = meeting_type.replace(\",\",\"\")\n",
    "    return f\"{date_str}.{meeting_type}\""
   ]
  },
  {
   "cell_type": "code",
   "execution_count": 43,
   "id": "c96dd928-b262-4c24-8dd0-866ba530b9a5",
   "metadata": {},
   "outputs": [
    {
     "data": {
      "text/plain": [
       "1403"
      ]
     },
     "execution_count": 43,
     "metadata": {},
     "output_type": "execute_result"
    }
   ],
   "source": [
    "1288+115"
   ]
  },
  {
   "cell_type": "code",
   "execution_count": 46,
   "id": "7b55ef3d-1cc5-4da5-890c-c2469127bc99",
   "metadata": {},
   "outputs": [],
   "source": [
    "abc = \"01-11-21 G\""
   ]
  },
  {
   "cell_type": "code",
   "execution_count": 48,
   "id": "a23c3022-04c6-4886-b5f5-9c496d215fe3",
   "metadata": {},
   "outputs": [
    {
     "data": {
      "text/plain": [
       "['01-11-21', 'G']"
      ]
     },
     "execution_count": 48,
     "metadata": {},
     "output_type": "execute_result"
    }
   ],
   "source": [
    "abc.split(\" \")"
   ]
  },
  {
   "cell_type": "code",
   "execution_count": null,
   "id": "c9a9c6d2-70f4-417b-a2ad-f7a9f1f759f5",
   "metadata": {},
   "outputs": [],
   "source": [
    "if \" \" in abc:\n",
    "    possible_short_date = abc.split(\" \")[0]\n",
    "    try:\n",
    "        date = datetime.strptime(possible_date, \"%m-%d-%y\")\n",
    "    except:\n",
    "        continue"
   ]
  },
  {
   "cell_type": "code",
   "execution_count": 51,
   "id": "5536c5fb-05e9-4504-9cf1-76b53bcfa3e7",
   "metadata": {},
   "outputs": [
    {
     "data": {
      "text/plain": [
       "'2016-02-01.City-Council-Meeting.html'"
      ]
     },
     "execution_count": 51,
     "metadata": {},
     "output_type": "execute_result"
    }
   ],
   "source": [
    "agenda_fnames[800]"
   ]
  },
  {
   "cell_type": "code",
   "execution_count": 55,
   "id": "36107df7-be7a-4d32-b3be-bc66528ad1e3",
   "metadata": {},
   "outputs": [],
   "source": [
    "text = \"April 7 2015 - Draft Minutes 04-07-2015 - April 7 2015 ccm.pdf\".lower()"
   ]
  },
  {
   "cell_type": "code",
   "execution_count": 56,
   "id": "3feba3c0-69d9-4079-b763-1a81f842c146",
   "metadata": {},
   "outputs": [
    {
     "data": {
      "text/plain": [
       "'april 7 2015 - draft minutes 04-07-2015 - april 7 2015 ccm.pdf'"
      ]
     },
     "execution_count": 56,
     "metadata": {},
     "output_type": "execute_result"
    }
   ],
   "source": [
    "text"
   ]
  },
  {
   "cell_type": "code",
   "execution_count": 61,
   "id": "7ca4ab4d-db06-4004-89c9-44959b8eb32c",
   "metadata": {},
   "outputs": [],
   "source": [
    "possible_date = text.split(\" - \")[1].split(\" \")[-1]"
   ]
  },
  {
   "cell_type": "code",
   "execution_count": 63,
   "id": "02d420ef-b7bf-4085-8b59-dfad85137c46",
   "metadata": {},
   "outputs": [
    {
     "data": {
      "text/plain": [
       "datetime.datetime(2015, 4, 7, 0, 0)"
      ]
     },
     "execution_count": 63,
     "metadata": {},
     "output_type": "execute_result"
    }
   ],
   "source": [
    "date = datetime.strptime(possible_date, \"%m-%d-%Y\")"
   ]
  },
  {
   "cell_type": "code",
   "execution_count": 65,
   "id": "22c817f6-8a9b-41cd-a234-d828c1da1df5",
   "metadata": {},
   "outputs": [],
   "source": [
    "def try_again(a):\n",
    "    text = a.text.lower()\n",
    "    if \"minutes\" not in text:\n",
    "        return\n",
    "    possible_date = text.split(\" - \")[1].split(\" \")[-1]\n",
    "    date = datetime.strptime(possible_date, \"%m-%d-%Y\")\n",
    "    return date\n"
   ]
  },
  {
   "cell_type": "code",
   "execution_count": 67,
   "id": "cc05de76-7382-4de6-ac6d-c740ad42b49f",
   "metadata": {},
   "outputs": [
    {
     "data": {
      "text/plain": [
       "'2015-04-27.City-Council-Meeting.html'"
      ]
     },
     "execution_count": 67,
     "metadata": {},
     "output_type": "execute_result"
    }
   ],
   "source": [
    "agenda_fname"
   ]
  },
  {
   "cell_type": "code",
   "execution_count": 71,
   "id": "e28cda43-0dbd-491f-be86-a018999f2962",
   "metadata": {},
   "outputs": [],
   "source": []
  },
  {
   "cell_type": "code",
   "execution_count": 76,
   "id": "ddfd4024-4075-4413-8e0e-757236260add",
   "metadata": {},
   "outputs": [],
   "source": [
    "agenda_fname = agenda_fnames[703]\n",
    "meeting_type_str = agenda_fname.split(\".\")[1]\n",
    "f = open(f\"{agenda_path}/{agenda_fname}\", \"r\")\n",
    "agenda_text = f.read()\n",
    "f.close()\n",
    "soup = BeautifulSoup(agenda_text, \"html.parser\")\n",
    "attachment_divs = soup.find_all(\"div\", attrs={\"class\": \"AgendaItemAttachment\"})"
   ]
  },
  {
   "cell_type": "code",
   "execution_count": 77,
   "id": "7ab2ea2a-763e-43e9-80b9-49636264c9d0",
   "metadata": {},
   "outputs": [
    {
     "data": {
      "text/plain": [
       "[<div class=\"panel-body AgendaItemAttachment AgendaItemAttachmentNotSelected\">No Item Selected</div>,\n",
       " <div class=\"AgendaItemAttachment AgendaItemAttachmentNone\">This item has no attachments</div>,\n",
       " <div class=\"AgendaItemAttachment AgendaItemAttachment24049\"><span class=\"Sequence\">1.</span><a class=\"Link\" data-container=\"body\" data-html=\"true\" data-original-title=\"April 1 2015 - Draft Minutes 04-01-2015 - April 1 2015 AAC.pdf\" data-toggle=\"tooltip\" href=\"filestream.ashx?DocumentId=6633\" target=\"_blank\"><span class=\"Link\">April 1 2015 - Draft Minutes 04-01-2015 - April 1 2015 AAC.pdf</span></a></div>,\n",
       " <div class=\"AgendaItemAttachment AgendaItemAttachment24050\"><span class=\"Sequence\">1.</span><a class=\"Link\" data-container=\"body\" data-html=\"true\" data-original-title=\"Accessibility Coordinator  Report AAC15-017  Prese - AAC15-017 Presentation about Live Streaming Options for the Council Chambers.pdf\" data-toggle=\"tooltip\" href=\"filestream.ashx?DocumentId=6634\" target=\"_blank\"><span class=\"Link\">Accessibility Coordinator  Report AAC15-017  Prese - AAC15-017 Presentation about Live Streaming Options for the Council Chambers.pdf</span></a></div>,\n",
       " <div class=\"AgendaItemAttachment AgendaItemAttachment24051\"><span class=\"Sequence\">1.</span><a class=\"Link\" data-container=\"body\" data-html=\"true\" data-original-title=\"Accessibility Coordinator  Report AAC15-018  Possi - AAC15-018 Report about Focus Group Session with Age Friendly Peterborough.pdf\" data-toggle=\"tooltip\" href=\"filestream.ashx?DocumentId=6635\" target=\"_blank\"><span class=\"Link\">Accessibility Coordinator  Report AAC15-018  Possi - AAC15-018 Report about Focus Group Session with Age Friendly Peterborough.pdf</span></a></div>,\n",
       " <div class=\"AgendaItemAttachment AgendaItemAttachment24051\"><span class=\"Sequence\">2.</span><a class=\"Link\" data-container=\"body\" data-html=\"true\" data-original-title=\"Accessibility Coordinator  Report AAC15-018  Possi - AAC15-018 Focus Group invitation.pdf\" data-toggle=\"tooltip\" href=\"filestream.ashx?DocumentId=6636\" target=\"_blank\"><span class=\"Link\">Accessibility Coordinator  Report AAC15-018  Possi - AAC15-018 Focus Group invitation.pdf</span></a></div>,\n",
       " <div class=\"AgendaItemAttachment AgendaItemAttachment24052\"><span class=\"Sequence\">1.</span><a class=\"Link\" data-container=\"body\" data-html=\"true\" data-original-title=\"Accessibility Coordinator  Report AAC15-019  Trans - AAC15-019 Report from Transportation Sub-Committee.pdf\" data-toggle=\"tooltip\" href=\"filestream.ashx?DocumentId=6637\" target=\"_blank\"><span class=\"Link\">Accessibility Coordinator  Report AAC15-019  Trans - AAC15-019 Report from Transportation Sub-Committee.pdf</span></a></div>,\n",
       " <div class=\"AgendaItemAttachment AgendaItemAttachment24053\"><span class=\"Sequence\">1.</span><a class=\"Link\" data-container=\"body\" data-html=\"true\" data-original-title=\"Accessibility Coordinator  Report AAC15-020  Built - AAC15-020 Report from Built Environment Sub-Committee.pdf\" data-toggle=\"tooltip\" href=\"filestream.ashx?DocumentId=6638\" target=\"_blank\"><span class=\"Link\">Accessibility Coordinator  Report AAC15-020  Built - AAC15-020 Report from Built Environment Sub-Committee.pdf</span></a></div>,\n",
       " <div class=\"AgendaItemAttachment AgendaItemAttachment24053\"><span class=\"Sequence\">2.</span><a class=\"Link\" data-container=\"body\" data-html=\"true\" data-original-title=\"Accessibility Coordinator  Report AAC15-020  Built - AAC15-020 Appendix A - BEC Minutes draft Special Meeting.pdf\" data-toggle=\"tooltip\" href=\"filestream.ashx?DocumentId=6639\" target=\"_blank\"><span class=\"Link\">Accessibility Coordinator  Report AAC15-020  Built - AAC15-020 Appendix A - BEC Minutes draft Special Meeting.pdf</span></a></div>,\n",
       " <div class=\"AgendaItemAttachment AgendaItemAttachment24054\"><span class=\"Sequence\">1.</span><a class=\"Link\" data-container=\"body\" data-html=\"true\" data-original-title=\"Accessibility Compliance Coordinator  Accessibilit - AAC15-021 Accessibility Office Report.pdf\" data-toggle=\"tooltip\" href=\"filestream.ashx?DocumentId=6643\" target=\"_blank\"><span class=\"Link\">Accessibility Compliance Coordinator  Accessibilit - AAC15-021 Accessibility Office Report.pdf</span></a></div>,\n",
       " <div class=\"AgendaItemAttachment AgendaItemAttachment24054\"><span class=\"Sequence\">2.</span><a class=\"Link\" data-container=\"body\" data-html=\"true\" data-original-title=\"Accessibility Compliance Coordinator  Accessibilit - AAC15-021 Appendix A CPD Conference.pdf\" data-toggle=\"tooltip\" href=\"filestream.ashx?DocumentId=6644\" target=\"_blank\"><span class=\"Link\">Accessibility Compliance Coordinator  Accessibilit - AAC15-021 Appendix A CPD Conference.pdf</span></a></div>,\n",
       " <div class=\"AgendaItemAttachment AgendaItemAttachment24054\"><span class=\"Sequence\">3.</span><a class=\"Link\" data-container=\"body\" data-html=\"true\" data-original-title=\"Accessibility Compliance Coordinator  Accessibilit - AAC15-021 Appendix B CPD Sports Expo.pdf\" data-toggle=\"tooltip\" href=\"filestream.ashx?DocumentId=6645\" target=\"_blank\"><span class=\"Link\">Accessibility Compliance Coordinator  Accessibilit - AAC15-021 Appendix B CPD Sports Expo.pdf</span></a></div>,\n",
       " <div class=\"AgendaItemAttachment AgendaItemAttachment24055\"><span class=\"Sequence\">1.</span><a class=\"Link\" data-container=\"body\" data-html=\"true\" data-original-title=\"Accessibility Coordinator  Report AAC15-022  Timin - AAC15-022 Report about Timing of Sub-Committee Meetings.pdf\" data-toggle=\"tooltip\" href=\"filestream.ashx?DocumentId=6646\" target=\"_blank\"><span class=\"Link\">Accessibility Coordinator  Report AAC15-022  Timin - AAC15-022 Report about Timing of Sub-Committee Meetings.pdf</span></a></div>,\n",
       " <div class=\"AgendaItemAttachment AgendaItemAttachment24056\"><span class=\"Sequence\">1.</span><a class=\"Link\" data-container=\"body\" data-html=\"true\" data-original-title=\"Accessibility Compliance Coordinator  Report AAC15 - AAC15-023 - Report on Operation of Accessible Pedestrian Signals.pdf\" data-toggle=\"tooltip\" href=\"filestream.ashx?DocumentId=6640\" target=\"_blank\"><span class=\"Link\">Accessibility Compliance Coordinator  Report AAC15 - AAC15-023 - Report on Operation of Accessible Pedestrian Signals.pdf</span></a></div>,\n",
       " <div class=\"AgendaItemAttachment AgendaItemAttachment24056\"><span class=\"Sequence\">2.</span><a class=\"Link\" data-container=\"body\" data-html=\"true\" data-original-title=\"Accessibility Compliance Coordinator  Report AAC15 - AAC15-023 Appendix A - Memo re APS information.pdf\" data-toggle=\"tooltip\" href=\"filestream.ashx?DocumentId=6641\" target=\"_blank\"><span class=\"Link\">Accessibility Compliance Coordinator  Report AAC15 - AAC15-023 Appendix A - Memo re APS information.pdf</span></a></div>,\n",
       " <div class=\"AgendaItemAttachment AgendaItemAttachment24056\"><span class=\"Sequence\">3.</span><a class=\"Link\" data-container=\"body\" data-html=\"true\" data-original-title=\"Accessibility Compliance Coordinator  Report AAC15 - AAC15-023 Appendix B - APS Inventory.pdf\" data-toggle=\"tooltip\" href=\"filestream.ashx?DocumentId=6642\" target=\"_blank\"><span class=\"Link\">Accessibility Compliance Coordinator  Report AAC15 - AAC15-023 Appendix B - APS Inventory.pdf</span></a></div>]"
      ]
     },
     "execution_count": 77,
     "metadata": {},
     "output_type": "execute_result"
    }
   ],
   "source": [
    "attachment_divs"
   ]
  },
  {
   "cell_type": "code",
   "execution_count": 90,
   "id": "730730b2-ddc8-4ba0-95b0-018724bd2f81",
   "metadata": {
    "tags": []
   },
   "outputs": [
    {
     "name": "stdout",
     "output_type": "stream",
     "text": [
      "0, 1, 2, 3, 4, 5, 6, 7, download and save scraping/minutes_new/2019-09-05.Peterborough-Architectural-Conservation-Advisory-Committee.pdf\n",
      "8, download and save scraping/minutes_new/2019-10-15.Finance-Committee-Meeting.pdf\n",
      "9, 10, download and save scraping/minutes_new/2019-10-10.Arts-Culture-and-Heritage-Advisory-Committee-Meeting.pdf\n",
      "11, download and save scraping/minutes_new/2019-10-10.Museum-and-Archives-Advisory-Committee-Meeting.pdf\n",
      "12, download and save scraping/minutes_new/2019-10-16.Peterborough-Environmental-Advisory-Committee.pdf\n",
      "13, download and save scraping/minutes_new/2019-10-28.City-Council-Meeting.pdf\n",
      "download and save scraping/minutes_new/2019-11-04.City-Council-Meeting.pdf\n",
      "14, download and save scraping/minutes_new/2019-10-22.Arenas-Parks-and-Recreation-Advisory-Committee-Meeting.pdf\n",
      "15, download and save scraping/minutes_new/2019-10-24.Joint-Services-Steering-Committee-Meeting.pdf\n",
      "16, download and save scraping/minutes_new/2019-11-04.General-Committee.pdf\n",
      "download and save scraping/minutes_new/2019-11-12.General-Committee.pdf\n",
      "17, 18, download and save scraping/minutes_new/2019-11-25.City-Council-Meeting.pdf\n",
      "19, download and save scraping/minutes_new/2019-11-12.Finance-Committee-Meeting.pdf\n",
      "20, 21, download and save scraping/minutes_new/2019-11-05.Peterborough-Public-Library-Board.pdf\n",
      "22, download and save scraping/minutes_new/2019-11-07.Peterborough-Architectural-Conservation-Advisory-Committee.pdf\n",
      "23, download and save scraping/minutes_new/2019-12-10.Peterborough-Public-Library-Board.pdf\n",
      "24, download and save scraping/minutes_new/2019-11-06.Accessibility-Advisory-Committee-Meeting.pdf\n",
      "25, download and save scraping/minutes_new/2019-11-14.Arts-Culture-and-Heritage-Advisory-Committee-Meeting.pdf\n",
      "26, download and save scraping/minutes_new/2019-12-09.Finance-Committee-Meeting.pdf\n",
      "27, 28, 29, 30, download and save scraping/minutes_new/2019-12-02.General-Committee.pdf\n",
      "31, download and save scraping/minutes_new/2019-11-26.Arenas-Parks-and-Recreation-Advisory-Committee-Meeting.pdf\n",
      "32, download and save scraping/minutes_new/2019-11-20.Peterborough-Environmental-Advisory-Committee.pdf\n",
      "33, download and save scraping/minutes_new/2019-12-09.City-Council-Meeting.pdf\n",
      "34, 35, 36, 37, download and save scraping/minutes_new/2020-01-08.Accessibility-Advisory-Committee-Meeting.pdf\n",
      "38, download and save scraping/minutes_new/2020-01-07.Peterborough-Architectural-Conservation-Advisory-Committee.pdf\n",
      "39, 40, 41, 42, download and save scraping/minutes_new/2019-11-14.Museum-and-Archives-Advisory-Committee-Meeting.pdf\n",
      "43, download and save scraping/minutes_new/2019-11-28.Peterborough-Regional-Liaison-Committee-Meeting.pdf\n",
      "44, 45, 46, download and save scraping/minutes_new/2020-01-21.Arenas-Parks-and-Recreation-Advisory-Committee-Meeting.pdf\n",
      "47, 48, download and save scraping/minutes_new/2020-01-27.General-Committee.pdf\n",
      "download and save scraping/minutes_new/2020-02-03.General-Committee.pdf\n",
      "49, download and save scraping/minutes_new/2020-02-05.Accessibility-Advisory-Committee-Meeting.pdf\n",
      "50, download and save scraping/minutes_new/2020-02-05.Peterborough-Architectural-Conservation-Advisory-Committee.pdf\n",
      "51, 52, 53, 54, 55, 56, 57, 58, 59, 60, 61, 62, 63, 64, 65, 66, 67, 68, 69, download and save scraping/minutes_new/2020-03-20.City-Council-Meeting.pdf\n",
      "70, 71, download and save scraping/minutes_new/2020-04-27.General-Committee.pdf\n",
      "72, download and save scraping/minutes_new/2020-04-27.City-Council-Meeting.pdf\n",
      "73, 74, 75, download and save scraping/minutes_new/2020-01-13.Finance-Committee-Meeting.pdf\n",
      "76, download and save scraping/minutes_new/2020-05-11.General-Committee.pdf\n",
      "77, 78, 79, download and save scraping/minutes_new/2020-02-13.Peterborough-Regional-Liaison-Committee-Meeting.pdf\n",
      "download and save scraping/minutes_new/2020-06-11.Peterborough-Regional-Liaison-Committee-Meeting.pdf\n",
      "80, 81, 82, 83, 84, 85, download and save scraping/minutes_new/2020-05-25.City-Council-Meeting.pdf\n",
      "download and save scraping/minutes_new/2020-06-11.City-Council-Meeting.pdf\n",
      "86, download and save scraping/minutes_new/2020-06-08.Finance-Committee-Meeting.pdf\n",
      "87, 88, download and save scraping/minutes_new/2020-06-11.General-Committee.pdf\n",
      "89, 90, download and save scraping/minutes_new/2020-06-24.Finance-Committee-Meeting.pdf\n",
      "91, 92, 93, 94, 95, 96, 97, 98, 99, 100, download and save scraping/minutes_new/2020-09-10.Peterborough-Regional-Liaison-Committee-Meeting.pdf\n",
      "download and save scraping/minutes_new/2020-09-30.Peterborough-Regional-Liaison-Committee-Meeting.pdf\n",
      "101, 102, 103, 104, download and save scraping/minutes_new/2020-03-05.Peterborough-Architectural-Conservation-Advisory-Committee.pdf\n",
      "download and save scraping/minutes_new/2020-07-07.Peterborough-Architectural-Conservation-Advisory-Committee.pdf\n",
      "105, download and save scraping/minutes_new/2020-07-27.General-Committee.pdf\n",
      "106, download and save scraping/minutes_new/2020-07-27.City-Council-Meeting.pdf\n",
      "107, 108, download and save scraping/minutes_new/2020-09-21.General-Committee.pdf\n",
      "109, 110, download and save scraping/minutes_new/2020-09-01.Peterborough-Public-Library-Board.pdf\n",
      "111, 112, download and save scraping/minutes_new/2020-09-10.Arts-Culture-and-Heritage-Advisory-Committee-Meeting.pdf\n",
      "113, download and save scraping/minutes_new/2020-07-13.Finance-Committee-Meeting.pdf\n",
      "114, 115, download and save scraping/minutes_new/2020-02-13.Museum-and-Archives-Advisory-Committee-Meeting.pdf\n",
      "116, 117, download and save scraping/minutes_new/2020-10-05.General-Committee.pdf\n",
      "118, 119, 120, download and save scraping/minutes_new/2020-09-28.City-Council-Meeting.pdf\n",
      "121, download and save scraping/minutes_new/2020-10-13.Finance-Committee-Meeting.pdf\n",
      "122, download and save scraping/minutes_new/2020-10-19.General-Committee.pdf\n",
      "123, 124, 125, 126, 127, 128, 129, download and save scraping/minutes_new/2020-10-06.Peterborough-Public-Library-Board.pdf\n",
      "130, download and save scraping/minutes_new/2020-10-08.Arts-Culture-and-Heritage-Advisory-Committee-Meeting.pdf\n",
      "131, 132, 133, 134, download and save scraping/minutes_new/2020-10-21.Peterborough-Environmental-Advisory-Committee.pdf\n",
      "135, 136, 137, download and save scraping/minutes_new/2020-10-26.City-Council-Meeting.pdf\n",
      "138, 139, download and save scraping/minutes_new/2020-11-02.General-Committee.pdf\n",
      "download and save scraping/minutes_new/2020-11-09.General-Committee.pdf\n",
      "140, 141, download and save scraping/minutes_new/2020-11-10.Peterborough-Public-Library-Board.pdf\n",
      "142, download and save scraping/minutes_new/2020-11-05.Peterborough-Architectural-Conservation-Advisory-Committee.pdf\n",
      "143, download and save scraping/minutes_new/2020-11-30.City-Council-Meeting.pdf\n",
      "144, 145, download and save scraping/minutes_new/2020-11-30.General-Committee.pdf\n",
      "download and save scraping/minutes_new/2020-12-01.General-Committee.pdf\n",
      "download and save scraping/minutes_new/2020-12-14.General-Committee.pdf\n",
      "146, download and save scraping/minutes_new/2020-02-25.Arenas-Parks-and-Recreation-Advisory-Committee-Meeting.pdf\n",
      "147, 148, download and save scraping/minutes_new/2020-11-19.Peterborough-Environmental-Advisory-Committee.pdf\n",
      "149, 150, 151, 152, download and save scraping/minutes_new/2020-03-04.Accessibility-Advisory-Committee-Meeting.pdf\n",
      "153, download and save scraping/minutes_new/2020-12-10.Peterborough-Architectural-Conservation-Advisory-Committee.pdf\n",
      "154, 155, 156, download and save scraping/minutes_new/2020-11-12.Arts-Culture-and-Heritage-Advisory-Committee-Meeting.pdf\n",
      "157, download and save scraping/minutes_new/2020-10-15.Peterborough-Regional-Liaison-Committee-Meeting.pdf\n",
      "download and save scraping/minutes_new/2021-02-11.Peterborough-Regional-Liaison-Committee-Meeting.pdf\n",
      "158, download and save scraping/minutes_new/2021-01-14.Arenas-Parks-and-Recreation-Advisory-Committee-Meeting.pdf\n",
      "159, 160, 161, 162, 163, 164, 165, download and save scraping/minutes_new/2021-02-03.Accessibility-Advisory-Committee-Meeting.pdf\n",
      "166, download and save scraping/minutes_new/2021-02-04.Peterborough-Architectural-Conservation-Advisory-Committee.pdf\n",
      "167, 168, 169, 170, 171, 172, 173, download and save scraping/minutes_new/2021-02-11.Special-Peterborough-Regional-Liaison-Committee.pdf\n",
      "174, 175, 176, 177, download and save scraping/minutes_new/2021-03-08.General-Committee.pdf\n",
      "178, 179, 180, 181, download and save scraping/minutes_new/2020-10-15.Museum-and-Archives-Advisory-Committee-Meeting.pdf\n",
      "182, 183, download and save scraping/minutes_new/2021-02-16.Arenas-Parks-and-Recreation-Advisory-Committee-Meeting.pdf\n",
      "184, 185, 186, download and save scraping/minutes_new/2021-04-06.City-Council-Meeting.pdf\n",
      "187, 188, 189, download and save scraping/minutes_new/2021-04-07.Accessibility-Advisory-Committee-Meeting.pdf\n",
      "190, download and save scraping/minutes_new/2021-04-04.Peterborough-Architectural-Conservation-Advisory-Committee.pdf\n",
      "191, 192, 193, 194, download and save scraping/minutes_new/2021-04-21.Peterborough-Environmental-Advisory-Committee.pdf\n",
      "195, 196, 197, 198, download and save scraping/minutes_new/2021-05-05.Accessibility-Advisory-Committee-Meeting.pdf\n",
      "199, download and save scraping/minutes_new/2021-05-06.Peterborough-Architectural-Conservation-Advisory-Committee.pdf\n",
      "200, download and save scraping/minutes_new/2020-11-02.Finance-Committee-Meeting.pdf\n",
      "download and save scraping/minutes_new/2020-11-16.Finance-Committee-Meeting.pdf\n",
      "download and save scraping/minutes_new/2020-11-17.Finance-Committee-Meeting.pdf\n",
      "download and save scraping/minutes_new/2020-11-23.Finance-Committee-Meeting.pdf\n",
      "201, 202, 203, 204, download and save scraping/minutes_new/2021-04-08.Museum-and-Archives-Advisory-Committee-Meeting.pdf\n",
      "205, download and save scraping/minutes_new/2021-03-25.Peterborough-Regional-Liaison-Committee-Meeting.pdf\n",
      "download and save scraping/minutes_new/2021-06-10.Peterborough-Regional-Liaison-Committee-Meeting.pdf\n",
      "206, 207, download and save scraping/minutes_new/2021-04-13.Arenas-Parks-and-Recreation-Advisory-Committee-Meeting.pdf\n",
      "208, 209, 210, 211, 212, 213, 214, 215, 216, 217, 218, 219, 220, 221, download and save scraping/minutes_new/2021-07-19.General-Committee.pdf\n",
      "222, download and save scraping/minutes_new/2021-06-02.Accessibility-Advisory-Committee-Meeting.pdf\n",
      "223, 224, download and save scraping/minutes_new/2021-06-03.Peterborough-Architectural-Conservation-Advisory-Committee.pdf\n",
      "225, download and save scraping/minutes_new/2021-09-09.Peterborough-Regional-Liaison-Committee-Meeting.pdf\n",
      "download and save scraping/minutes_new/2021-09-22.Peterborough-Regional-Liaison-Committee-Meeting.pdf\n",
      "226, 227, 228, download and save scraping/minutes_new/2021-06-15.Arenas-Parks-and-Recreation-Advisory-Committee-Meeting.pdf\n",
      "download and save scraping/minutes_new/2021-09-14.Arenas-Parks-and-Recreation-Advisory-Committee-Meeting.pdf\n",
      "229, 230, 231, download and save scraping/minutes_new/2021-06-10.Arts-Culture-and-Heritage-Advisory-Committee-Meeting.pdf\n",
      "232, 233, 234, 235, 236, 237, 238, 239, download and save scraping/minutes_new/2021-09-08.Accessibility-Advisory-Committee-Meeting.pdf\n",
      "240, 241, 242, 243, download and save scraping/minutes_new/2021-06-10.Museum-and-Archives-Advisory-Committee-Meeting.pdf\n",
      "244, 245, 246, 247, 248, 249, 250, 251, 252, download and save scraping/minutes_new/2021-10-18.General-Committee.pdf\n",
      "253, download and save scraping/minutes_new/2021-10-06.Accessibility-Advisory-Committee-Meeting.pdf\n",
      "254, 255, 256, 257, download and save scraping/minutes_new/2021-10-19.Arenas-Parks-and-Recreation-Advisory-Committee-Meeting.pdf\n",
      "258, 259, 260, 261, 262, download and save scraping/minutes_new/2021-10-14.Arts-Culture-and-Heritage-Advisory-Committee-Meeting.pdf\n",
      "263, download and save scraping/minutes_new/2021-10-14.Museum-and-Archives-Advisory-Committee-Meeting.pdf\n",
      "264, 265, 266, 267, 268, 269, 270, 271, 272, 273, 274, download and save scraping/minutes_new/2021-11-03.Accessibility-Advisory-Committee-Meeting.pdf\n",
      "275, 276, 277, 278, 279, 280, download and save scraping/minutes_new/2021-10-22.Airport-Strategic-Initiatives-Committee.pdf\n",
      "281, 282, 283, 284, 285, 286, download and save scraping/minutes_new/2022-01-17.General-Committee.pdf\n",
      "287, 288, 289, 290, download and save scraping/minutes_new/2002-01-31.General-Committee.pdf\n",
      "291, 292, 293, download and save scraping/minutes_new/2022-01-31.City-Council-Meeting.pdf\n",
      "294, 295, 296, 297, download and save scraping/minutes_new/2021-11-15.Finance-Committee-Meeting.pdf\n",
      "download and save scraping/minutes_new/2021-11-16.Finance-Committee-Meeting.pdf\n",
      "298, download and save scraping/minutes_new/2022-02-07.General-Committee.pdf\n",
      "download and save scraping/minutes_new/2022-02-14.General-Committee.pdf\n",
      "299, 300, 301, 302, 303, 304, download and save scraping/minutes_new/2022-02-15.Arenas-Parks-and-Recreation-Advisory-Committee-Meeting.pdf\n",
      "305, 306, download and save scraping/minutes_new/2022-02-28.City-Council-Meeting.pdf\n",
      "download and save scraping/minutes_new/2022-03-14.City-Council-Meeting.pdf\n",
      "307, 308, download and save scraping/minutes_new/2022-03-07.General-Committee.pdf\n",
      "download and save scraping/minutes_new/2022-03-14.General-Committee.pdf\n",
      "309, download and save scraping/minutes_new/2022-03-02.Accessibility-Advisory-Committee-Meeting.pdf\n",
      "310, 311, 312, 313, 314, 315, 316, 317, 318, 319, 320, download and save scraping/minutes_new/2022-04-04.General-Committee.pdf\n",
      "download and save scraping/minutes_new/2022-04-11.General-Committee.pdf\n",
      "321, 322, 323, 324, 325, 326, download and save scraping/minutes_new/2022-03-15.Arenas-Parks-and-Recreation-Advisory-Committee-Meeting.pdf\n",
      "327, 328, 329, download and save scraping/minutes_new/2022-04-25.City-Council-Meeting.pdf\n",
      "330, download and save scraping/minutes_new/2022-05-04.Accessibility-Advisory-Committee-Meeting.pdf\n",
      "331, download and save scraping/minutes_new/2022-05-05.Peterborough-Architectural-Conservation-Advisory-Committee.pdf\n",
      "332, download and save scraping/minutes_new/2022-03-07.Finance-Committee-Meeting.pdf\n",
      "333, download and save scraping/minutes_new/2022-04-25.General-Committee.pdf\n",
      "download and save scraping/minutes_new/2022-05-02.General-Committee.pdf\n",
      "download and save scraping/minutes_new/2022-05-09.General-Committee.pdf\n",
      "334, 335, 336, download and save scraping/minutes_new/2022-04-12.Museum-and-Archives-Advisory-Committee-Meeting.pdf\n",
      "337, download and save scraping/minutes_new/2021-10-14.Peterborough-Regional-Liaison-Committee-Meeting.pdf\n",
      "download and save scraping/minutes_new/2022-03-16.Peterborough-Regional-Liaison-Committee-Meeting.pdf\n",
      "338, 339, 340, 341, 342, 343, download and save scraping/minutes_new/2022-05-17.Arenas-Parks-and-Recreation-Advisory-Committee-Meeting.pdf\n",
      "344, 345, 346, 347, 348, download and save scraping/minutes_new/2022-05-30.City-Council-Meeting.pdf\n",
      "349, 350, download and save scraping/minutes_new/2022-06-06.General-Committee.pdf\n",
      "download and save scraping/minutes_new/2022-06-13.General-Committee.pdf\n",
      "download and save scraping/minutes_new/2022-06-20.General-Committee.pdf\n",
      "351, 352, download and save scraping/minutes_new/2022-06-22.Finance-Committee-Meeting.pdf\n",
      "353, 354, 355, download and save scraping/minutes_new/2022-06-27.City-Council-Meeting.pdf\n",
      "download and save scraping/minutes_new/2022-07-04.City-Council-Meeting.pdf\n",
      "356, 357, 358, 359, download and save scraping/minutes_new/2022-07-04.General-Committee.pdf\n",
      "download and save scraping/minutes_new/2022-07-11.General-Committee.pdf\n",
      "download and save scraping/minutes_new/2022-07-18.General-Committee.pdf\n",
      "download and save scraping/minutes_new/2022-07-25.General-Committee.pdf\n",
      "360, download and save scraping/minutes_new/2022-06-01.Accessibility-Advisory-Committee-Meeting.pdf\n",
      "361, 362, download and save scraping/minutes_new/2022-06-09.Museum-and-Archives-Advisory-Committee-Meeting.pdf\n",
      "363, download and save scraping/minutes_new/2022-06-02.Peterborough-Architectural-Conservation-Advisory-Committee.pdf\n",
      "download and save scraping/minutes_new/2022-06-23.Peterborough-Architectural-Conservation-Advisory-Committee.pdf\n",
      "364, download and save scraping/minutes_new/2022-09-08.Peterborough-Regional-Liaison-Committee-Meeting.pdf\n",
      "365, 366, download and save scraping/minutes_new/2022-07-11.Finance-Committee-Meeting.pdf\n",
      "367, 368, 369, 370, download and save scraping/minutes_new/2022-08-30.Arenas-Parks-and-Recreation-Advisory-Committee-Meeting.pdf\n",
      "371, 372, download and save scraping/minutes_new/2022-07-25.City-Council-Meeting.pdf\n",
      "373, 374, 375, 376, 377, 378, "
     ]
    }
   ],
   "source": [
    "for n, agenda_fname in enumerate(agenda_fnames[1252:]):\n",
    "    print(n, end=\", \")\n",
    "    meeting_type_str = agenda_fname.split(\".\")[1]\n",
    "    f = open(f\"{agenda_path}/{agenda_fname}\", \"r\")\n",
    "    agenda_text = f.read()\n",
    "    f.close()\n",
    "    soup = BeautifulSoup(agenda_text, \"html.parser\")\n",
    "    attachment_divs = soup.find_all(\"div\", attrs={\"class\": \"AgendaItemAttachment\"})\n",
    "    for attachment in attachment_divs:\n",
    "        a = attachment.find(\"a\")\n",
    "        if not a:\n",
    "            continue\n",
    "        href = a.attrs[\"href\"]\n",
    "        url = f\"https://pub-peterborough.escribemeetings.com/{href}\"\n",
    "        file_id = url.split(\"=\")[-1]\n",
    "        old_pdf_name = f\"{file_id}.pdf\"\n",
    "\n",
    "\n",
    "        if \"minutes\" in a.text.lower():\n",
    "            possible_date = text.split(\" - \")[1].split(\" \")[-1]\n",
    "            date = datetime.strptime(possible_date, \"%m-%d-%Y\")\n",
    "        else:\n",
    "            # continue\n",
    "            possible_date = a.text[:10]\n",
    "            if possible_date.count(\"-\") != 2:\n",
    "                continue\n",
    "\n",
    "            if \" \" in possible_date:\n",
    "                possible_short_date = possible_date.split(\" \")[0]\n",
    "                try:\n",
    "                    date = datetime.strptime(possible_short_date, \"%m-%d-%y\")\n",
    "                except:\n",
    "                    continue\n",
    "            else:\n",
    "                try:\n",
    "                    date = datetime.strptime(possible_date, \"%m-%d-%Y\")\n",
    "                except ValueError:\n",
    "                    try:\n",
    "                        date = datetime.strptime(possible_date, \"%Y-%m-%d\")\n",
    "                    except:\n",
    "                        continue\n",
    "\n",
    "        date_str = datetime.strftime(date, \"%Y-%m-%d\")\n",
    "            \n",
    "        new_fname = f\"{date_str}.{meeting_type_str}.pdf\"\n",
    "        new_fpath = f\"{minutes_path_new}/{new_fname}\"\n",
    "\n",
    "        # do not overwrite\n",
    "        if os.path.isfile(new_fpath):\n",
    "            continue\n",
    "\n",
    "        if old_pdf_name in minutes_fnames:\n",
    "            print(f\"copying {old_pdf_name} to {new_fpath}\")\n",
    "            # copy\n",
    "            shutil.copy(f\"{minutes_path}/{old_pdf_name}\", new_fpath)\n",
    "        else:\n",
    "            # download\n",
    "            resp = requests.get(url)\n",
    "\n",
    "            with open(new_fpath, \"wb\") as f:\n",
    "                f.write(resp.content)\n",
    "            print(f\"download and save {new_fpath}\")\n",
    "\n",
    "            time.sleep(2)"
   ]
  },
  {
   "cell_type": "code",
   "execution_count": 84,
   "id": "9f375444-35fb-4c6d-bcba-c72c51b8fe8f",
   "metadata": {},
   "outputs": [],
   "source": [
    "a"
   ]
  },
  {
   "cell_type": "code",
   "execution_count": 82,
   "id": "73cef870-a73c-41b6-9490-675b92adf6ad",
   "metadata": {},
   "outputs": [
    {
     "data": {
      "text/plain": [
       "<div class=\"AgendaItemAttachment AgendaItemAttachment24049\"><span class=\"Sequence\">1.</span><a class=\"Link\" data-container=\"body\" data-html=\"true\" data-original-title=\"April 1 2015 - Draft Minutes 04-01-2015 - April 1 2015 AAC.pdf\" data-toggle=\"tooltip\" href=\"filestream.ashx?DocumentId=6633\" target=\"_blank\"><span class=\"Link\">April 1 2015 - Draft Minutes 04-01-2015 - April 1 2015 AAC.pdf</span></a></div>"
      ]
     },
     "execution_count": 82,
     "metadata": {},
     "output_type": "execute_result"
    }
   ],
   "source": [
    "attachment_divs[2]"
   ]
  },
  {
   "cell_type": "code",
   "execution_count": 81,
   "id": "3b080362-e2fb-41eb-8c52-238bffddc921",
   "metadata": {},
   "outputs": [
    {
     "data": {
      "text/plain": [
       "<div class=\"AgendaItemAttachment AgendaItemAttachment24056\"><span class=\"Sequence\">3.</span><a class=\"Link\" data-container=\"body\" data-html=\"true\" data-original-title=\"Accessibility Compliance Coordinator  Report AAC15 - AAC15-023 Appendix B - APS Inventory.pdf\" data-toggle=\"tooltip\" href=\"filestream.ashx?DocumentId=6642\" target=\"_blank\"><span class=\"Link\">Accessibility Compliance Coordinator  Report AAC15 - AAC15-023 Appendix B - APS Inventory.pdf</span></a></div>"
      ]
     },
     "execution_count": 81,
     "metadata": {},
     "output_type": "execute_result"
    }
   ],
   "source": [
    "attachment"
   ]
  },
  {
   "cell_type": "code",
   "execution_count": 80,
   "id": "575cce0f-cf7f-41ef-ba6f-3ff8a79b5de4",
   "metadata": {},
   "outputs": [
    {
     "data": {
      "text/plain": [
       "'04-07-2015'"
      ]
     },
     "execution_count": 80,
     "metadata": {},
     "output_type": "execute_result"
    }
   ],
   "source": [
    "possible_date"
   ]
  },
  {
   "cell_type": "code",
   "execution_count": 79,
   "id": "868f5e98-fcc0-442e-a36c-24c5acd8bbce",
   "metadata": {},
   "outputs": [
    {
     "data": {
      "text/plain": [
       "datetime.datetime(2015, 4, 7, 0, 0)"
      ]
     },
     "execution_count": 79,
     "metadata": {},
     "output_type": "execute_result"
    }
   ],
   "source": [
    "date"
   ]
  },
  {
   "cell_type": "code",
   "execution_count": 54,
   "id": "a5c82adb-4ade-4118-8cf3-661ea027c773",
   "metadata": {},
   "outputs": [
    {
     "data": {
      "text/plain": [
       "[<div class=\"panel-body AgendaItemAttachment AgendaItemAttachmentNotSelected\">No Item Selected</div>,\n",
       " <div class=\"AgendaItemAttachment AgendaItemAttachmentNone\">This item has no attachments</div>,\n",
       " <div class=\"AgendaItemAttachment AgendaItemAttachment23949\"><span class=\"Sequence\">1.</span><a class=\"Link\" data-container=\"body\" data-html=\"true\" data-original-title=\"Planning Committee Report No. 5   Planning Committ - Report 5 of Planning Committee April 13 2015.pdf\" data-toggle=\"tooltip\" href=\"filestream.ashx?DocumentId=11374\" target=\"_blank\"><span class=\"Link\">Planning Committee Report No. 5   Planning Committ - Report 5 of Planning Committee April 13 2015.pdf</span></a></div>,\n",
       " <div class=\"AgendaItemAttachment AgendaItemAttachment23950\"><span class=\"Sequence\">1.</span><a class=\"Link\" data-container=\"body\" data-html=\"true\" data-original-title=\"Committee of the Whole Report No. 7  Committee of  - Report 7 Committee of Whole Report of April 20 2015.pdf\" data-toggle=\"tooltip\" href=\"filestream.ashx?DocumentId=11375\" target=\"_blank\"><span class=\"Link\">Committee of the Whole Report No. 7  Committee of  - Report 7 Committee of Whole Report of April 20 2015.pdf</span></a></div>,\n",
       " <div class=\"AgendaItemAttachment AgendaItemAttachment23958\"><span class=\"Sequence\">1.</span><a class=\"Link\" data-container=\"body\" data-html=\"true\" data-original-title=\"April 7 2015 - Draft Minutes 04-07-2015 - April 7 2015 ccm.pdf\" data-toggle=\"tooltip\" href=\"filestream.ashx?DocumentId=11371\" target=\"_blank\"><span class=\"Link\">April 7 2015 - Draft Minutes 04-07-2015 - April 7 2015 ccm.pdf</span></a></div>,\n",
       " <div class=\"AgendaItemAttachment AgendaItemAttachment23960\"><span class=\"Sequence\">1.</span><a class=\"Link\" data-container=\"body\" data-html=\"true\" data-original-title=\"Tim Barrie Sport Kawartha will make a delegation - Kaw Sports Consortium Pres 27 April 2015.pdf\" data-toggle=\"tooltip\" href=\"filestream.ashx?DocumentId=11373\" target=\"_blank\"><span class=\"Link\">Tim Barrie Sport Kawartha will make a delegation - Kaw Sports Consortium Pres 27 April 2015.pdf</span></a></div>,\n",
       " <div class=\"AgendaItemAttachment AgendaItemAttachment24000\"><span class=\"Sequence\">1.</span><a class=\"Link\" data-container=\"body\" data-html=\"true\" data-original-title=\"Tony Tilly Fleming College will make a delegatio - April 27 Council Fleming Arena Proposal.pdf\" data-toggle=\"tooltip\" href=\"filestream.ashx?DocumentId=11372\" target=\"_blank\"><span class=\"Link\">Tony Tilly Fleming College will make a delegatio - April 27 Council Fleming Arena Proposal.pdf</span></a></div>]"
      ]
     },
     "execution_count": 54,
     "metadata": {},
     "output_type": "execute_result"
    }
   ],
   "source": [
    "attachment_divs"
   ]
  },
  {
   "cell_type": "code",
   "execution_count": 45,
   "id": "281071d9-5b3b-493f-9052-f53d3a3b6572",
   "metadata": {},
   "outputs": [
    {
     "data": {
      "text/plain": [
       "'https://pub-peterborough.escribemeetings.com/filestream.ashx?DocumentId=28523'"
      ]
     },
     "execution_count": 45,
     "metadata": {},
     "output_type": "execute_result"
    }
   ],
   "source": [
    "url"
   ]
  },
  {
   "cell_type": "code",
   "execution_count": 32,
   "id": "d6105a73-2789-4f38-bb7a-b86bbc6d611a",
   "metadata": {},
   "outputs": [
    {
     "data": {
      "text/plain": [
       "'June 30 2008 - Draft Minutes 06-30-2008 - June 30 2008 cwm.pdf'"
      ]
     },
     "execution_count": 32,
     "metadata": {},
     "output_type": "execute_result"
    }
   ],
   "source": [
    "a.text"
   ]
  },
  {
   "cell_type": "code",
   "execution_count": null,
   "id": "956e4b5a-af55-4828-a50f-3e7406c474ec",
   "metadata": {},
   "outputs": [],
   "source": [
    "for attachment in attachment_divs:\n",
    "    attachment.find(\"a\")"
   ]
  },
  {
   "cell_type": "code",
   "execution_count": 7,
   "id": "dc646bf7-a4c4-47a5-b5ab-b2ebeab8832e",
   "metadata": {},
   "outputs": [],
   "source": [
    "a = attachment_divs[0].find(\"a\")"
   ]
  },
  {
   "cell_type": "code",
   "execution_count": 10,
   "id": "e0637203-0d13-4acd-8b86-645d738769d3",
   "metadata": {},
   "outputs": [
    {
     "data": {
      "text/plain": [
       "<a class=\"Link\" data-container=\"body\" data-html=\"true\" data-original-title=\"07-04-2022 - GC.pdf\" data-toggle=\"tooltip\" href=\"filestream.ashx?DocumentId=34500\" tabindex=\"0\" target=\"_blank\"><span class=\"Link\">07-04-2022 - GC.pdf</span></a>"
      ]
     },
     "execution_count": 10,
     "metadata": {},
     "output_type": "execute_result"
    }
   ],
   "source": [
    "a"
   ]
  },
  {
   "cell_type": "code",
   "execution_count": 13,
   "id": "b2d150fd-75f0-4560-a1a1-2703a4cc6a7b",
   "metadata": {},
   "outputs": [],
   "source": [
    "href = a.attrs[\"href\"]"
   ]
  },
  {
   "cell_type": "code",
   "execution_count": 26,
   "id": "589d04d7-b50e-44cd-bc26-01ddb005aebb",
   "metadata": {},
   "outputs": [
    {
     "data": {
      "text/plain": [
       "2"
      ]
     },
     "execution_count": 26,
     "metadata": {},
     "output_type": "execute_result"
    }
   ],
   "source": [
    "possible_date = a.text[:10]\n",
    "if possible_date.count(\"-\") != 2:\n",
    "    # return"
   ]
  },
  {
   "cell_type": "code",
   "execution_count": 17,
   "id": "e4f4c04a-f660-4ccd-91ec-23ee618bab06",
   "metadata": {},
   "outputs": [],
   "source": []
  },
  {
   "cell_type": "code",
   "execution_count": 22,
   "id": "76b45bee-e5ee-411d-8bff-98bb43823bce",
   "metadata": {},
   "outputs": [],
   "source": [
    "\n",
    "date = datetime.strptime(possible_date, \"%m-%d-%Y\")\n",
    "date_str = datetime.strftime(date, \"%Y-%m-%d\")"
   ]
  },
  {
   "cell_type": "code",
   "execution_count": 24,
   "id": "770e34d7-a15e-4a98-a5f7-ff67563fcb8f",
   "metadata": {},
   "outputs": [],
   "source": []
  },
  {
   "cell_type": "code",
   "execution_count": 25,
   "id": "ca819ea8-7184-4162-b17a-d2c25c68c86b",
   "metadata": {},
   "outputs": [
    {
     "data": {
      "text/plain": [
       "'2022-07-04'"
      ]
     },
     "execution_count": 25,
     "metadata": {},
     "output_type": "execute_result"
    }
   ],
   "source": [
    "date_iso"
   ]
  },
  {
   "cell_type": "code",
   "execution_count": null,
   "id": "52bb7760-c7e3-41fb-9035-5479b7934381",
   "metadata": {},
   "outputs": [
    {
     "data": {
      "text/plain": [
       "['2008-07-28.Planning-Committee.html',\n",
       " '2008-08-04.Committee-of-the-Whole.html',\n",
       " '2008-09-02.Planning-Committee.html',\n",
       " '2009-02-09.City-Council-Meeting.html',\n",
       " '2009-02-09.Committee-of-the-Whole.html',\n",
       " '2009-02-09.Planning-Committee.html',\n",
       " '2009-02-17.Planning-Committee.html',\n",
       " '2009-02-23.Committee-of-the-Whole.html',\n",
       " '2009-03-02.City-Council-Meeting.html',\n",
       " '2009-03-02.Committee-of-the-Whole.html']"
      ]
     },
     "execution_count": 23,
     "metadata": {},
     "output_type": "execute_result"
    }
   ],
   "source": [
    "agenda_fnames[0:10]"
   ]
  },
  {
   "cell_type": "code",
   "execution_count": null,
   "id": "d9eaf413-5084-4647-b7bf-fb80035490e4",
   "metadata": {},
   "outputs": [],
   "source": []
  },
  {
   "cell_type": "code",
   "execution_count": null,
   "id": "18d76caf-03bb-4450-9e8c-cbad7b8ac72a",
   "metadata": {},
   "outputs": [],
   "source": []
  },
  {
   "cell_type": "code",
   "execution_count": null,
   "id": "f15e2780-5774-4398-92f9-02a221d32017",
   "metadata": {},
   "outputs": [],
   "source": []
  },
  {
   "cell_type": "code",
   "execution_count": 5,
   "id": "e4f99ad8-3706-4ea6-b267-fa0fd0e432c0",
   "metadata": {},
   "outputs": [],
   "source": [
    "import json"
   ]
  },
  {
   "cell_type": "code",
   "execution_count": 8,
   "id": "0a3bd641-21e6-481d-b188-d3769230f187",
   "metadata": {},
   "outputs": [],
   "source": [
    "all_data_flat = json.load(open(\"scraping/generated_data/all_data_flat.json\", \"r\"))"
   ]
  },
  {
   "cell_type": "code",
   "execution_count": 7,
   "id": "2a9d9e39-659f-41ce-a2cc-f449e7528a53",
   "metadata": {},
   "outputs": [
    {
     "data": {
      "text/plain": [
       "1640"
      ]
     },
     "execution_count": 7,
     "metadata": {},
     "output_type": "execute_result"
    }
   ],
   "source": [
    "len(abc)"
   ]
  },
  {
   "cell_type": "code",
   "execution_count": null,
   "id": "1cd00a72-4936-4fe8-8109-684ac3b66549",
   "metadata": {},
   "outputs": [],
   "source": []
  },
  {
   "cell_type": "code",
   "execution_count": null,
   "id": "17d7486b-db6a-4f88-b3a7-37871df9b334",
   "metadata": {},
   "outputs": [],
   "source": []
  },
  {
   "cell_type": "code",
   "execution_count": null,
   "id": "42d1c591-76a5-476e-9174-8993f2038c0d",
   "metadata": {},
   "outputs": [],
   "source": []
  },
  {
   "cell_type": "code",
   "execution_count": null,
   "id": "61e3d62d-49d0-45e6-8db2-eaf76d158f93",
   "metadata": {},
   "outputs": [],
   "source": []
  },
  {
   "cell_type": "code",
   "execution_count": 9,
   "id": "645006f5-b6ff-4e31-a9fc-a5ca5108ea1c",
   "metadata": {},
   "outputs": [],
   "source": [
    "import pandas as pd"
   ]
  },
  {
   "cell_type": "code",
   "execution_count": 91,
   "id": "a8dea8dd-319f-45e4-ad57-4b289c6bd662",
   "metadata": {},
   "outputs": [],
   "source": [
    "import json"
   ]
  },
  {
   "cell_type": "code",
   "execution_count": 92,
   "id": "0ccc18c8-9512-42be-af80-c2a7f2b06705",
   "metadata": {},
   "outputs": [],
   "source": [
    "with open(\"scraping/generated_data/all_meeting_data.json\", \"r\") as f:\n",
    "    data = json.load(f)"
   ]
  },
  {
   "cell_type": "code",
   "execution_count": 96,
   "id": "44c2ae13-7f36-4fa9-ac8d-80ce61676eb5",
   "metadata": {},
   "outputs": [],
   "source": [
    "def get_fname(datetime_iso, meeting_type):\n",
    "    \"\"\"\n",
    "    datetime_iso like: \"2022-10-03T16:00:00\" \",\n",
    "    meeting_type like: \"Accessibility Advisory Committee Meeting\"\n",
    "    \"\"\"\n",
    "    date = datetime_iso.split(\"T\")[0]\n",
    "    meeting_type = meeting_type.replace(\" \", \"-\")\n",
    "    meeting_type = meeting_type.replace(\",\",\"\")\n",
    "    return f\"{date}.{meeting_type}\""
   ]
  },
  {
   "cell_type": "code",
   "execution_count": 98,
   "id": "5944661c-9635-49d1-a7f7-61d44cafe6b3",
   "metadata": {},
   "outputs": [],
   "source": [
    "for d in data:\n",
    "    fname = f'{get_fname(d[\"datetime_iso\"], d[\"meeting_type\"])}.pdf'\n",
    "    minutes_fpath = f\"{minutes_path_new}/{fname}\"\n",
    "    if os.path.isfile(minutes_fpath):\n",
    "        d[\"minutes_filename\"] = fname\n",
    "    else:\n",
    "        d[\"minutes_filename\"] = \"\""
   ]
  },
  {
   "cell_type": "code",
   "execution_count": 101,
   "id": "f7aaed3e-47f1-4d18-ac25-bcae970cc110",
   "metadata": {},
   "outputs": [],
   "source": [
    "json.dump(data, open(\"scraping/generated_data/all_meeting_data_2.json\", \"w\"))"
   ]
  }
 ],
 "metadata": {
  "kernelspec": {
   "display_name": "Python 3 (ipykernel)",
   "language": "python",
   "name": "python3"
  },
  "language_info": {
   "codemirror_mode": {
    "name": "ipython",
    "version": 3
   },
   "file_extension": ".py",
   "mimetype": "text/x-python",
   "name": "python",
   "nbconvert_exporter": "python",
   "pygments_lexer": "ipython3",
   "version": "3.9.13"
  }
 },
 "nbformat": 4,
 "nbformat_minor": 5
}
